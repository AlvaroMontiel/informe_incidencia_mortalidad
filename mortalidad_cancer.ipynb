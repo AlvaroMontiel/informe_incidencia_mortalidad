{
 "cells": [
  {
   "cell_type": "code",
   "execution_count": 1,
   "id": "d8aaf68e-b85e-4810-8979-645142dc2659",
   "metadata": {},
   "outputs": [],
   "source": [
    "import pandas as pd\n",
    "import numpy as np"
   ]
  },
  {
   "cell_type": "code",
   "execution_count": 3,
   "id": "42059712-ca5e-4f2d-8946-f753a10fd64a",
   "metadata": {},
   "outputs": [
    {
     "name": "stdin",
     "output_type": "stream",
     "text": [
      "Ingrese Sistema operativo (Windows / Mac) Windows\n"
     ]
    },
    {
     "name": "stderr",
     "output_type": "stream",
     "text": [
      "C:\\Users\\Usuario\\AppData\\Local\\Temp\\ipykernel_8772\\1648072909.py:18: DtypeWarning: Columns (21,36,37,38,39,40,41,42,43,44,45,46,47,48,49,50,58,60,64,67,69,70,71,73,76,82,86,89,90,91,93,96,97,98,99,100) have mixed types. Specify dtype option on import or set low_memory=False.\n",
      "  df = pd.read_csv(defunciones, sep=';', encoding='Latin-1')\n"
     ]
    }
   ],
   "source": [
    "so = input('Ingrese Sistema operativo (Windows / Mac)')\n",
    "\n",
    "if so == 'Windows':\n",
    "    path = \"D:\\\\Datasets\\\\defunciones_deis_abierto\\\\\"\n",
    "    path_ =  'D:\\\\Datasets\\\\poblacion\\\\'\n",
    "    nom = \"DEF_1990_2018.csv\"\n",
    "    nom_ = \"pob_ine_censo2017_proyecciones.xlsx\"  \n",
    "    defunciones = path+nom\n",
    "    poblacion = path_+nom_\n",
    "elif so == 'Mac':\n",
    "    path = \"/Users/alvaro/Documents/Data_Science/datasets/defunciones/\"\n",
    "    path_ = \"/Users/alvaro/Desktop/\"\n",
    "    nom = \"DEF_2010_2018.csv\"\n",
    "    nom_ = \"estimaciones-y-proyecciones-2002-2035-comunas.xlsx\"  \n",
    "    defunciones = path+nom\n",
    "    poblacion = path_+nom_\n",
    "    \n",
    "df = pd.read_csv(defunciones, sep=';', encoding='Latin-1')\n",
    "df_ = pd.read_excel(poblacion)\n"
   ]
  },
  {
   "cell_type": "code",
   "execution_count": 4,
   "id": "dcb3d395-d25c-4238-b096-00da76272627",
   "metadata": {
    "tags": []
   },
   "outputs": [],
   "source": [
    "choice_list = ['00-04 años','05-09 años','10-14 años',\n",
    "              '15-19 años', '20-24 años', '25-29 años',\n",
    "              '30-34 años', '35-39 años', '40-44 años',\n",
    "              '45-49 años', '50-54 años', '55-59 años',\n",
    "              '60-64 años', '65-69 años', '70-74 años',\n",
    "              '75-79 años', '80 y más']\n",
    "condiciones = [(df['EDAD_TIPO'] >= 2) | (df['EDAD_TIPO'] == 1) & (df['EDAD_CANT'] <= 4),\n",
    "              (df['EDAD_TIPO'] == 1) & (df['EDAD_CANT'] >= 5) & (df['EDAD_CANT'] <= 9),\n",
    "              (df['EDAD_TIPO'] == 1) & (df['EDAD_CANT'] >= 10) & (df['EDAD_CANT'] <= 14),\n",
    "              (df['EDAD_TIPO'] == 1) & (df['EDAD_CANT'] >= 15) & (df['EDAD_CANT'] <= 19),\n",
    "              (df['EDAD_TIPO'] == 1) & (df['EDAD_CANT'] >= 20) & (df['EDAD_CANT'] <= 24),\n",
    "              (df['EDAD_TIPO'] == 1) & (df['EDAD_CANT'] >= 25) & (df['EDAD_CANT'] <= 29),\n",
    "              (df['EDAD_TIPO'] == 1) & (df['EDAD_CANT'] >= 30) & (df['EDAD_CANT'] <= 34),\n",
    "              (df['EDAD_TIPO'] == 1) & (df['EDAD_CANT'] >= 35) & (df['EDAD_CANT'] <= 39),\n",
    "              (df['EDAD_TIPO'] == 1) & (df['EDAD_CANT'] >= 40) & (df['EDAD_CANT'] <= 44),\n",
    "              (df['EDAD_TIPO'] == 1) & (df['EDAD_CANT'] >= 45) & (df['EDAD_CANT'] <= 49),\n",
    "              (df['EDAD_TIPO'] == 1) & (df['EDAD_CANT'] >= 50) & (df['EDAD_CANT'] <= 54),\n",
    "              (df['EDAD_TIPO'] == 1) & (df['EDAD_CANT'] >= 55) & (df['EDAD_CANT'] <= 59),\n",
    "              (df['EDAD_TIPO'] == 1) & (df['EDAD_CANT'] >= 60) & (df['EDAD_CANT'] <= 64),\n",
    "              (df['EDAD_TIPO'] == 1) & (df['EDAD_CANT'] >= 65) & (df['EDAD_CANT'] <= 69),\n",
    "              (df['EDAD_TIPO'] == 1) & (df['EDAD_CANT'] >= 70) & (df['EDAD_CANT'] <= 74),\n",
    "              (df['EDAD_TIPO'] == 1) & (df['EDAD_CANT'] >= 75) & (df['EDAD_CANT'] <= 79),\n",
    "              (df['EDAD_TIPO'] == 1) & (df['EDAD_CANT'] >= 80)]\n",
    "df['edad_grupo'] = np.select(condiciones, choice_list, default='Not Specified')\n",
    "condiciones = [(df_['Edad'] >= 0) & (df_['Edad'] <= 4),\n",
    "              (df_['Edad'] >= 5) & (df_['Edad'] <= 9),\n",
    "              (df_['Edad'] >= 10) & (df_['Edad'] <= 14),\n",
    "              (df_['Edad'] >= 15) & (df_['Edad'] <= 19),\n",
    "              (df_['Edad'] >= 20) & (df_['Edad'] <= 24),\n",
    "              (df_['Edad'] >= 25) & (df_['Edad'] <= 29),\n",
    "              (df_['Edad'] >= 30) & (df_['Edad'] <= 34),\n",
    "              (df_['Edad'] >= 35) & (df_['Edad'] <= 39),\n",
    "              (df_['Edad'] >= 40) & (df_['Edad'] <= 44),\n",
    "              (df_['Edad'] >= 45) & (df_['Edad'] <= 49),\n",
    "              (df_['Edad'] >= 50) & (df_['Edad'] <= 54),\n",
    "              (df_['Edad'] >= 55) & (df_['Edad'] <= 59),\n",
    "              (df_['Edad'] >= 60) & (df_['Edad'] <= 64),\n",
    "              (df_['Edad'] >= 65) & (df_['Edad'] <= 69),\n",
    "              (df_['Edad'] >= 70) & (df_['Edad'] <= 74),\n",
    "              (df_['Edad'] >= 75) & (df_['Edad'] <= 79),\n",
    "              (df_['Edad'] >= 80)]\n",
    "df_['edad_grupo'] = np.select(condiciones, choice_list, default='Not Specified')"
   ]
  },
  {
   "cell_type": "code",
   "execution_count": 16,
   "id": "85d2928c-aaa9-4d2a-a894-ac7dc7477d46",
   "metadata": {},
   "outputs": [],
   "source": [
    "df_defunciones = df[['ID_FALLECIDO', 'DIA_DEF', 'MES_DEF', 'ANO_DEF', 'FECHA_DEF', 'SEXO', 'GLOSA_SEXO',\n",
    "                     'FECHA_NACIMIENTO', 'EDAD_CANT', 'EDAD_TIPO', 'GLOSA_EDAD_TIPO', 'OCUPACION', 'GLOSA_OCUPACION',\n",
    "                     'CATEGORIA', 'GLOSA_CATEGORIA', 'REG_RES', 'GLOSA_REG_RES', 'COMUNA', 'GLOSA_COMUNA_RESIDENCIA',\n",
    "                     'URBANO_RURAL', 'DIAG1', 'GLOSA_SUBCATEGORIA_DIAG1', 'CODIGO_CATEGORIA_DIAG1', 'GLOSA_CATEGORIA_DIAG1',\n",
    "                     'CODIGO_GRUPO_DIAG1', 'GLOSA_GRUPO_DIAG1', 'CAPITULO_DIAG1', 'GLOSA_CAPITULO_DIAG1']]\n",
    "\n",
    "df_defunciones = df_defunciones.query('CAPITULO_DIAG1 == \"C00-D48\"')"
   ]
  },
  {
   "cell_type": "markdown",
   "id": "48a5d716-2647-4d4a-b079-ff9563806a44",
   "metadata": {
    "tags": []
   },
   "source": [
    "## Eliminar las defunciones por D00-D09, D10-D36, D37,38,39,40,41,42,43,44, D470, D472, D477, D479 y D48"
   ]
  },
  {
   "cell_type": "markdown",
   "id": "d591cca3-5bab-4511-bbcb-49ea6e3a01b8",
   "metadata": {},
   "source": [
    "Nota: Se analizarán solo los D45, D46, D47.1 y D47.3"
   ]
  },
  {
   "cell_type": "code",
   "execution_count": 17,
   "id": "271c32c7-aeba-4714-b45b-d01749b833b3",
   "metadata": {},
   "outputs": [
    {
     "name": "stdout",
     "output_type": "stream",
     "text": [
      "Largo del df_defunciones= 500647\n",
      "Largo del df_defunciones= 483434\n"
     ]
    }
   ],
   "source": [
    "print(f'Largo del df_defunciones= {df_defunciones.shape[0]}')\n",
    "df_defunciones = df_defunciones[df_defunciones.CODIGO_GRUPO_DIAG1 != 'D00-D09']\n",
    "df_defunciones = df_defunciones[df_defunciones.CODIGO_GRUPO_DIAG1 != 'D10-D36']\n",
    "df_defunciones = df_defunciones[df_defunciones.CODIGO_CATEGORIA_DIAG1 != 'D37']\n",
    "df_defunciones = df_defunciones[df_defunciones.CODIGO_CATEGORIA_DIAG1 != 'D38']\n",
    "df_defunciones = df_defunciones[df_defunciones.CODIGO_CATEGORIA_DIAG1 != 'D39']\n",
    "df_defunciones = df_defunciones[df_defunciones.CODIGO_CATEGORIA_DIAG1 != 'D40']\n",
    "df_defunciones = df_defunciones[df_defunciones.CODIGO_CATEGORIA_DIAG1 != 'D41']\n",
    "df_defunciones = df_defunciones[df_defunciones.CODIGO_CATEGORIA_DIAG1 != 'D42']\n",
    "df_defunciones = df_defunciones[df_defunciones.CODIGO_CATEGORIA_DIAG1 != 'D43']\n",
    "df_defunciones = df_defunciones[df_defunciones.CODIGO_CATEGORIA_DIAG1 != 'D44']\n",
    "df_defunciones = df_defunciones[df_defunciones.CODIGO_CATEGORIA_DIAG1 != 'D48']\n",
    "df_defunciones = df_defunciones[df_defunciones.DIAG1 != 'D470']\n",
    "df_defunciones = df_defunciones[df_defunciones.DIAG1 != 'D472']\n",
    "df_defunciones = df_defunciones[df_defunciones.DIAG1 != 'D477']\n",
    "df_defunciones = df_defunciones[df_defunciones.DIAG1 != 'D479']\n",
    "print(f'Largo del df_defunciones= {df_defunciones.shape[0]}')"
   ]
  },
  {
   "cell_type": "code",
   "execution_count": 18,
   "id": "3271491a-a59c-43e3-bb5f-28a690fb7749",
   "metadata": {},
   "outputs": [],
   "source": [
    "condiciones = [\n",
    "    (df_defunciones['CODIGO_CATEGORIA_DIAG1'] == 'C00'),\n",
    "    (df_defunciones['CODIGO_CATEGORIA_DIAG1'] == 'C01') | (df_defunciones['CODIGO_CATEGORIA_DIAG1'] == 'C02'),\n",
    "    (df_defunciones['CODIGO_CATEGORIA_DIAG1'] == 'C03') | (df_defunciones['CODIGO_CATEGORIA_DIAG1'] == 'C04') | (df_defunciones['CODIGO_CATEGORIA_DIAG1'] == 'C05') | (df_defunciones['CODIGO_CATEGORIA_DIAG1'] == 'C06'),\n",
    "    (df_defunciones['CODIGO_CATEGORIA_DIAG1'] == 'C07') | (df_defunciones['CODIGO_CATEGORIA_DIAG1'] == 'C08'),\n",
    "    (df_defunciones['CODIGO_CATEGORIA_DIAG1'] == 'C09'),\n",
    "    (df_defunciones['CODIGO_CATEGORIA_DIAG1'] == 'C10'),\n",
    "    (df_defunciones['CODIGO_CATEGORIA_DIAG1'] == 'C11'),\n",
    "    (df_defunciones['CODIGO_CATEGORIA_DIAG1'] == 'C12') | (df_defunciones['CODIGO_CATEGORIA_DIAG1'] == 'C13'),\n",
    "    (df_defunciones['CODIGO_CATEGORIA_DIAG1'] == 'C14'),\n",
    "    (df_defunciones['CODIGO_CATEGORIA_DIAG1'] == 'C15'),\n",
    "    (df_defunciones['CODIGO_CATEGORIA_DIAG1'] == 'C16'),\n",
    "    (df_defunciones['CODIGO_CATEGORIA_DIAG1'] == 'C17'),\n",
    "    (df_defunciones['CODIGO_CATEGORIA_DIAG1'] == 'C18'),\n",
    "    (df_defunciones['CODIGO_CATEGORIA_DIAG1'] == 'C19') | (df_defunciones['CODIGO_CATEGORIA_DIAG1'] == 'C20'),\n",
    "    (df_defunciones['CODIGO_CATEGORIA_DIAG1'] == 'C21'),    \n",
    "    (df_defunciones['CODIGO_CATEGORIA_DIAG1'] == 'C22'),\n",
    "    (df_defunciones['CODIGO_CATEGORIA_DIAG1'] == 'C23') | (df_defunciones['CODIGO_CATEGORIA_DIAG1'] == 'C24'),\n",
    "    (df_defunciones['CODIGO_CATEGORIA_DIAG1'] == 'C25'),\n",
    "    (df_defunciones['CODIGO_CATEGORIA_DIAG1'] == 'C30') | (df_defunciones['CODIGO_CATEGORIA_DIAG1'] == 'C31'), \n",
    "    (df_defunciones['CODIGO_CATEGORIA_DIAG1'] == 'C32'),\n",
    "    (df_defunciones['CODIGO_CATEGORIA_DIAG1'] == 'C33') | (df_defunciones['CODIGO_CATEGORIA_DIAG1'] == 'C34'),\n",
    "    (df_defunciones['CODIGO_CATEGORIA_DIAG1'] == 'C37') | (df_defunciones['CODIGO_CATEGORIA_DIAG1'] == 'C38'),\n",
    "    (df_defunciones['CODIGO_CATEGORIA_DIAG1'] == 'C40') | (df_defunciones['CODIGO_CATEGORIA_DIAG1'] == 'C41'),\n",
    "    (df_defunciones['CODIGO_CATEGORIA_DIAG1'] == 'C43'),\n",
    "    (df_defunciones['CODIGO_CATEGORIA_DIAG1'] == 'C44'),    \n",
    "    (df_defunciones['CODIGO_CATEGORIA_DIAG1'] == 'C45'),\n",
    "    (df_defunciones['CODIGO_CATEGORIA_DIAG1'] == 'C46'),\n",
    "    (df_defunciones['CODIGO_CATEGORIA_DIAG1'] == 'C47') | (df_defunciones['CODIGO_CATEGORIA_DIAG1'] == 'C48') | (df_defunciones['CODIGO_CATEGORIA_DIAG1'] == 'C49'),\n",
    "    (df_defunciones['CODIGO_CATEGORIA_DIAG1'] == 'C50'),\n",
    "    (df_defunciones['CODIGO_CATEGORIA_DIAG1'] == 'C51'),\n",
    "    (df_defunciones['CODIGO_CATEGORIA_DIAG1'] == 'C52'),\n",
    "    (df_defunciones['CODIGO_CATEGORIA_DIAG1'] == 'C53'),\n",
    "    (df_defunciones['CODIGO_CATEGORIA_DIAG1'] == 'C54'),\n",
    "    (df_defunciones['CODIGO_CATEGORIA_DIAG1'] == 'C55'),\n",
    "    (df_defunciones['CODIGO_CATEGORIA_DIAG1'] == 'C56'),\n",
    "    (df_defunciones['CODIGO_CATEGORIA_DIAG1'] == 'C57'),\n",
    "    (df_defunciones['CODIGO_CATEGORIA_DIAG1'] == 'C58'),\n",
    "    (df_defunciones['CODIGO_CATEGORIA_DIAG1'] == 'C60'),\n",
    "    (df_defunciones['CODIGO_CATEGORIA_DIAG1'] == 'C61'),\n",
    "    (df_defunciones['CODIGO_CATEGORIA_DIAG1'] == 'C62'),\n",
    "    (df_defunciones['CODIGO_CATEGORIA_DIAG1'] == 'C63'),\n",
    "    (df_defunciones['CODIGO_CATEGORIA_DIAG1'] == 'C64'),\n",
    "    (df_defunciones['CODIGO_CATEGORIA_DIAG1'] == 'C65'),\n",
    "    (df_defunciones['CODIGO_CATEGORIA_DIAG1'] == 'C66'),\n",
    "    (df_defunciones['CODIGO_CATEGORIA_DIAG1'] == 'C67'),\n",
    "    (df_defunciones['CODIGO_CATEGORIA_DIAG1'] == 'C68'),\n",
    "    (df_defunciones['CODIGO_CATEGORIA_DIAG1'] == 'C69'),\n",
    "    (df_defunciones['CODIGO_CATEGORIA_DIAG1'] == 'C70') | (df_defunciones['CODIGO_CATEGORIA_DIAG1'] == 'C71') | (df_defunciones['CODIGO_CATEGORIA_DIAG1'] == 'C72'),\n",
    "    (df_defunciones['CODIGO_CATEGORIA_DIAG1'] == 'C73'),\n",
    "    (df_defunciones['CODIGO_CATEGORIA_DIAG1'] == 'C74'),\n",
    "    (df_defunciones['CODIGO_CATEGORIA_DIAG1'] == 'C75'),\n",
    "    (df_defunciones['CODIGO_CATEGORIA_DIAG1'] == 'C26') | (df_defunciones['CODIGO_CATEGORIA_DIAG1'] == 'C39') | (df_defunciones['CODIGO_CATEGORIA_DIAG1'] == 'C76') | (df_defunciones['CODIGO_CATEGORIA_DIAG1'] == 'C77') | (df_defunciones['CODIGO_CATEGORIA_DIAG1'] == 'C78') | (df_defunciones['CODIGO_CATEGORIA_DIAG1'] == 'C79') | (df_defunciones['CODIGO_CATEGORIA_DIAG1'] == 'C80'),\n",
    "    (df_defunciones['CODIGO_CATEGORIA_DIAG1'] == 'C81'),\n",
    "    (df_defunciones['CODIGO_CATEGORIA_DIAG1'] == 'C82') | (df_defunciones['CODIGO_CATEGORIA_DIAG1'] == 'C83') | (df_defunciones['CODIGO_CATEGORIA_DIAG1'] == 'C84') | (df_defunciones['CODIGO_CATEGORIA_DIAG1'] == 'C85') | (df_defunciones['CODIGO_CATEGORIA_DIAG1'] == 'C86') | (df_defunciones['CODIGO_CATEGORIA_DIAG1'] == 'C96'),\n",
    "    (df_defunciones['CODIGO_CATEGORIA_DIAG1'] == 'C88'),\n",
    "    (df_defunciones['CODIGO_CATEGORIA_DIAG1'] == 'C90'),\n",
    "    (df_defunciones['CODIGO_CATEGORIA_DIAG1'] == 'C91'),\n",
    "    (df_defunciones['CODIGO_CATEGORIA_DIAG1'] == 'C92') | (df_defunciones['CODIGO_CATEGORIA_DIAG1'] == 'C93') | (df_defunciones['CODIGO_CATEGORIA_DIAG1'] == 'C94'),\n",
    "    (df_defunciones['CODIGO_CATEGORIA_DIAG1'] == 'C95'),\n",
    "    (df_defunciones['CODIGO_CATEGORIA_DIAG1'] == 'C97'),\n",
    "    (df_defunciones['CODIGO_CATEGORIA_DIAG1'] == 'D45') | (df_defunciones['CODIGO_CATEGORIA_DIAG1'] == 'D47'),\n",
    "    (df_defunciones['CODIGO_CATEGORIA_DIAG1'] == 'D46'),\n",
    "]\n",
    "\n",
    "choice_1 = [\"C00\", \"C01-C02\", \"C03-C06\", \"C07-C08\", \"C09\", \"C10\", \"C11\", \"C12-C13\", \"C14\", \"C15\", \"C16\", \"C17\", \"C18\", \"C19-C20\", \"C21\", \"C22\", \"C23-C24\", \"C25\",\n",
    "           \"C30-C31\", \"C32\", \"C33-C34\", \"C37-C38\", \"C40-C41\", \"C43\", \"C44\", \"C45\", \"C46\", \"C47-C49\", \"C50\", \"C51\", \"C52\", \"C53\", \"C54\", \"C55\", \"C56\", \"C57\",\n",
    "           \"C58\", \"C60\", \"C61\", \"C62\", \"C63\", \"C64\", \"C65\", \"C66\", \"C67\", \"C68\", \"C69\", \"C70-C72\", \"C73\", \"C74\", \"C75\", \"C26, C39, C76-C80\", \n",
    "           \"C81\", \"C82-C85, C96\", \"C88\", \"C90\", \"C91\", \"C92-C94\", \"C95\", \"C97\", \"D45, D471, D473\", \"D46\"]\n",
    "\n",
    "\n",
    "choice_2 = [\"Labio\", \"Lengua\", \"Cavidad oral\", \"Glándulas salivales\", \"Amígdala\", \"Otros orofaringe\",\n",
    "            \"Nasofaringe\", \"Hipofaringe y seno piriforme\", \"Faringe y boca no especificada\",   \n",
    "           \"Esófago\", \"Estómago\", \"Intestino delgado\", \"Colon\", \"Recto\", \"Ano\", \"Hígado\", \"Vesícula biliar\",\n",
    "            \"Páncreas\", \"Cavidades nasales\", \"Laringe\", \"Tráquea, bronquios y pulmón\", \"Otros órganos torácicos\",\n",
    "            \"Huesos y cartílagos\", \"Melanoma de piel\", \"Piel no melanoma\", \"Mesotelioma\", \"Sarcoma de Kaposi\", \n",
    "            \"Tejidos blandos\", \"Mama\", \"Vulva\", \"Vagina\", \"Cuello uterino\", \"Cuerpo uterino\", \"Útero SAI\", \"Ovario\", \n",
    "            \"Otros órganos genitales femeninos\", \"Placenta\", \"Pene\", \"Próstata\", \"Testículo\", \"Otros genitales masculinos\",\n",
    "            \"Riñón\", \"Pelvis renal\", \"Uréter\", \"Vejiga urinaria\", \"Otros órganos urinarios\", \"Ojo\",\n",
    "            \"Encéfalo y sistema nervioso\", \"Tiroides\", \"Glándula suprarenal\", \"Otras glándulas endocrinas\", \n",
    "            \"Primario desconocido\", \"Linfoma de Hodgkin\", \"Linfoma no Hodgkin\", \"M múltiples\", \"Mieloma múltiple\",\n",
    "            \"Leucemia linfoide\", \"Leucemia mieloide\", \"Leucemia no especificada\", \n",
    "            \"Tumores malignos de sitios múltiples independientes\", \"Síndromes mieloproliferaticos crónicos\",\n",
    "            \"Síndromes mielodisplásicos\"]\n",
    "\n"
   ]
  },
  {
   "cell_type": "code",
   "execution_count": 19,
   "id": "4edb02e2-ca0c-4a98-9bea-d97592ac804c",
   "metadata": {},
   "outputs": [],
   "source": [
    "df_defunciones['CODIGO_CATEGORIA_IARC'] = np.select(condiciones, choice_1, default='Not Specified').copy()\n",
    "df_defunciones['GLOSA_CATEGORIA_IARC'] = np.select(condiciones, choice_2, default='Not Specified').copy()"
   ]
  },
  {
   "cell_type": "code",
   "execution_count": 34,
   "id": "74522030-535d-4c65-97a1-da314bf1cd0e",
   "metadata": {},
   "outputs": [],
   "source": [
    "valores_unicos = list()\n",
    "for i in df_defunciones[['CODIGO_CATEGORIA_DIAG1', 'CODIGO_CATEGORIA_IARC', 'GLOSA_CATEGORIA_IARC']].values.tolist():\n",
    "    valores_unicos.append(i[2])\n",
    "    \n",
    "for i in set(valores_unicos):\n",
    "    if i == 'Not Specified':\n",
    "        print('Se detecto un Not Specified')"
   ]
  },
  {
   "cell_type": "code",
   "execution_count": 36,
   "id": "278f9905-b09c-4eb9-b18b-053f9b3cb413",
   "metadata": {},
   "outputs": [
    {
     "name": "stdin",
     "output_type": "stream",
     "text": [
      "Ingresar año de inicio: 2010\n",
      "Ingresar año de finalización: 2012\n",
      "Ingresar año a mitad del periodo: 2011\n",
      "Seleccionar entre nacional o Antofagasta nacional\n"
     ]
    }
   ],
   "source": [
    "año_inicio = str(input('Ingresar año de inicio:'))\n",
    "año_fin = str(input('Ingresar año de finalización:'))\n",
    "poblacion_mitad_periodo = int(input('Ingresar año a mitad del periodo:'))\n",
    "nivel_territorial = input('Seleccionar entre nacional o Antofagasta')\n",
    "filtro = \"ANO_DEF >=\"+año_inicio+\"& ANO_DEF <=\"+año_fin\n",
    "\n",
    "if nivel_territorial == \"nacional\":\n",
    "    df_trienio = df_defunciones.query(filtro)\n",
    "elif nivel_territorial == \"Antofagasta\":\n",
    "    df_trienio = df_defunciones.query(filtro).query('REG_RES == 2')"
   ]
  },
  {
   "cell_type": "code",
   "execution_count": 42,
   "id": "94aec752-5497-4845-9c28-35e36a3186d6",
   "metadata": {},
   "outputs": [],
   "source": [
    "df_pais = df_trienio.groupby(['CODIGO_CATEGORIA_IARC', 'GLOSA_CATEGORIA_IARC' ], as_index = False)['DIA_DEF'].count().rename(columns={'DIA_DEF':'num_muertes', \n",
    "                                                                                                                'CODIGO_CATEGORIA_IARC':'diag',\n",
    "                                                                                                                'GLOSA_CATEGORIA_IARC':'diag_glosa'})\n",
    "\n",
    "df_['conteo'] = 1\n",
    "poblacion_seleccion = 'Poblacion'+' '+str(poblacion_mitad_periodo)\n",
    "\n",
    "if nivel_territorial == \"nacional\":\n",
    "    df_pais['pob_riesgo'] = df_.groupby('conteo')[poblacion_seleccion].sum().values.tolist()[0]\n",
    "elif nivel_territorial == \"Antofagasta\":\n",
    "    df_ = df_.query('Region == 2').copy()\n",
    "    df_pais['pob_riesgo'] = df_.groupby('conteo')[poblacion_seleccion].sum().values.tolist()[0]"
   ]
  },
  {
   "cell_type": "code",
   "execution_count": 55,
   "id": "97c46b22-0176-461d-838c-07d8e5abf3e3",
   "metadata": {},
   "outputs": [
    {
     "name": "stdout",
     "output_type": "stream",
     "text": [
      "Estan todas las filas\n"
     ]
    }
   ],
   "source": [
    "base = 100000\n",
    "\n",
    "if df_pais.shape[0] == len(choice_1):\n",
    "    print('Estan todas las filas')\n",
    "    df_pais['tmb'] = round((df_pais['num_muertes']/3)/df_pais['pob_riesgo']*base,2)\n",
    "else:\n",
    "    print('faltan datos')"
   ]
  },
  {
   "cell_type": "code",
   "execution_count": 52,
   "id": "ae760166-78c5-4003-8f63-d249055a5339",
   "metadata": {},
   "outputs": [
    {
     "data": {
      "text/html": [
       "<div>\n",
       "<style scoped>\n",
       "    .dataframe tbody tr th:only-of-type {\n",
       "        vertical-align: middle;\n",
       "    }\n",
       "\n",
       "    .dataframe tbody tr th {\n",
       "        vertical-align: top;\n",
       "    }\n",
       "\n",
       "    .dataframe thead th {\n",
       "        text-align: right;\n",
       "    }\n",
       "</style>\n",
       "<table border=\"1\" class=\"dataframe\">\n",
       "  <thead>\n",
       "    <tr style=\"text-align: right;\">\n",
       "      <th></th>\n",
       "      <th>diag</th>\n",
       "      <th>diag_glosa</th>\n",
       "      <th>num_muertes</th>\n",
       "      <th>pob_riesgo</th>\n",
       "      <th>tmb</th>\n",
       "    </tr>\n",
       "  </thead>\n",
       "  <tbody>\n",
       "    <tr>\n",
       "      <th>0</th>\n",
       "      <td>C00</td>\n",
       "      <td>Labio</td>\n",
       "      <td>24</td>\n",
       "      <td>17254159</td>\n",
       "      <td>0.05</td>\n",
       "    </tr>\n",
       "    <tr>\n",
       "      <th>1</th>\n",
       "      <td>C01-C02</td>\n",
       "      <td>Lengua</td>\n",
       "      <td>153</td>\n",
       "      <td>17254159</td>\n",
       "      <td>0.30</td>\n",
       "    </tr>\n",
       "    <tr>\n",
       "      <th>2</th>\n",
       "      <td>C03-C06</td>\n",
       "      <td>Cavidad oral</td>\n",
       "      <td>174</td>\n",
       "      <td>17254159</td>\n",
       "      <td>0.34</td>\n",
       "    </tr>\n",
       "    <tr>\n",
       "      <th>3</th>\n",
       "      <td>C07-C08</td>\n",
       "      <td>Glándulas salivales</td>\n",
       "      <td>108</td>\n",
       "      <td>17254159</td>\n",
       "      <td>0.21</td>\n",
       "    </tr>\n",
       "    <tr>\n",
       "      <th>4</th>\n",
       "      <td>C09</td>\n",
       "      <td>Amígdala</td>\n",
       "      <td>45</td>\n",
       "      <td>17254159</td>\n",
       "      <td>0.09</td>\n",
       "    </tr>\n",
       "  </tbody>\n",
       "</table>\n",
       "</div>"
      ],
      "text/plain": [
       "      diag           diag_glosa  num_muertes  pob_riesgo   tmb\n",
       "0      C00                Labio           24    17254159  0.05\n",
       "1  C01-C02               Lengua          153    17254159  0.30\n",
       "2  C03-C06         Cavidad oral          174    17254159  0.34\n",
       "3  C07-C08  Glándulas salivales          108    17254159  0.21\n",
       "4      C09             Amígdala           45    17254159  0.09"
      ]
     },
     "execution_count": 52,
     "metadata": {},
     "output_type": "execute_result"
    }
   ],
   "source": [
    "df_pais.head()"
   ]
  }
 ],
 "metadata": {
  "kernelspec": {
   "display_name": "Python 3 (ipykernel)",
   "language": "python",
   "name": "python3"
  },
  "language_info": {
   "codemirror_mode": {
    "name": "ipython",
    "version": 3
   },
   "file_extension": ".py",
   "mimetype": "text/x-python",
   "name": "python",
   "nbconvert_exporter": "python",
   "pygments_lexer": "ipython3",
   "version": "3.10.0"
  }
 },
 "nbformat": 4,
 "nbformat_minor": 5
}
