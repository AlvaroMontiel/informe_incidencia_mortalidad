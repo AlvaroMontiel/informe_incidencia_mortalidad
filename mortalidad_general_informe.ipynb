{
 "cells": [
  {
   "cell_type": "markdown",
   "id": "1bb8377b-d8e5-4e4a-ad79-2307e556a6b5",
   "metadata": {},
   "source": [
    "# Cálculo de las tasas de mortalidad bruta y ajustada por edad y sexo"
   ]
  },
  {
   "cell_type": "markdown",
   "id": "bbb9116a-22b4-4bcc-9841-b4a04e47e7c5",
   "metadata": {},
   "source": [
    "## Importar paquetes"
   ]
  },
  {
   "cell_type": "code",
   "execution_count": 1,
   "id": "d46bd821-667b-4365-a1ad-e8b195254d29",
   "metadata": {},
   "outputs": [],
   "source": [
    "import pandas as pd\n",
    "import numpy as np"
   ]
  },
  {
   "cell_type": "markdown",
   "id": "e482643e-18d4-4545-a746-036b7ae94d9e",
   "metadata": {},
   "source": [
    "## Rutas de archivos"
   ]
  },
  {
   "cell_type": "code",
   "execution_count": 2,
   "id": "6ab18988-a584-411b-a7ea-9a7c63ff36be",
   "metadata": {},
   "outputs": [],
   "source": [
    "path = \"/Users/alvaro/Documents/Data_Science/datasets/defunciones/\"\n",
    "path_ = \"/Users/alvaro/Documents/Data_Science/datasets/poblacion/\""
   ]
  },
  {
   "cell_type": "markdown",
   "id": "9f6aacac-553f-487f-8362-cf2363ac09e9",
   "metadata": {},
   "source": [
    "## Nombres de archivos"
   ]
  },
  {
   "cell_type": "code",
   "execution_count": 3,
   "id": "3201ca6b-f115-4b3e-9780-4b7729d3c734",
   "metadata": {},
   "outputs": [],
   "source": [
    "nom = \"DEF_2010_2018.csv\"\n",
    "nom_ = \"estimaciones-y-proyecciones-2002-2035-comunas.xlsx\"\n",
    "defunciones = path+nom\n",
    "poblacion = path_+nom_"
   ]
  },
  {
   "cell_type": "markdown",
   "id": "903b4b81-4b8e-4146-a0c5-81bf8e0fd811",
   "metadata": {},
   "source": [
    "## Dataframes"
   ]
  },
  {
   "cell_type": "markdown",
   "id": "8c342854-7964-4dfe-977f-6e20a8985b39",
   "metadata": {},
   "source": [
    "### Defunciones"
   ]
  },
  {
   "cell_type": "code",
   "execution_count": 4,
   "id": "9670741e-61af-41bf-802f-d60f67d2d40d",
   "metadata": {},
   "outputs": [
    {
     "name": "stderr",
     "output_type": "stream",
     "text": [
      "/usr/local/Cellar/jupyterlab/3.1.14_1/libexec/lib/python3.9/site-packages/IPython/core/interactiveshell.py:3444: DtypeWarning: Columns (21,58,60,64,67,69,70,71,73,76,82,86,89,90,91,93,96,97,98,99,100) have mixed types.Specify dtype option on import or set low_memory=False.\n",
      "  exec(code_obj, self.user_global_ns, self.user_ns)\n"
     ]
    }
   ],
   "source": [
    "df = pd.read_csv(defunciones, sep=';', encoding='Latin-1')"
   ]
  },
  {
   "cell_type": "markdown",
   "id": "72bd5154-b549-4439-a6c2-da066af04711",
   "metadata": {},
   "source": [
    "### Poblacion"
   ]
  },
  {
   "cell_type": "code",
   "execution_count": 5,
   "id": "efd7ee9b-0b17-4ec6-99c0-4d257d55a85f",
   "metadata": {},
   "outputs": [],
   "source": [
    "df_ = pd.read_excel(poblacion)"
   ]
  },
  {
   "cell_type": "markdown",
   "id": "3574a5af-3f2e-4db3-92d2-685808196eec",
   "metadata": {},
   "source": [
    "## Crear variable para poder hacer el groupby"
   ]
  },
  {
   "cell_type": "code",
   "execution_count": 6,
   "id": "71659747-997c-4ecb-b826-c60f02452dc3",
   "metadata": {},
   "outputs": [],
   "source": [
    "df['muerto'] = 1"
   ]
  },
  {
   "cell_type": "code",
   "execution_count": 7,
   "id": "9a01a969-0c2b-4235-9830-e50c3b6809af",
   "metadata": {},
   "outputs": [],
   "source": [
    "df_['conteo'] = 1"
   ]
  },
  {
   "cell_type": "markdown",
   "id": "d70df35d-2690-4b07-954b-8a1317463bcb",
   "metadata": {},
   "source": [
    "## Crear variables por quinquenio de edad "
   ]
  },
  {
   "cell_type": "markdown",
   "id": "474dc158-3e8b-4a1e-bc83-82dfc7f34923",
   "metadata": {
    "tags": []
   },
   "source": [
    "### Quinquenio de edad defunciones"
   ]
  },
  {
   "cell_type": "code",
   "execution_count": 8,
   "id": "92a07f1b-3130-42ef-bd3b-966e21ec359f",
   "metadata": {
    "tags": []
   },
   "outputs": [],
   "source": [
    "choice_list = ['00-04 años','05-09 años','10-14 años',\n",
    "              '15-19 años', '20-24 años', '25-29 años',\n",
    "              '30-34 años', '35-39 años', '40-44 años',\n",
    "              '45-49 años', '50-54 años', '55-59 años',\n",
    "              '60-64 años', '65-69 años', '70-74 años',\n",
    "              '75-79 años', '80 y más']\n",
    "condiciones = [(df['EDAD_TIPO'] >= 2) | (df['EDAD_TIPO'] == 1) & (df['EDAD_CANT'] <= 4),\n",
    "              (df['EDAD_TIPO'] == 1) & (df['EDAD_CANT'] >= 5) & (df['EDAD_CANT'] <= 9),\n",
    "              (df['EDAD_TIPO'] == 1) & (df['EDAD_CANT'] >= 10) & (df['EDAD_CANT'] <= 14),\n",
    "              (df['EDAD_TIPO'] == 1) & (df['EDAD_CANT'] >= 15) & (df['EDAD_CANT'] <= 19),\n",
    "              (df['EDAD_TIPO'] == 1) & (df['EDAD_CANT'] >= 20) & (df['EDAD_CANT'] <= 24),\n",
    "              (df['EDAD_TIPO'] == 1) & (df['EDAD_CANT'] >= 25) & (df['EDAD_CANT'] <= 29),\n",
    "              (df['EDAD_TIPO'] == 1) & (df['EDAD_CANT'] >= 30) & (df['EDAD_CANT'] <= 34),\n",
    "              (df['EDAD_TIPO'] == 1) & (df['EDAD_CANT'] >= 35) & (df['EDAD_CANT'] <= 39),\n",
    "              (df['EDAD_TIPO'] == 1) & (df['EDAD_CANT'] >= 40) & (df['EDAD_CANT'] <= 44),\n",
    "              (df['EDAD_TIPO'] == 1) & (df['EDAD_CANT'] >= 45) & (df['EDAD_CANT'] <= 49),\n",
    "              (df['EDAD_TIPO'] == 1) & (df['EDAD_CANT'] >= 50) & (df['EDAD_CANT'] <= 54),\n",
    "              (df['EDAD_TIPO'] == 1) & (df['EDAD_CANT'] >= 55) & (df['EDAD_CANT'] <= 59),\n",
    "              (df['EDAD_TIPO'] == 1) & (df['EDAD_CANT'] >= 60) & (df['EDAD_CANT'] <= 64),\n",
    "              (df['EDAD_TIPO'] == 1) & (df['EDAD_CANT'] >= 65) & (df['EDAD_CANT'] <= 69),\n",
    "              (df['EDAD_TIPO'] == 1) & (df['EDAD_CANT'] >= 70) & (df['EDAD_CANT'] <= 74),\n",
    "              (df['EDAD_TIPO'] == 1) & (df['EDAD_CANT'] >= 75) & (df['EDAD_CANT'] <= 79),\n",
    "              (df['EDAD_TIPO'] == 1) & (df['EDAD_CANT'] >= 80)]\n",
    "df['edad_grupo'] = np.select(condiciones, choice_list, default='Not Specified')"
   ]
  },
  {
   "cell_type": "markdown",
   "id": "4c4b9c8f-510c-4ca4-8ce2-a58ceccfcd58",
   "metadata": {
    "tags": []
   },
   "source": [
    "### Quinquenio de edad poblacion"
   ]
  },
  {
   "cell_type": "code",
   "execution_count": 9,
   "id": "c89b3eab-cf40-48c2-bbf1-b94cefee98b8",
   "metadata": {
    "tags": []
   },
   "outputs": [],
   "source": [
    "choice_list = ['00-04 años','05-09 años','10-14 años',\n",
    "              '15-19 años', '20-24 años', '25-29 años',\n",
    "              '30-34 años', '35-39 años', '40-44 años',\n",
    "              '45-49 años', '50-54 años', '55-59 años',\n",
    "              '60-64 años', '65-69 años', '70-74 años',\n",
    "              '75-79 años', '80 y más']\n",
    "condiciones = [(df_['Edad'] >= 0) & (df_['Edad'] <= 4),\n",
    "              (df_['Edad'] >= 5) & (df_['Edad'] <= 9),\n",
    "              (df_['Edad'] >= 10) & (df_['Edad'] <= 14),\n",
    "              (df_['Edad'] >= 15) & (df_['Edad'] <= 19),\n",
    "              (df_['Edad'] >= 20) & (df_['Edad'] <= 24),\n",
    "              (df_['Edad'] >= 25) & (df_['Edad'] <= 29),\n",
    "              (df_['Edad'] >= 30) & (df_['Edad'] <= 34),\n",
    "              (df_['Edad'] >= 35) & (df_['Edad'] <= 39),\n",
    "              (df_['Edad'] >= 40) & (df_['Edad'] <= 44),\n",
    "              (df_['Edad'] >= 45) & (df_['Edad'] <= 49),\n",
    "              (df_['Edad'] >= 50) & (df_['Edad'] <= 54),\n",
    "              (df_['Edad'] >= 55) & (df_['Edad'] <= 59),\n",
    "              (df_['Edad'] >= 60) & (df_['Edad'] <= 64),\n",
    "              (df_['Edad'] >= 65) & (df_['Edad'] <= 69),\n",
    "              (df_['Edad'] >= 70) & (df_['Edad'] <= 74),\n",
    "              (df_['Edad'] >= 75) & (df_['Edad'] <= 79),\n",
    "              (df_['Edad'] >= 80)]\n",
    "df_['edad_grupo'] = np.select(condiciones, choice_list, default='Not Specified')"
   ]
  },
  {
   "cell_type": "code",
   "execution_count": 10,
   "id": "c1eb9a39-d385-47f0-be45-720cc0df0935",
   "metadata": {},
   "outputs": [
    {
     "data": {
      "text/html": [
       "<div>\n",
       "<style scoped>\n",
       "    .dataframe tbody tr th:only-of-type {\n",
       "        vertical-align: middle;\n",
       "    }\n",
       "\n",
       "    .dataframe tbody tr th {\n",
       "        vertical-align: top;\n",
       "    }\n",
       "\n",
       "    .dataframe thead th {\n",
       "        text-align: right;\n",
       "    }\n",
       "</style>\n",
       "<table border=\"1\" class=\"dataframe\">\n",
       "  <thead>\n",
       "    <tr style=\"text-align: right;\">\n",
       "      <th></th>\n",
       "      <th>Region</th>\n",
       "      <th>Nombre Region</th>\n",
       "      <th>Provincia</th>\n",
       "      <th>Nombre Provincia</th>\n",
       "      <th>Comuna</th>\n",
       "      <th>Nombre Comuna</th>\n",
       "      <th>Sexo</th>\n",
       "      <th>Edad</th>\n",
       "      <th>Poblacion 2002</th>\n",
       "      <th>Poblacion 2003</th>\n",
       "      <th>...</th>\n",
       "      <th>Poblacion 2028</th>\n",
       "      <th>Poblacion 2029</th>\n",
       "      <th>Poblacion 2030</th>\n",
       "      <th>Poblacion 2031</th>\n",
       "      <th>Poblacion 2032</th>\n",
       "      <th>Poblacion 2033</th>\n",
       "      <th>Poblacion 2034</th>\n",
       "      <th>Poblacion 2035</th>\n",
       "      <th>conteo</th>\n",
       "      <th>edad_grupo</th>\n",
       "    </tr>\n",
       "  </thead>\n",
       "  <tbody>\n",
       "    <tr>\n",
       "      <th>0</th>\n",
       "      <td>1</td>\n",
       "      <td>Tarapacá</td>\n",
       "      <td>11</td>\n",
       "      <td>Iquique</td>\n",
       "      <td>1101</td>\n",
       "      <td>Iquique</td>\n",
       "      <td>1</td>\n",
       "      <td>0</td>\n",
       "      <td>1469</td>\n",
       "      <td>1395</td>\n",
       "      <td>...</td>\n",
       "      <td>1483</td>\n",
       "      <td>1466</td>\n",
       "      <td>1446</td>\n",
       "      <td>1441</td>\n",
       "      <td>1425</td>\n",
       "      <td>1410</td>\n",
       "      <td>1395</td>\n",
       "      <td>1378</td>\n",
       "      <td>1</td>\n",
       "      <td>00-04 años</td>\n",
       "    </tr>\n",
       "    <tr>\n",
       "      <th>1</th>\n",
       "      <td>1</td>\n",
       "      <td>Tarapacá</td>\n",
       "      <td>11</td>\n",
       "      <td>Iquique</td>\n",
       "      <td>1101</td>\n",
       "      <td>Iquique</td>\n",
       "      <td>1</td>\n",
       "      <td>1</td>\n",
       "      <td>1472</td>\n",
       "      <td>1379</td>\n",
       "      <td>...</td>\n",
       "      <td>1489</td>\n",
       "      <td>1470</td>\n",
       "      <td>1454</td>\n",
       "      <td>1434</td>\n",
       "      <td>1429</td>\n",
       "      <td>1413</td>\n",
       "      <td>1397</td>\n",
       "      <td>1383</td>\n",
       "      <td>1</td>\n",
       "      <td>00-04 años</td>\n",
       "    </tr>\n",
       "    <tr>\n",
       "      <th>2</th>\n",
       "      <td>1</td>\n",
       "      <td>Tarapacá</td>\n",
       "      <td>11</td>\n",
       "      <td>Iquique</td>\n",
       "      <td>1101</td>\n",
       "      <td>Iquique</td>\n",
       "      <td>1</td>\n",
       "      <td>2</td>\n",
       "      <td>1461</td>\n",
       "      <td>1377</td>\n",
       "      <td>...</td>\n",
       "      <td>1492</td>\n",
       "      <td>1477</td>\n",
       "      <td>1458</td>\n",
       "      <td>1440</td>\n",
       "      <td>1420</td>\n",
       "      <td>1412</td>\n",
       "      <td>1401</td>\n",
       "      <td>1383</td>\n",
       "      <td>1</td>\n",
       "      <td>00-04 años</td>\n",
       "    </tr>\n",
       "    <tr>\n",
       "      <th>3</th>\n",
       "      <td>1</td>\n",
       "      <td>Tarapacá</td>\n",
       "      <td>11</td>\n",
       "      <td>Iquique</td>\n",
       "      <td>1101</td>\n",
       "      <td>Iquique</td>\n",
       "      <td>1</td>\n",
       "      <td>3</td>\n",
       "      <td>1464</td>\n",
       "      <td>1376</td>\n",
       "      <td>...</td>\n",
       "      <td>1491</td>\n",
       "      <td>1474</td>\n",
       "      <td>1457</td>\n",
       "      <td>1439</td>\n",
       "      <td>1422</td>\n",
       "      <td>1401</td>\n",
       "      <td>1395</td>\n",
       "      <td>1380</td>\n",
       "      <td>1</td>\n",
       "      <td>00-04 años</td>\n",
       "    </tr>\n",
       "    <tr>\n",
       "      <th>4</th>\n",
       "      <td>1</td>\n",
       "      <td>Tarapacá</td>\n",
       "      <td>11</td>\n",
       "      <td>Iquique</td>\n",
       "      <td>1101</td>\n",
       "      <td>Iquique</td>\n",
       "      <td>1</td>\n",
       "      <td>4</td>\n",
       "      <td>1462</td>\n",
       "      <td>1382</td>\n",
       "      <td>...</td>\n",
       "      <td>1489</td>\n",
       "      <td>1472</td>\n",
       "      <td>1456</td>\n",
       "      <td>1438</td>\n",
       "      <td>1418</td>\n",
       "      <td>1403</td>\n",
       "      <td>1383</td>\n",
       "      <td>1376</td>\n",
       "      <td>1</td>\n",
       "      <td>00-04 años</td>\n",
       "    </tr>\n",
       "    <tr>\n",
       "      <th>...</th>\n",
       "      <td>...</td>\n",
       "      <td>...</td>\n",
       "      <td>...</td>\n",
       "      <td>...</td>\n",
       "      <td>...</td>\n",
       "      <td>...</td>\n",
       "      <td>...</td>\n",
       "      <td>...</td>\n",
       "      <td>...</td>\n",
       "      <td>...</td>\n",
       "      <td>...</td>\n",
       "      <td>...</td>\n",
       "      <td>...</td>\n",
       "      <td>...</td>\n",
       "      <td>...</td>\n",
       "      <td>...</td>\n",
       "      <td>...</td>\n",
       "      <td>...</td>\n",
       "      <td>...</td>\n",
       "      <td>...</td>\n",
       "      <td>...</td>\n",
       "    </tr>\n",
       "    <tr>\n",
       "      <th>56047</th>\n",
       "      <td>16</td>\n",
       "      <td>Ñuble</td>\n",
       "      <td>163</td>\n",
       "      <td>Punilla</td>\n",
       "      <td>16305</td>\n",
       "      <td>San Nicolás</td>\n",
       "      <td>2</td>\n",
       "      <td>76</td>\n",
       "      <td>22</td>\n",
       "      <td>24</td>\n",
       "      <td>...</td>\n",
       "      <td>57</td>\n",
       "      <td>59</td>\n",
       "      <td>62</td>\n",
       "      <td>64</td>\n",
       "      <td>67</td>\n",
       "      <td>71</td>\n",
       "      <td>73</td>\n",
       "      <td>75</td>\n",
       "      <td>1</td>\n",
       "      <td>75-79 años</td>\n",
       "    </tr>\n",
       "    <tr>\n",
       "      <th>56048</th>\n",
       "      <td>16</td>\n",
       "      <td>Ñuble</td>\n",
       "      <td>163</td>\n",
       "      <td>Punilla</td>\n",
       "      <td>16305</td>\n",
       "      <td>San Nicolás</td>\n",
       "      <td>2</td>\n",
       "      <td>77</td>\n",
       "      <td>22</td>\n",
       "      <td>23</td>\n",
       "      <td>...</td>\n",
       "      <td>52</td>\n",
       "      <td>54</td>\n",
       "      <td>56</td>\n",
       "      <td>58</td>\n",
       "      <td>60</td>\n",
       "      <td>63</td>\n",
       "      <td>67</td>\n",
       "      <td>68</td>\n",
       "      <td>1</td>\n",
       "      <td>75-79 años</td>\n",
       "    </tr>\n",
       "    <tr>\n",
       "      <th>56049</th>\n",
       "      <td>16</td>\n",
       "      <td>Ñuble</td>\n",
       "      <td>163</td>\n",
       "      <td>Punilla</td>\n",
       "      <td>16305</td>\n",
       "      <td>San Nicolás</td>\n",
       "      <td>2</td>\n",
       "      <td>78</td>\n",
       "      <td>20</td>\n",
       "      <td>22</td>\n",
       "      <td>...</td>\n",
       "      <td>47</td>\n",
       "      <td>49</td>\n",
       "      <td>50</td>\n",
       "      <td>52</td>\n",
       "      <td>55</td>\n",
       "      <td>57</td>\n",
       "      <td>59</td>\n",
       "      <td>63</td>\n",
       "      <td>1</td>\n",
       "      <td>75-79 años</td>\n",
       "    </tr>\n",
       "    <tr>\n",
       "      <th>56050</th>\n",
       "      <td>16</td>\n",
       "      <td>Ñuble</td>\n",
       "      <td>163</td>\n",
       "      <td>Punilla</td>\n",
       "      <td>16305</td>\n",
       "      <td>San Nicolás</td>\n",
       "      <td>2</td>\n",
       "      <td>79</td>\n",
       "      <td>19</td>\n",
       "      <td>20</td>\n",
       "      <td>...</td>\n",
       "      <td>45</td>\n",
       "      <td>47</td>\n",
       "      <td>49</td>\n",
       "      <td>51</td>\n",
       "      <td>53</td>\n",
       "      <td>55</td>\n",
       "      <td>57</td>\n",
       "      <td>60</td>\n",
       "      <td>1</td>\n",
       "      <td>75-79 años</td>\n",
       "    </tr>\n",
       "    <tr>\n",
       "      <th>56051</th>\n",
       "      <td>16</td>\n",
       "      <td>Ñuble</td>\n",
       "      <td>163</td>\n",
       "      <td>Punilla</td>\n",
       "      <td>16305</td>\n",
       "      <td>San Nicolás</td>\n",
       "      <td>2</td>\n",
       "      <td>80</td>\n",
       "      <td>93</td>\n",
       "      <td>98</td>\n",
       "      <td>...</td>\n",
       "      <td>342</td>\n",
       "      <td>359</td>\n",
       "      <td>377</td>\n",
       "      <td>397</td>\n",
       "      <td>417</td>\n",
       "      <td>438</td>\n",
       "      <td>461</td>\n",
       "      <td>484</td>\n",
       "      <td>1</td>\n",
       "      <td>80 y más</td>\n",
       "    </tr>\n",
       "  </tbody>\n",
       "</table>\n",
       "<p>56052 rows × 44 columns</p>\n",
       "</div>"
      ],
      "text/plain": [
       "       Region Nombre Region  Provincia Nombre Provincia  Comuna Nombre Comuna  \\\n",
       "0           1      Tarapacá         11          Iquique    1101       Iquique   \n",
       "1           1      Tarapacá         11          Iquique    1101       Iquique   \n",
       "2           1      Tarapacá         11          Iquique    1101       Iquique   \n",
       "3           1      Tarapacá         11          Iquique    1101       Iquique   \n",
       "4           1      Tarapacá         11          Iquique    1101       Iquique   \n",
       "...       ...           ...        ...              ...     ...           ...   \n",
       "56047      16         Ñuble        163          Punilla   16305   San Nicolás   \n",
       "56048      16         Ñuble        163          Punilla   16305   San Nicolás   \n",
       "56049      16         Ñuble        163          Punilla   16305   San Nicolás   \n",
       "56050      16         Ñuble        163          Punilla   16305   San Nicolás   \n",
       "56051      16         Ñuble        163          Punilla   16305   San Nicolás   \n",
       "\n",
       "       Sexo  Edad  Poblacion 2002  Poblacion 2003  ...  Poblacion 2028  \\\n",
       "0         1     0            1469            1395  ...            1483   \n",
       "1         1     1            1472            1379  ...            1489   \n",
       "2         1     2            1461            1377  ...            1492   \n",
       "3         1     3            1464            1376  ...            1491   \n",
       "4         1     4            1462            1382  ...            1489   \n",
       "...     ...   ...             ...             ...  ...             ...   \n",
       "56047     2    76              22              24  ...              57   \n",
       "56048     2    77              22              23  ...              52   \n",
       "56049     2    78              20              22  ...              47   \n",
       "56050     2    79              19              20  ...              45   \n",
       "56051     2    80              93              98  ...             342   \n",
       "\n",
       "       Poblacion 2029  Poblacion 2030  Poblacion 2031  Poblacion 2032  \\\n",
       "0                1466            1446            1441            1425   \n",
       "1                1470            1454            1434            1429   \n",
       "2                1477            1458            1440            1420   \n",
       "3                1474            1457            1439            1422   \n",
       "4                1472            1456            1438            1418   \n",
       "...               ...             ...             ...             ...   \n",
       "56047              59              62              64              67   \n",
       "56048              54              56              58              60   \n",
       "56049              49              50              52              55   \n",
       "56050              47              49              51              53   \n",
       "56051             359             377             397             417   \n",
       "\n",
       "       Poblacion 2033  Poblacion 2034  Poblacion 2035  conteo  edad_grupo  \n",
       "0                1410            1395            1378       1  00-04 años  \n",
       "1                1413            1397            1383       1  00-04 años  \n",
       "2                1412            1401            1383       1  00-04 años  \n",
       "3                1401            1395            1380       1  00-04 años  \n",
       "4                1403            1383            1376       1  00-04 años  \n",
       "...               ...             ...             ...     ...         ...  \n",
       "56047              71              73              75       1  75-79 años  \n",
       "56048              63              67              68       1  75-79 años  \n",
       "56049              57              59              63       1  75-79 años  \n",
       "56050              55              57              60       1  75-79 años  \n",
       "56051             438             461             484       1    80 y más  \n",
       "\n",
       "[56052 rows x 44 columns]"
      ]
     },
     "execution_count": 10,
     "metadata": {},
     "output_type": "execute_result"
    }
   ],
   "source": [
    "df_"
   ]
  },
  {
   "cell_type": "code",
   "execution_count": 11,
   "id": "c30735ba-3aba-491b-b547-70d0512124e1",
   "metadata": {},
   "outputs": [
    {
     "data": {
      "text/html": [
       "<div>\n",
       "<style scoped>\n",
       "    .dataframe tbody tr th:only-of-type {\n",
       "        vertical-align: middle;\n",
       "    }\n",
       "\n",
       "    .dataframe tbody tr th {\n",
       "        vertical-align: top;\n",
       "    }\n",
       "\n",
       "    .dataframe thead th {\n",
       "        text-align: right;\n",
       "    }\n",
       "</style>\n",
       "<table border=\"1\" class=\"dataframe\">\n",
       "  <thead>\n",
       "    <tr style=\"text-align: right;\">\n",
       "      <th></th>\n",
       "      <th>edad_grupo</th>\n",
       "      <th>Edad</th>\n",
       "    </tr>\n",
       "  </thead>\n",
       "  <tbody>\n",
       "    <tr>\n",
       "      <th>0</th>\n",
       "      <td>00-04 años</td>\n",
       "      <td>0</td>\n",
       "    </tr>\n",
       "    <tr>\n",
       "      <th>1</th>\n",
       "      <td>00-04 años</td>\n",
       "      <td>1</td>\n",
       "    </tr>\n",
       "    <tr>\n",
       "      <th>2</th>\n",
       "      <td>00-04 años</td>\n",
       "      <td>2</td>\n",
       "    </tr>\n",
       "    <tr>\n",
       "      <th>3</th>\n",
       "      <td>00-04 años</td>\n",
       "      <td>3</td>\n",
       "    </tr>\n",
       "    <tr>\n",
       "      <th>4</th>\n",
       "      <td>00-04 años</td>\n",
       "      <td>4</td>\n",
       "    </tr>\n",
       "    <tr>\n",
       "      <th>...</th>\n",
       "      <td>...</td>\n",
       "      <td>...</td>\n",
       "    </tr>\n",
       "    <tr>\n",
       "      <th>56047</th>\n",
       "      <td>75-79 años</td>\n",
       "      <td>76</td>\n",
       "    </tr>\n",
       "    <tr>\n",
       "      <th>56048</th>\n",
       "      <td>75-79 años</td>\n",
       "      <td>77</td>\n",
       "    </tr>\n",
       "    <tr>\n",
       "      <th>56049</th>\n",
       "      <td>75-79 años</td>\n",
       "      <td>78</td>\n",
       "    </tr>\n",
       "    <tr>\n",
       "      <th>56050</th>\n",
       "      <td>75-79 años</td>\n",
       "      <td>79</td>\n",
       "    </tr>\n",
       "    <tr>\n",
       "      <th>56051</th>\n",
       "      <td>80 y más</td>\n",
       "      <td>80</td>\n",
       "    </tr>\n",
       "  </tbody>\n",
       "</table>\n",
       "<p>56052 rows × 2 columns</p>\n",
       "</div>"
      ],
      "text/plain": [
       "       edad_grupo  Edad\n",
       "0      00-04 años     0\n",
       "1      00-04 años     1\n",
       "2      00-04 años     2\n",
       "3      00-04 años     3\n",
       "4      00-04 años     4\n",
       "...           ...   ...\n",
       "56047  75-79 años    76\n",
       "56048  75-79 años    77\n",
       "56049  75-79 años    78\n",
       "56050  75-79 años    79\n",
       "56051    80 y más    80\n",
       "\n",
       "[56052 rows x 2 columns]"
      ]
     },
     "execution_count": 11,
     "metadata": {},
     "output_type": "execute_result"
    }
   ],
   "source": [
    "df_[['edad_grupo','Edad']]"
   ]
  },
  {
   "cell_type": "markdown",
   "id": "8cc6cb74-9182-4e1b-9349-235973427103",
   "metadata": {},
   "source": [
    "## Recortes de los Dataframes"
   ]
  },
  {
   "cell_type": "markdown",
   "id": "446a43e1-5fba-4267-be70-d335ec3dbe1c",
   "metadata": {},
   "source": [
    "### Recorte por quinquenios 2010-2012 y 2013-2015"
   ]
  },
  {
   "cell_type": "code",
   "execution_count": 12,
   "id": "dbf898dd-ca5d-45fb-ad2c-cda83e884aa2",
   "metadata": {},
   "outputs": [],
   "source": [
    "def_20102012 = df.query('ANO_DEF >= 2010 & ANO_DEF <= 2012')\n",
    "def_20132015 = df.query('ANO_DEF >= 2013 & ANO_DEF <= 2015')"
   ]
  },
  {
   "cell_type": "markdown",
   "id": "7c634afd-3758-4370-ac5a-3952f54d477d",
   "metadata": {
    "tags": []
   },
   "source": [
    "## Mortalidad por todas las causas total país"
   ]
  },
  {
   "cell_type": "markdown",
   "id": "d7dde44c-2691-4123-a503-af382efbe965",
   "metadata": {},
   "source": [
    "### Número de muertos"
   ]
  },
  {
   "cell_type": "markdown",
   "id": "c87dd534-dede-4da1-9866-eb1972d334f7",
   "metadata": {},
   "source": [
    "#### Total de muertos país"
   ]
  },
  {
   "cell_type": "code",
   "execution_count": 13,
   "id": "ade56a3d-3fb4-4878-91fa-f32d3583290b",
   "metadata": {},
   "outputs": [],
   "source": [
    "muertes_1 = def_20102012.groupby('muerto')['ANO_DEF'].count().values.tolist()"
   ]
  },
  {
   "cell_type": "code",
   "execution_count": 14,
   "id": "cf62c10e-f014-438b-a15d-5c92c363247f",
   "metadata": {},
   "outputs": [],
   "source": [
    "muertes_2 = def_20132015.groupby('muerto')['ANO_DEF'].count().values.tolist()"
   ]
  },
  {
   "cell_type": "code",
   "execution_count": 15,
   "id": "cde70169-8301-4981-8eb8-abef0bd6be59",
   "metadata": {},
   "outputs": [
    {
     "name": "stdout",
     "output_type": "stream",
     "text": [
      "Muertes 2010-2012: [291626]\n",
      "\n",
      "Muertes 2013-2015: [305057]\n"
     ]
    }
   ],
   "source": [
    "print(f\"Muertes 2010-2012: {muertes_1}\\n\\nMuertes 2013-2015: {muertes_2}\")"
   ]
  },
  {
   "cell_type": "markdown",
   "id": "30870ac8-089b-4e82-b582-c3373705ca5b",
   "metadata": {},
   "source": [
    "## Población "
   ]
  },
  {
   "cell_type": "code",
   "execution_count": 16,
   "id": "b5f52eea-a6d0-4ea2-beec-0b114d7b2327",
   "metadata": {},
   "outputs": [],
   "source": [
    "df_2011 = df_[['Region', 'Nombre Region', 'Comuna', 'Nombre Comuna', 'Sexo', 'Edad', 'edad_grupo', 'Poblacion 2011', 'conteo']]\n",
    "df_2014 = df_[['Region', 'Nombre Region', 'Comuna', 'Nombre Comuna', 'Sexo', 'Edad', 'edad_grupo', 'Poblacion 2014', 'conteo']]"
   ]
  },
  {
   "cell_type": "code",
   "execution_count": 17,
   "id": "9fe21231-879e-4019-874a-0fc7b5825b10",
   "metadata": {},
   "outputs": [],
   "source": [
    "poblacion_1 = df_2011.groupby('conteo')['Poblacion 2011'].sum().values.tolist()\n",
    "poblacion_2 = df_2014.groupby('conteo')['Poblacion 2014'].sum().values.tolist()"
   ]
  },
  {
   "cell_type": "markdown",
   "id": "dd3c3992-243e-44a8-89e2-8c75e05ced55",
   "metadata": {},
   "source": [
    "## Tasa de mortalidad bruta y ajustada país"
   ]
  },
  {
   "cell_type": "markdown",
   "id": "8c3f3823-41bc-4547-8ab3-3786593e6add",
   "metadata": {},
   "source": [
    "### Tasa bruta país"
   ]
  },
  {
   "cell_type": "code",
   "execution_count": 18,
   "id": "93865b12-e995-4442-aba7-ca4a296593cc",
   "metadata": {},
   "outputs": [],
   "source": [
    "datos = {'def_2010_2012':muertes_1, 'pob_2011': poblacion_1, 'def_2013_2015':muertes_2, 'pob_2014':poblacion_2}"
   ]
  },
  {
   "cell_type": "code",
   "execution_count": 19,
   "id": "949671db-d9c8-4c83-88fb-600e9825c2d9",
   "metadata": {},
   "outputs": [],
   "source": [
    "mortalidad_pais = pd.DataFrame(datos)"
   ]
  },
  {
   "cell_type": "code",
   "execution_count": 20,
   "id": "6b35fc41-3fb9-4ccb-bf29-34867440f6a4",
   "metadata": {},
   "outputs": [],
   "source": [
    "mortalidad_pais['tmb_2010_2012'] = round((mortalidad_pais['def_2010_2012']/3)/mortalidad_pais['pob_2011']*100000,2)\n",
    "mortalidad_pais['tmb_2013_2015'] = round((mortalidad_pais['def_2013_2015']/3)/mortalidad_pais['pob_2014']*100000,2)"
   ]
  },
  {
   "cell_type": "code",
   "execution_count": 21,
   "id": "c84f4437-8de1-43b7-bb46-f7597a7da8ff",
   "metadata": {},
   "outputs": [
    {
     "data": {
      "text/html": [
       "<div>\n",
       "<style scoped>\n",
       "    .dataframe tbody tr th:only-of-type {\n",
       "        vertical-align: middle;\n",
       "    }\n",
       "\n",
       "    .dataframe tbody tr th {\n",
       "        vertical-align: top;\n",
       "    }\n",
       "\n",
       "    .dataframe thead th {\n",
       "        text-align: right;\n",
       "    }\n",
       "</style>\n",
       "<table border=\"1\" class=\"dataframe\">\n",
       "  <thead>\n",
       "    <tr style=\"text-align: right;\">\n",
       "      <th></th>\n",
       "      <th>def_2010_2012</th>\n",
       "      <th>pob_2011</th>\n",
       "      <th>def_2013_2015</th>\n",
       "      <th>pob_2014</th>\n",
       "      <th>tmb_2010_2012</th>\n",
       "      <th>tmb_2013_2015</th>\n",
       "    </tr>\n",
       "  </thead>\n",
       "  <tbody>\n",
       "    <tr>\n",
       "      <th>0</th>\n",
       "      <td>291626</td>\n",
       "      <td>17254159</td>\n",
       "      <td>305057</td>\n",
       "      <td>17787617</td>\n",
       "      <td>563.39</td>\n",
       "      <td>571.67</td>\n",
       "    </tr>\n",
       "  </tbody>\n",
       "</table>\n",
       "</div>"
      ],
      "text/plain": [
       "   def_2010_2012  pob_2011  def_2013_2015  pob_2014  tmb_2010_2012  \\\n",
       "0         291626  17254159         305057  17787617         563.39   \n",
       "\n",
       "   tmb_2013_2015  \n",
       "0         571.67  "
      ]
     },
     "execution_count": 21,
     "metadata": {},
     "output_type": "execute_result"
    }
   ],
   "source": [
    "mortalidad_pais"
   ]
  },
  {
   "cell_type": "markdown",
   "id": "846b1f6b-073b-4c91-8715-6b354cf270ea",
   "metadata": {
    "tags": []
   },
   "source": [
    "### Tasa ajustada país"
   ]
  },
  {
   "cell_type": "code",
   "execution_count": 22,
   "id": "40a01346-ddd9-4d89-ba82-9f2255bae350",
   "metadata": {},
   "outputs": [],
   "source": [
    "def_20102012_hombres = def_20102012.query('SEXO == 1')\n",
    "def_20102012_mujeres = def_20102012.query('SEXO == 2')\n",
    "\n",
    "def_20132015_hombres = def_20102012.query('SEXO == 1')\n",
    "def_20132015_mujeres = def_20102012.query('SEXO == 2')"
   ]
  },
  {
   "cell_type": "code",
   "execution_count": 23,
   "id": "6c00d2ca-92ec-4f32-9777-c060d7d60d2d",
   "metadata": {},
   "outputs": [],
   "source": [
    "a = def_20102012_hombres.groupby(['edad_grupo', 'SEXO'], as_index=False)['muerto'].count()\n",
    "b = def_20102012_mujeres.groupby(['edad_grupo', 'SEXO'], as_index=False)['muerto'].count()\n",
    "c = def_20132015_hombres.groupby(['edad_grupo', 'SEXO'], as_index=False)['muerto'].count()\n",
    "d = def_20132015_mujeres.groupby(['edad_grupo', 'SEXO'], as_index=False)['muerto'].count()"
   ]
  },
  {
   "cell_type": "code",
   "execution_count": 24,
   "id": "fb659e27-fd34-45cc-8990-af69d8f5a46f",
   "metadata": {},
   "outputs": [],
   "source": [
    "a_ = df_2011.query('Sexo == 1').groupby('edad_grupo', as_index=False)['Poblacion 2011'].sum()\n",
    "b_ = df_2011.query('Sexo == 2').groupby('edad_grupo', as_index=False)['Poblacion 2011'].sum()\n",
    "c_ = df_2014.query('Sexo == 1').groupby('edad_grupo', as_index=False)['Poblacion 2014'].sum()\n",
    "d_ = df_2014.query('Sexo == 2').groupby('edad_grupo', as_index=False)['Poblacion 2014'].sum()"
   ]
  },
  {
   "cell_type": "code",
   "execution_count": 25,
   "id": "cd04362f-cfa2-4b35-b2ee-ec2528479a17",
   "metadata": {},
   "outputs": [],
   "source": [
    "a_ajus = pd.merge(a, a_)\n",
    "b_ajus = pd.merge(b, b_)\n",
    "c_ajus = pd.merge(c, c_)\n",
    "d_ajus = pd.merge(d, d_)"
   ]
  },
  {
   "cell_type": "code",
   "execution_count": 26,
   "id": "42956f65-4cec-49ac-978a-e08b891bddae",
   "metadata": {},
   "outputs": [],
   "source": [
    "a_ajus['tbm'] = (a_ajus['muerto']/3)/a_ajus['Poblacion 2011']\n",
    "b_ajus['tbm'] = (b_ajus['muerto']/3)/b_ajus['Poblacion 2011']\n",
    "c_ajus['tbm'] = (c_ajus['muerto']/3)/c_ajus['Poblacion 2014']\n",
    "d_ajus['tbm'] = (d_ajus['muerto']/3)/d_ajus['Poblacion 2014']"
   ]
  },
  {
   "cell_type": "code",
   "execution_count": 27,
   "id": "756de9bc-40d3-471e-836d-96ef65bba2d8",
   "metadata": {},
   "outputs": [],
   "source": [
    "pob_estandar = [664111,631212,608801,599050,609710,587104,523869,495728,479345,436397,376512,326760,266575,192751,146575,108082,115625]"
   ]
  },
  {
   "cell_type": "code",
   "execution_count": 28,
   "id": "58f0a012-254c-4892-b1a4-4d6905a0747e",
   "metadata": {},
   "outputs": [],
   "source": [
    "a_ajus['pob_estandar'] = pob_estandar\n",
    "b_ajus['pob_estandar'] = pob_estandar\n",
    "c_ajus['pob_estandar'] = pob_estandar\n",
    "d_ajus['pob_estandar'] = pob_estandar"
   ]
  },
  {
   "cell_type": "code",
   "execution_count": 29,
   "id": "e327c80d-ccd2-449c-ae86-d13c7758234f",
   "metadata": {},
   "outputs": [],
   "source": [
    "a_ajus['muertes_esperadas'] = a_ajus['tbm']*a_ajus['pob_estandar']\n",
    "b_ajus['muertes_esperadas'] = b_ajus['tbm']*b_ajus['pob_estandar']\n",
    "c_ajus['muertes_esperadas'] = c_ajus['tbm']*c_ajus['pob_estandar']\n",
    "d_ajus['muertes_esperadas'] = d_ajus['tbm']*d_ajus['pob_estandar']"
   ]
  },
  {
   "cell_type": "code",
   "execution_count": 30,
   "id": "9cd05d2a-47ce-4364-9fe3-33330f1b8892",
   "metadata": {},
   "outputs": [
    {
     "data": {
      "text/html": [
       "<div>\n",
       "<style scoped>\n",
       "    .dataframe tbody tr th:only-of-type {\n",
       "        vertical-align: middle;\n",
       "    }\n",
       "\n",
       "    .dataframe tbody tr th {\n",
       "        vertical-align: top;\n",
       "    }\n",
       "\n",
       "    .dataframe thead th {\n",
       "        text-align: right;\n",
       "    }\n",
       "</style>\n",
       "<table border=\"1\" class=\"dataframe\">\n",
       "  <thead>\n",
       "    <tr style=\"text-align: right;\">\n",
       "      <th></th>\n",
       "      <th>edad_grupo</th>\n",
       "      <th>SEXO</th>\n",
       "      <th>muerto</th>\n",
       "      <th>Poblacion 2011</th>\n",
       "      <th>tbm</th>\n",
       "      <th>pob_estandar</th>\n",
       "      <th>muertes_esperadas</th>\n",
       "    </tr>\n",
       "  </thead>\n",
       "  <tbody>\n",
       "    <tr>\n",
       "      <th>0</th>\n",
       "      <td>00-04 años</td>\n",
       "      <td>1</td>\n",
       "      <td>3521</td>\n",
       "      <td>633340</td>\n",
       "      <td>0.001853</td>\n",
       "      <td>664111</td>\n",
       "      <td>1230.689588</td>\n",
       "    </tr>\n",
       "    <tr>\n",
       "      <th>1</th>\n",
       "      <td>05-09 años</td>\n",
       "      <td>1</td>\n",
       "      <td>300</td>\n",
       "      <td>610829</td>\n",
       "      <td>0.000164</td>\n",
       "      <td>631212</td>\n",
       "      <td>103.336940</td>\n",
       "    </tr>\n",
       "    <tr>\n",
       "      <th>2</th>\n",
       "      <td>10-14 años</td>\n",
       "      <td>1</td>\n",
       "      <td>411</td>\n",
       "      <td>664750</td>\n",
       "      <td>0.000206</td>\n",
       "      <td>608801</td>\n",
       "      <td>125.469330</td>\n",
       "    </tr>\n",
       "    <tr>\n",
       "      <th>3</th>\n",
       "      <td>15-19 años</td>\n",
       "      <td>1</td>\n",
       "      <td>1440</td>\n",
       "      <td>729167</td>\n",
       "      <td>0.000658</td>\n",
       "      <td>599050</td>\n",
       "      <td>394.345877</td>\n",
       "    </tr>\n",
       "    <tr>\n",
       "      <th>4</th>\n",
       "      <td>20-24 años</td>\n",
       "      <td>1</td>\n",
       "      <td>2289</td>\n",
       "      <td>744315</td>\n",
       "      <td>0.001025</td>\n",
       "      <td>609710</td>\n",
       "      <td>625.015927</td>\n",
       "    </tr>\n",
       "    <tr>\n",
       "      <th>5</th>\n",
       "      <td>25-29 años</td>\n",
       "      <td>1</td>\n",
       "      <td>2304</td>\n",
       "      <td>671355</td>\n",
       "      <td>0.001144</td>\n",
       "      <td>587104</td>\n",
       "      <td>671.620636</td>\n",
       "    </tr>\n",
       "    <tr>\n",
       "      <th>6</th>\n",
       "      <td>30-34 años</td>\n",
       "      <td>1</td>\n",
       "      <td>2429</td>\n",
       "      <td>646359</td>\n",
       "      <td>0.001253</td>\n",
       "      <td>523869</td>\n",
       "      <td>656.228608</td>\n",
       "    </tr>\n",
       "    <tr>\n",
       "      <th>7</th>\n",
       "      <td>35-39 años</td>\n",
       "      <td>1</td>\n",
       "      <td>3188</td>\n",
       "      <td>628553</td>\n",
       "      <td>0.001691</td>\n",
       "      <td>495728</td>\n",
       "      <td>838.105333</td>\n",
       "    </tr>\n",
       "    <tr>\n",
       "      <th>8</th>\n",
       "      <td>40-44 años</td>\n",
       "      <td>1</td>\n",
       "      <td>4252</td>\n",
       "      <td>603028</td>\n",
       "      <td>0.002350</td>\n",
       "      <td>479345</td>\n",
       "      <td>1126.633667</td>\n",
       "    </tr>\n",
       "    <tr>\n",
       "      <th>9</th>\n",
       "      <td>45-49 años</td>\n",
       "      <td>1</td>\n",
       "      <td>6189</td>\n",
       "      <td>583032</td>\n",
       "      <td>0.003538</td>\n",
       "      <td>436397</td>\n",
       "      <td>1544.146824</td>\n",
       "    </tr>\n",
       "    <tr>\n",
       "      <th>10</th>\n",
       "      <td>50-54 años</td>\n",
       "      <td>1</td>\n",
       "      <td>8019</td>\n",
       "      <td>513808</td>\n",
       "      <td>0.005202</td>\n",
       "      <td>376512</td>\n",
       "      <td>1958.740572</td>\n",
       "    </tr>\n",
       "    <tr>\n",
       "      <th>11</th>\n",
       "      <td>55-59 años</td>\n",
       "      <td>1</td>\n",
       "      <td>9818</td>\n",
       "      <td>438299</td>\n",
       "      <td>0.007467</td>\n",
       "      <td>326760</td>\n",
       "      <td>2439.833447</td>\n",
       "    </tr>\n",
       "    <tr>\n",
       "      <th>12</th>\n",
       "      <td>60-64 años</td>\n",
       "      <td>1</td>\n",
       "      <td>12219</td>\n",
       "      <td>332825</td>\n",
       "      <td>0.012238</td>\n",
       "      <td>266575</td>\n",
       "      <td>3262.254864</td>\n",
       "    </tr>\n",
       "    <tr>\n",
       "      <th>13</th>\n",
       "      <td>65-69 años</td>\n",
       "      <td>1</td>\n",
       "      <td>15436</td>\n",
       "      <td>246303</td>\n",
       "      <td>0.020890</td>\n",
       "      <td>192751</td>\n",
       "      <td>4026.618211</td>\n",
       "    </tr>\n",
       "    <tr>\n",
       "      <th>14</th>\n",
       "      <td>70-74 años</td>\n",
       "      <td>1</td>\n",
       "      <td>17274</td>\n",
       "      <td>180435</td>\n",
       "      <td>0.031912</td>\n",
       "      <td>146575</td>\n",
       "      <td>4677.467509</td>\n",
       "    </tr>\n",
       "    <tr>\n",
       "      <th>15</th>\n",
       "      <td>75-79 años</td>\n",
       "      <td>1</td>\n",
       "      <td>19732</td>\n",
       "      <td>127269</td>\n",
       "      <td>0.051681</td>\n",
       "      <td>108082</td>\n",
       "      <td>5585.738407</td>\n",
       "    </tr>\n",
       "    <tr>\n",
       "      <th>16</th>\n",
       "      <td>80 y más</td>\n",
       "      <td>1</td>\n",
       "      <td>45769</td>\n",
       "      <td>137656</td>\n",
       "      <td>0.110829</td>\n",
       "      <td>115625</td>\n",
       "      <td>12814.650590</td>\n",
       "    </tr>\n",
       "  </tbody>\n",
       "</table>\n",
       "</div>"
      ],
      "text/plain": [
       "    edad_grupo  SEXO  muerto  Poblacion 2011       tbm  pob_estandar  \\\n",
       "0   00-04 años     1    3521          633340  0.001853        664111   \n",
       "1   05-09 años     1     300          610829  0.000164        631212   \n",
       "2   10-14 años     1     411          664750  0.000206        608801   \n",
       "3   15-19 años     1    1440          729167  0.000658        599050   \n",
       "4   20-24 años     1    2289          744315  0.001025        609710   \n",
       "5   25-29 años     1    2304          671355  0.001144        587104   \n",
       "6   30-34 años     1    2429          646359  0.001253        523869   \n",
       "7   35-39 años     1    3188          628553  0.001691        495728   \n",
       "8   40-44 años     1    4252          603028  0.002350        479345   \n",
       "9   45-49 años     1    6189          583032  0.003538        436397   \n",
       "10  50-54 años     1    8019          513808  0.005202        376512   \n",
       "11  55-59 años     1    9818          438299  0.007467        326760   \n",
       "12  60-64 años     1   12219          332825  0.012238        266575   \n",
       "13  65-69 años     1   15436          246303  0.020890        192751   \n",
       "14  70-74 años     1   17274          180435  0.031912        146575   \n",
       "15  75-79 años     1   19732          127269  0.051681        108082   \n",
       "16    80 y más     1   45769          137656  0.110829        115625   \n",
       "\n",
       "    muertes_esperadas  \n",
       "0         1230.689588  \n",
       "1          103.336940  \n",
       "2          125.469330  \n",
       "3          394.345877  \n",
       "4          625.015927  \n",
       "5          671.620636  \n",
       "6          656.228608  \n",
       "7          838.105333  \n",
       "8         1126.633667  \n",
       "9         1544.146824  \n",
       "10        1958.740572  \n",
       "11        2439.833447  \n",
       "12        3262.254864  \n",
       "13        4026.618211  \n",
       "14        4677.467509  \n",
       "15        5585.738407  \n",
       "16       12814.650590  "
      ]
     },
     "execution_count": 30,
     "metadata": {},
     "output_type": "execute_result"
    }
   ],
   "source": [
    "a_ajus"
   ]
  },
  {
   "cell_type": "code",
   "execution_count": 31,
   "id": "f150d339-b754-407d-85d3-35f5b5d4b492",
   "metadata": {},
   "outputs": [
    {
     "name": "stdout",
     "output_type": "stream",
     "text": [
      "Total de poblacion estándar = 7168207\n"
     ]
    }
   ],
   "source": [
    "total_pob_estandar = 0\n",
    "for i in pob_estandar:\n",
    "    total_pob_estandar += i\n",
    "print(f\"Total de poblacion estándar = {total_pob_estandar}\")"
   ]
  },
  {
   "cell_type": "code",
   "execution_count": 32,
   "id": "ac7547a7-3da6-4440-a4fb-e9d4112f1a8f",
   "metadata": {},
   "outputs": [],
   "source": [
    "muertes_esperadas_1 = a_ajus['muertes_esperadas'].values.tolist()\n",
    "muertes_esperadas_2 = b_ajus['muertes_esperadas'].values.tolist()\n",
    "muertes_esperadas_3 = c_ajus['muertes_esperadas'].values.tolist()\n",
    "muertes_esperadas_4 = d_ajus['muertes_esperadas'].values.tolist()"
   ]
  },
  {
   "cell_type": "code",
   "execution_count": 33,
   "id": "d769b873-3e2f-4d80-8115-958531a1ef61",
   "metadata": {},
   "outputs": [
    {
     "name": "stdout",
     "output_type": "stream",
     "text": [
      "muertes esperadas 1 = 42080.89633103048\n",
      "muertes esperadas 2 = 26333.75279347258\n",
      "muertes esperadas 3 = 38247.72621647114\n",
      "muertes esperadas 4 = 24039.507727394615\n",
      "\n"
     ]
    }
   ],
   "source": [
    "total_muertes_esperadas_1 = 0\n",
    "total_muertes_esperadas_2 = 0\n",
    "total_muertes_esperadas_3 = 0\n",
    "total_muertes_esperadas_4 = 0\n",
    "\n",
    "for i in muertes_esperadas_1:\n",
    "    total_muertes_esperadas_1 += i\n",
    "    \n",
    "for i in muertes_esperadas_2:\n",
    "    total_muertes_esperadas_2 += i\n",
    "    \n",
    "for i in muertes_esperadas_3:\n",
    "    total_muertes_esperadas_3 += i\n",
    "    \n",
    "for i in muertes_esperadas_4:\n",
    "    total_muertes_esperadas_4 += i\n",
    "    \n",
    "print(f\"muertes esperadas 1 = {total_muertes_esperadas_1}\\nmuertes esperadas 2 = {total_muertes_esperadas_2}\\nmuertes esperadas 3 = {total_muertes_esperadas_3}\\nmuertes esperadas 4 = {total_muertes_esperadas_4}\\n\")"
   ]
  },
  {
   "cell_type": "code",
   "execution_count": 34,
   "id": "8aad24f2-dd8b-4b1c-9168-9f13532f35ef",
   "metadata": {},
   "outputs": [
    {
     "name": "stdout",
     "output_type": "stream",
     "text": [
      "Tasa de mortalidad ajustada país\n",
      "quinquenio 2010-2012: 954.42\n",
      "Tasa de mortalidad ajustada país\n",
      "quinquenio 2013-2015: 868.94\n"
     ]
    }
   ],
   "source": [
    "tma_2010_2012 = round((total_muertes_esperadas_1 + total_muertes_esperadas_2)/total_pob_estandar*100000,2)\n",
    "tma_2013_2015 = round((total_muertes_esperadas_3 + total_muertes_esperadas_4)/total_pob_estandar*100000,2)\n",
    "print(f\"Tasa de mortalidad ajustada país\\nquinquenio 2010-2012: {tma_2010_2012}\\nTasa de mortalidad ajustada país\\nquinquenio 2013-2015: {tma_2013_2015}\")"
   ]
  },
  {
   "cell_type": "markdown",
   "id": "952b079d-080e-4424-9ba1-d36c3d661941",
   "metadata": {},
   "source": [
    "# TABLA MORTALIDAD PAIS "
   ]
  },
  {
   "cell_type": "code",
   "execution_count": 35,
   "id": "be13eef2-618c-428f-9a1b-61b6fc2e397b",
   "metadata": {},
   "outputs": [],
   "source": [
    "mortalidad_pais['tma_2010_2012'] = tma_2010_2012\n",
    "mortalidad_pais['tma_2013_2015'] = tma_2013_2015"
   ]
  },
  {
   "cell_type": "code",
   "execution_count": 36,
   "id": "99bd7c90-2268-4f40-a1e7-6f341d09be57",
   "metadata": {},
   "outputs": [
    {
     "data": {
      "text/html": [
       "<div>\n",
       "<style scoped>\n",
       "    .dataframe tbody tr th:only-of-type {\n",
       "        vertical-align: middle;\n",
       "    }\n",
       "\n",
       "    .dataframe tbody tr th {\n",
       "        vertical-align: top;\n",
       "    }\n",
       "\n",
       "    .dataframe thead th {\n",
       "        text-align: right;\n",
       "    }\n",
       "</style>\n",
       "<table border=\"1\" class=\"dataframe\">\n",
       "  <thead>\n",
       "    <tr style=\"text-align: right;\">\n",
       "      <th></th>\n",
       "      <th>def_2010_2012</th>\n",
       "      <th>pob_2011</th>\n",
       "      <th>def_2013_2015</th>\n",
       "      <th>pob_2014</th>\n",
       "      <th>tmb_2010_2012</th>\n",
       "      <th>tmb_2013_2015</th>\n",
       "      <th>tma_2010_2012</th>\n",
       "      <th>tma_2013_2015</th>\n",
       "    </tr>\n",
       "  </thead>\n",
       "  <tbody>\n",
       "    <tr>\n",
       "      <th>0</th>\n",
       "      <td>291626</td>\n",
       "      <td>17254159</td>\n",
       "      <td>305057</td>\n",
       "      <td>17787617</td>\n",
       "      <td>563.39</td>\n",
       "      <td>571.67</td>\n",
       "      <td>954.42</td>\n",
       "      <td>868.94</td>\n",
       "    </tr>\n",
       "  </tbody>\n",
       "</table>\n",
       "</div>"
      ],
      "text/plain": [
       "   def_2010_2012  pob_2011  def_2013_2015  pob_2014  tmb_2010_2012  \\\n",
       "0         291626  17254159         305057  17787617         563.39   \n",
       "\n",
       "   tmb_2013_2015  tma_2010_2012  tma_2013_2015  \n",
       "0         571.67         954.42         868.94  "
      ]
     },
     "execution_count": 36,
     "metadata": {},
     "output_type": "execute_result"
    }
   ],
   "source": [
    "mortalidad_pais"
   ]
  },
  {
   "cell_type": "code",
   "execution_count": 37,
   "id": "20283ca3-eeaa-42eb-bc9b-82b67a4f17cd",
   "metadata": {},
   "outputs": [
    {
     "name": "stdout",
     "output_type": "stream",
     "text": [
      "\\begin{tabular}{rrrrrrrr}\n",
      "\\toprule\n",
      " def\\_2010\\_2012 &  pob\\_2011 &  def\\_2013\\_2015 &  pob\\_2014 &  tmb\\_2010\\_2012 &  tmb\\_2013\\_2015 &  tma\\_2010\\_2012 &  tma\\_2013\\_2015 \\\\\n",
      "\\midrule\n",
      "        291626 &  17254159 &         305057 &  17787617 &         563.39 &         571.67 &         954.42 &         868.94 \\\\\n",
      "\\bottomrule\n",
      "\\end{tabular}\n",
      "\n"
     ]
    }
   ],
   "source": [
    "print(mortalidad_pais.to_latex(index=False))"
   ]
  },
  {
   "cell_type": "markdown",
   "id": "249ffff1-b02f-4394-b7d7-d34e1eac1708",
   "metadata": {},
   "source": [
    "# MORTALIDAD POR SEXO EN EL PAIS TODAS LAS CAUSAS"
   ]
  },
  {
   "cell_type": "code",
   "execution_count": 38,
   "id": "dad7146e-dfd5-48e9-88bc-9a206e179749",
   "metadata": {},
   "outputs": [],
   "source": [
    "mort_20102012_hombres = def_20102012.query('SEXO == 1').groupby('muerto', as_index=False)['ANO_DEF'].count()\n",
    "mort_20102012_mujeres = def_20102012.query('SEXO == 2').groupby('muerto', as_index=False)['ANO_DEF'].count()\n",
    "\n",
    "mort_20132015_hombres = def_20132015.query('SEXO == 1').groupby('muerto', as_index=False)['ANO_DEF'].count()\n",
    "mort_20132015_mujeres = def_20132015.query('SEXO == 2').groupby('muerto', as_index=False)['ANO_DEF'].count()"
   ]
  },
  {
   "cell_type": "code",
   "execution_count": 39,
   "id": "118079e8-5426-48e3-9cb1-753c6eae5606",
   "metadata": {},
   "outputs": [],
   "source": [
    "pob_2011_hombres = df_.query('Sexo == 1').groupby('conteo', as_index=False)['Poblacion 2011'].sum()\n",
    "pob_2011_mujeres = df_.query('Sexo == 2').groupby('conteo', as_index=False)['Poblacion 2011'].sum()\n",
    "\n",
    "pob_2014_hombres = df_.query('Sexo == 1').groupby('conteo', as_index=False)['Poblacion 2014'].sum()\n",
    "pob_2014_mujeres = df_.query('Sexo == 2').groupby('conteo', as_index=False)['Poblacion 2014'].sum()"
   ]
  },
  {
   "cell_type": "code",
   "execution_count": 40,
   "id": "81458fae-1f64-455e-a95d-0af3258fd299",
   "metadata": {},
   "outputs": [],
   "source": [
    "mort_20102012_hombres['pob_2011_hom'] = pob_2011_hombres['Poblacion 2011'].values.tolist()[0]\n",
    "mort_20102012_mujeres['pob_2011_muj'] = pob_2011_mujeres['Poblacion 2011'].values.tolist()[0]\n",
    "\n",
    "mort_20132015_hombres['pob_2014_hom'] = pob_2014_hombres['Poblacion 2014'].values.tolist()[0]\n",
    "mort_20132015_mujeres['pob_2014_muj'] = pob_2014_mujeres['Poblacion 2014'].values.tolist()[0]"
   ]
  },
  {
   "cell_type": "code",
   "execution_count": 41,
   "id": "786f70fa-ff50-4984-a716-6f1140f59255",
   "metadata": {},
   "outputs": [],
   "source": [
    "mort_20102012_hombres['tbm_20102012_hom'] = round((mort_20102012_hombres['ANO_DEF']/3)/mort_20102012_hombres['pob_2011_hom']*100000,2)\n",
    "mort_20102012_mujeres['tbm_20102012_muj'] = round((mort_20102012_mujeres['ANO_DEF']/3)/mort_20102012_mujeres['pob_2011_muj']*100000,2)\n",
    "\n",
    "mort_20132015_hombres['tbm_20132015_hom'] = round((mort_20132015_hombres['ANO_DEF']/3)/mort_20132015_hombres['pob_2014_hom']*100000,2)\n",
    "mort_20132015_mujeres['tbm_20132015_muj'] = round((mort_20132015_mujeres['ANO_DEF']/3)/mort_20132015_mujeres['pob_2014_muj']*100000,2)"
   ]
  },
  {
   "cell_type": "code",
   "execution_count": 42,
   "id": "570f598b-565b-4190-8df4-37dd3551e26d",
   "metadata": {},
   "outputs": [],
   "source": [
    "mort_20102012_hombres['porc_hom'] = round(mort_20102012_hombres['ANO_DEF']/muertes_1*100,0)\n",
    "mort_20102012_mujeres['porc_muj'] = round(mort_20102012_mujeres['ANO_DEF']/muertes_1*100,0)\n",
    "\n",
    "mort_20132015_hombres['porc_hom'] = round(mort_20132015_hombres['ANO_DEF']/muertes_2*100,0)\n",
    "mort_20132015_mujeres['porc_muj'] = round(mort_20132015_mujeres['ANO_DEF']/muertes_2*100,0)"
   ]
  },
  {
   "cell_type": "code",
   "execution_count": 43,
   "id": "96793154-d47c-4b7a-80ec-b665bdaee2ef",
   "metadata": {},
   "outputs": [
    {
     "name": "stdout",
     "output_type": "stream",
     "text": [
      "tablas de mortalidad \n",
      "Hombres 2010-2012:\n",
      "   muerto  ANO_DEF  pob_2011_hom  tbm_20102012_hom  porc_hom\n",
      "0       1   154590       8491323            606.85      53.0 \n",
      "\n",
      "Mujeres 2010-2012:\n",
      "   muerto  ANO_DEF  pob_2011_muj  tbm_20102012_muj  porc_muj\n",
      "0       1   137036       8762836            521.28      47.0\n",
      "\n",
      "Hombres 2013-2015:\n",
      "   muerto  ANO_DEF  pob_2014_hom  tbm_20132015_hom  porc_hom\n",
      "0       1   161585       8754428            615.25      53.0\n",
      "\n",
      "Mujeres 2013-2015:\n",
      "   muerto  ANO_DEF  pob_2014_muj  tbm_20132015_muj  porc_muj\n",
      "0       1   143418       9033189            529.23      47.0\n"
     ]
    }
   ],
   "source": [
    "print(f\"tablas de mortalidad \\nHombres 2010-2012:\\n{mort_20102012_hombres} \\\n",
    "\\n\\nMujeres 2010-2012:\\n{mort_20102012_mujeres}\\\n",
    "\\n\\nHombres 2013-2015:\\n{mort_20132015_hombres}\\\n",
    "\\n\\nMujeres 2013-2015:\\n{mort_20132015_mujeres}\")"
   ]
  },
  {
   "cell_type": "code",
   "execution_count": null,
   "id": "913a44f6-1e65-4042-8537-274462a0c4ca",
   "metadata": {},
   "outputs": [],
   "source": []
  },
  {
   "cell_type": "code",
   "execution_count": null,
   "id": "e01243dc-d9a4-43cc-a984-12aec39a7fad",
   "metadata": {},
   "outputs": [],
   "source": []
  },
  {
   "cell_type": "code",
   "execution_count": null,
   "id": "08157632-4ece-40ac-a139-ac3f505e439c",
   "metadata": {},
   "outputs": [],
   "source": []
  },
  {
   "cell_type": "markdown",
   "id": "f391cd4b-2b38-498f-b50f-f40ffbfee6fc",
   "metadata": {
    "tags": []
   },
   "source": [
    "### Tasa ajustada país para las tablas país por sexo"
   ]
  },
  {
   "cell_type": "code",
   "execution_count": 44,
   "id": "583a38c3-c617-49c2-b153-ec68efb27f2b",
   "metadata": {},
   "outputs": [],
   "source": [
    "def_20102012_hombres = def_20102012.query('SEXO == 1')\n",
    "def_20102012_mujeres = def_20102012.query('SEXO == 2')\n",
    "\n",
    "def_20132015_hombres = def_20102012.query('SEXO == 1')\n",
    "def_20132015_mujeres = def_20102012.query('SEXO == 2')"
   ]
  },
  {
   "cell_type": "code",
   "execution_count": 45,
   "id": "698ecdf2-bc56-4d56-a38b-9c0fe89e8fe3",
   "metadata": {},
   "outputs": [],
   "source": [
    "a = def_20102012_hombres.groupby('edad_grupo', as_index=False)['muerto'].count()\n",
    "b = def_20102012_mujeres.groupby('edad_grupo', as_index=False)['muerto'].count()\n",
    "c = def_20132015_hombres.groupby('edad_grupo', as_index=False)['muerto'].count()\n",
    "d = def_20132015_mujeres.groupby('edad_grupo', as_index=False)['muerto'].count()"
   ]
  },
  {
   "cell_type": "code",
   "execution_count": 46,
   "id": "bf9c9ce9-afdc-4e56-a88f-91903edaa146",
   "metadata": {},
   "outputs": [
    {
     "data": {
      "text/html": [
       "<div>\n",
       "<style scoped>\n",
       "    .dataframe tbody tr th:only-of-type {\n",
       "        vertical-align: middle;\n",
       "    }\n",
       "\n",
       "    .dataframe tbody tr th {\n",
       "        vertical-align: top;\n",
       "    }\n",
       "\n",
       "    .dataframe thead th {\n",
       "        text-align: right;\n",
       "    }\n",
       "</style>\n",
       "<table border=\"1\" class=\"dataframe\">\n",
       "  <thead>\n",
       "    <tr style=\"text-align: right;\">\n",
       "      <th></th>\n",
       "      <th>edad_grupo</th>\n",
       "      <th>muerto</th>\n",
       "    </tr>\n",
       "  </thead>\n",
       "  <tbody>\n",
       "    <tr>\n",
       "      <th>0</th>\n",
       "      <td>00-04 años</td>\n",
       "      <td>3521</td>\n",
       "    </tr>\n",
       "    <tr>\n",
       "      <th>1</th>\n",
       "      <td>05-09 años</td>\n",
       "      <td>300</td>\n",
       "    </tr>\n",
       "    <tr>\n",
       "      <th>2</th>\n",
       "      <td>10-14 años</td>\n",
       "      <td>411</td>\n",
       "    </tr>\n",
       "    <tr>\n",
       "      <th>3</th>\n",
       "      <td>15-19 años</td>\n",
       "      <td>1440</td>\n",
       "    </tr>\n",
       "    <tr>\n",
       "      <th>4</th>\n",
       "      <td>20-24 años</td>\n",
       "      <td>2289</td>\n",
       "    </tr>\n",
       "    <tr>\n",
       "      <th>5</th>\n",
       "      <td>25-29 años</td>\n",
       "      <td>2304</td>\n",
       "    </tr>\n",
       "    <tr>\n",
       "      <th>6</th>\n",
       "      <td>30-34 años</td>\n",
       "      <td>2429</td>\n",
       "    </tr>\n",
       "    <tr>\n",
       "      <th>7</th>\n",
       "      <td>35-39 años</td>\n",
       "      <td>3188</td>\n",
       "    </tr>\n",
       "    <tr>\n",
       "      <th>8</th>\n",
       "      <td>40-44 años</td>\n",
       "      <td>4252</td>\n",
       "    </tr>\n",
       "    <tr>\n",
       "      <th>9</th>\n",
       "      <td>45-49 años</td>\n",
       "      <td>6189</td>\n",
       "    </tr>\n",
       "    <tr>\n",
       "      <th>10</th>\n",
       "      <td>50-54 años</td>\n",
       "      <td>8019</td>\n",
       "    </tr>\n",
       "    <tr>\n",
       "      <th>11</th>\n",
       "      <td>55-59 años</td>\n",
       "      <td>9818</td>\n",
       "    </tr>\n",
       "    <tr>\n",
       "      <th>12</th>\n",
       "      <td>60-64 años</td>\n",
       "      <td>12219</td>\n",
       "    </tr>\n",
       "    <tr>\n",
       "      <th>13</th>\n",
       "      <td>65-69 años</td>\n",
       "      <td>15436</td>\n",
       "    </tr>\n",
       "    <tr>\n",
       "      <th>14</th>\n",
       "      <td>70-74 años</td>\n",
       "      <td>17274</td>\n",
       "    </tr>\n",
       "    <tr>\n",
       "      <th>15</th>\n",
       "      <td>75-79 años</td>\n",
       "      <td>19732</td>\n",
       "    </tr>\n",
       "    <tr>\n",
       "      <th>16</th>\n",
       "      <td>80 y más</td>\n",
       "      <td>45769</td>\n",
       "    </tr>\n",
       "  </tbody>\n",
       "</table>\n",
       "</div>"
      ],
      "text/plain": [
       "    edad_grupo  muerto\n",
       "0   00-04 años    3521\n",
       "1   05-09 años     300\n",
       "2   10-14 años     411\n",
       "3   15-19 años    1440\n",
       "4   20-24 años    2289\n",
       "5   25-29 años    2304\n",
       "6   30-34 años    2429\n",
       "7   35-39 años    3188\n",
       "8   40-44 años    4252\n",
       "9   45-49 años    6189\n",
       "10  50-54 años    8019\n",
       "11  55-59 años    9818\n",
       "12  60-64 años   12219\n",
       "13  65-69 años   15436\n",
       "14  70-74 años   17274\n",
       "15  75-79 años   19732\n",
       "16    80 y más   45769"
      ]
     },
     "execution_count": 46,
     "metadata": {},
     "output_type": "execute_result"
    }
   ],
   "source": [
    "a"
   ]
  },
  {
   "cell_type": "code",
   "execution_count": 47,
   "id": "fed7e6dd-9ffc-4bd0-b773-fbeae48c52fb",
   "metadata": {},
   "outputs": [],
   "source": [
    "a_ = df_2011.query('Sexo == 1').groupby('edad_grupo', as_index=False)['Poblacion 2011'].sum()\n",
    "b_ = df_2011.query('Sexo == 2').groupby('edad_grupo', as_index=False)['Poblacion 2011'].sum()\n",
    "c_ = df_2014.query('Sexo == 1').groupby('edad_grupo', as_index=False)['Poblacion 2014'].sum()\n",
    "d_ = df_2014.query('Sexo == 2').groupby('edad_grupo', as_index=False)['Poblacion 2014'].sum()"
   ]
  },
  {
   "cell_type": "code",
   "execution_count": 48,
   "id": "8b90d887-5c9e-4f69-bca7-fe493f1b3c3e",
   "metadata": {},
   "outputs": [
    {
     "data": {
      "text/html": [
       "<div>\n",
       "<style scoped>\n",
       "    .dataframe tbody tr th:only-of-type {\n",
       "        vertical-align: middle;\n",
       "    }\n",
       "\n",
       "    .dataframe tbody tr th {\n",
       "        vertical-align: top;\n",
       "    }\n",
       "\n",
       "    .dataframe thead th {\n",
       "        text-align: right;\n",
       "    }\n",
       "</style>\n",
       "<table border=\"1\" class=\"dataframe\">\n",
       "  <thead>\n",
       "    <tr style=\"text-align: right;\">\n",
       "      <th></th>\n",
       "      <th>edad_grupo</th>\n",
       "      <th>Poblacion 2011</th>\n",
       "    </tr>\n",
       "  </thead>\n",
       "  <tbody>\n",
       "    <tr>\n",
       "      <th>0</th>\n",
       "      <td>00-04 años</td>\n",
       "      <td>633340</td>\n",
       "    </tr>\n",
       "    <tr>\n",
       "      <th>1</th>\n",
       "      <td>05-09 años</td>\n",
       "      <td>610829</td>\n",
       "    </tr>\n",
       "    <tr>\n",
       "      <th>2</th>\n",
       "      <td>10-14 años</td>\n",
       "      <td>664750</td>\n",
       "    </tr>\n",
       "    <tr>\n",
       "      <th>3</th>\n",
       "      <td>15-19 años</td>\n",
       "      <td>729167</td>\n",
       "    </tr>\n",
       "    <tr>\n",
       "      <th>4</th>\n",
       "      <td>20-24 años</td>\n",
       "      <td>744315</td>\n",
       "    </tr>\n",
       "    <tr>\n",
       "      <th>5</th>\n",
       "      <td>25-29 años</td>\n",
       "      <td>671355</td>\n",
       "    </tr>\n",
       "    <tr>\n",
       "      <th>6</th>\n",
       "      <td>30-34 años</td>\n",
       "      <td>646359</td>\n",
       "    </tr>\n",
       "    <tr>\n",
       "      <th>7</th>\n",
       "      <td>35-39 años</td>\n",
       "      <td>628553</td>\n",
       "    </tr>\n",
       "    <tr>\n",
       "      <th>8</th>\n",
       "      <td>40-44 años</td>\n",
       "      <td>603028</td>\n",
       "    </tr>\n",
       "    <tr>\n",
       "      <th>9</th>\n",
       "      <td>45-49 años</td>\n",
       "      <td>583032</td>\n",
       "    </tr>\n",
       "    <tr>\n",
       "      <th>10</th>\n",
       "      <td>50-54 años</td>\n",
       "      <td>513808</td>\n",
       "    </tr>\n",
       "    <tr>\n",
       "      <th>11</th>\n",
       "      <td>55-59 años</td>\n",
       "      <td>438299</td>\n",
       "    </tr>\n",
       "    <tr>\n",
       "      <th>12</th>\n",
       "      <td>60-64 años</td>\n",
       "      <td>332825</td>\n",
       "    </tr>\n",
       "    <tr>\n",
       "      <th>13</th>\n",
       "      <td>65-69 años</td>\n",
       "      <td>246303</td>\n",
       "    </tr>\n",
       "    <tr>\n",
       "      <th>14</th>\n",
       "      <td>70-74 años</td>\n",
       "      <td>180435</td>\n",
       "    </tr>\n",
       "    <tr>\n",
       "      <th>15</th>\n",
       "      <td>75-79 años</td>\n",
       "      <td>127269</td>\n",
       "    </tr>\n",
       "    <tr>\n",
       "      <th>16</th>\n",
       "      <td>80 y más</td>\n",
       "      <td>137656</td>\n",
       "    </tr>\n",
       "  </tbody>\n",
       "</table>\n",
       "</div>"
      ],
      "text/plain": [
       "    edad_grupo  Poblacion 2011\n",
       "0   00-04 años          633340\n",
       "1   05-09 años          610829\n",
       "2   10-14 años          664750\n",
       "3   15-19 años          729167\n",
       "4   20-24 años          744315\n",
       "5   25-29 años          671355\n",
       "6   30-34 años          646359\n",
       "7   35-39 años          628553\n",
       "8   40-44 años          603028\n",
       "9   45-49 años          583032\n",
       "10  50-54 años          513808\n",
       "11  55-59 años          438299\n",
       "12  60-64 años          332825\n",
       "13  65-69 años          246303\n",
       "14  70-74 años          180435\n",
       "15  75-79 años          127269\n",
       "16    80 y más          137656"
      ]
     },
     "execution_count": 48,
     "metadata": {},
     "output_type": "execute_result"
    }
   ],
   "source": [
    "a_"
   ]
  },
  {
   "cell_type": "code",
   "execution_count": 49,
   "id": "6031c63c-8c9f-4472-8483-b6efcaf3928f",
   "metadata": {},
   "outputs": [],
   "source": [
    "a_ajus = pd.merge(a, a_)\n",
    "b_ajus = pd.merge(b, b_)\n",
    "c_ajus = pd.merge(c, c_)\n",
    "d_ajus = pd.merge(d, d_)"
   ]
  },
  {
   "cell_type": "code",
   "execution_count": 50,
   "id": "77cf6f69-9e58-494c-b6de-d6133405a0cd",
   "metadata": {},
   "outputs": [],
   "source": [
    "a_ajus['tbm'] = (a_ajus['muerto']/3)/a_ajus['Poblacion 2011']\n",
    "b_ajus['tbm'] = (b_ajus['muerto']/3)/b_ajus['Poblacion 2011']\n",
    "c_ajus['tbm'] = (c_ajus['muerto']/3)/c_ajus['Poblacion 2014']\n",
    "d_ajus['tbm'] = (d_ajus['muerto']/3)/d_ajus['Poblacion 2014']"
   ]
  },
  {
   "cell_type": "code",
   "execution_count": 51,
   "id": "35bde8e6-c702-4b10-9ad6-eb8a4852fbd1",
   "metadata": {},
   "outputs": [],
   "source": [
    "pob_estandar = [664111,631212,608801,599050,609710,587104,523869,495728,479345,436397,376512,326760,266575,192751,146575,108082,115625]"
   ]
  },
  {
   "cell_type": "code",
   "execution_count": 52,
   "id": "e7d835f7-cf43-473e-887c-98e8845ec79f",
   "metadata": {},
   "outputs": [],
   "source": [
    "a_ajus['pob_estandar'] = pob_estandar\n",
    "b_ajus['pob_estandar'] = pob_estandar\n",
    "c_ajus['pob_estandar'] = pob_estandar\n",
    "d_ajus['pob_estandar'] = pob_estandar"
   ]
  },
  {
   "cell_type": "code",
   "execution_count": 53,
   "id": "b2451e2c-bdda-4107-b8c1-1c870e1ca9e5",
   "metadata": {},
   "outputs": [],
   "source": [
    "a_ajus['muertes_esperadas'] = a_ajus['tbm']*a_ajus['pob_estandar']\n",
    "b_ajus['muertes_esperadas'] = b_ajus['tbm']*b_ajus['pob_estandar']\n",
    "c_ajus['muertes_esperadas'] = c_ajus['tbm']*c_ajus['pob_estandar']\n",
    "d_ajus['muertes_esperadas'] = d_ajus['tbm']*d_ajus['pob_estandar']"
   ]
  },
  {
   "cell_type": "code",
   "execution_count": 54,
   "id": "0c4e7889-24dd-4a85-bcfb-aa1fad235667",
   "metadata": {},
   "outputs": [
    {
     "data": {
      "text/html": [
       "<div>\n",
       "<style scoped>\n",
       "    .dataframe tbody tr th:only-of-type {\n",
       "        vertical-align: middle;\n",
       "    }\n",
       "\n",
       "    .dataframe tbody tr th {\n",
       "        vertical-align: top;\n",
       "    }\n",
       "\n",
       "    .dataframe thead th {\n",
       "        text-align: right;\n",
       "    }\n",
       "</style>\n",
       "<table border=\"1\" class=\"dataframe\">\n",
       "  <thead>\n",
       "    <tr style=\"text-align: right;\">\n",
       "      <th></th>\n",
       "      <th>edad_grupo</th>\n",
       "      <th>muerto</th>\n",
       "      <th>Poblacion 2011</th>\n",
       "      <th>tbm</th>\n",
       "      <th>pob_estandar</th>\n",
       "      <th>muertes_esperadas</th>\n",
       "    </tr>\n",
       "  </thead>\n",
       "  <tbody>\n",
       "    <tr>\n",
       "      <th>0</th>\n",
       "      <td>00-04 años</td>\n",
       "      <td>3521</td>\n",
       "      <td>633340</td>\n",
       "      <td>0.001853</td>\n",
       "      <td>664111</td>\n",
       "      <td>1230.689588</td>\n",
       "    </tr>\n",
       "    <tr>\n",
       "      <th>1</th>\n",
       "      <td>05-09 años</td>\n",
       "      <td>300</td>\n",
       "      <td>610829</td>\n",
       "      <td>0.000164</td>\n",
       "      <td>631212</td>\n",
       "      <td>103.336940</td>\n",
       "    </tr>\n",
       "    <tr>\n",
       "      <th>2</th>\n",
       "      <td>10-14 años</td>\n",
       "      <td>411</td>\n",
       "      <td>664750</td>\n",
       "      <td>0.000206</td>\n",
       "      <td>608801</td>\n",
       "      <td>125.469330</td>\n",
       "    </tr>\n",
       "    <tr>\n",
       "      <th>3</th>\n",
       "      <td>15-19 años</td>\n",
       "      <td>1440</td>\n",
       "      <td>729167</td>\n",
       "      <td>0.000658</td>\n",
       "      <td>599050</td>\n",
       "      <td>394.345877</td>\n",
       "    </tr>\n",
       "    <tr>\n",
       "      <th>4</th>\n",
       "      <td>20-24 años</td>\n",
       "      <td>2289</td>\n",
       "      <td>744315</td>\n",
       "      <td>0.001025</td>\n",
       "      <td>609710</td>\n",
       "      <td>625.015927</td>\n",
       "    </tr>\n",
       "    <tr>\n",
       "      <th>5</th>\n",
       "      <td>25-29 años</td>\n",
       "      <td>2304</td>\n",
       "      <td>671355</td>\n",
       "      <td>0.001144</td>\n",
       "      <td>587104</td>\n",
       "      <td>671.620636</td>\n",
       "    </tr>\n",
       "    <tr>\n",
       "      <th>6</th>\n",
       "      <td>30-34 años</td>\n",
       "      <td>2429</td>\n",
       "      <td>646359</td>\n",
       "      <td>0.001253</td>\n",
       "      <td>523869</td>\n",
       "      <td>656.228608</td>\n",
       "    </tr>\n",
       "    <tr>\n",
       "      <th>7</th>\n",
       "      <td>35-39 años</td>\n",
       "      <td>3188</td>\n",
       "      <td>628553</td>\n",
       "      <td>0.001691</td>\n",
       "      <td>495728</td>\n",
       "      <td>838.105333</td>\n",
       "    </tr>\n",
       "    <tr>\n",
       "      <th>8</th>\n",
       "      <td>40-44 años</td>\n",
       "      <td>4252</td>\n",
       "      <td>603028</td>\n",
       "      <td>0.002350</td>\n",
       "      <td>479345</td>\n",
       "      <td>1126.633667</td>\n",
       "    </tr>\n",
       "    <tr>\n",
       "      <th>9</th>\n",
       "      <td>45-49 años</td>\n",
       "      <td>6189</td>\n",
       "      <td>583032</td>\n",
       "      <td>0.003538</td>\n",
       "      <td>436397</td>\n",
       "      <td>1544.146824</td>\n",
       "    </tr>\n",
       "    <tr>\n",
       "      <th>10</th>\n",
       "      <td>50-54 años</td>\n",
       "      <td>8019</td>\n",
       "      <td>513808</td>\n",
       "      <td>0.005202</td>\n",
       "      <td>376512</td>\n",
       "      <td>1958.740572</td>\n",
       "    </tr>\n",
       "    <tr>\n",
       "      <th>11</th>\n",
       "      <td>55-59 años</td>\n",
       "      <td>9818</td>\n",
       "      <td>438299</td>\n",
       "      <td>0.007467</td>\n",
       "      <td>326760</td>\n",
       "      <td>2439.833447</td>\n",
       "    </tr>\n",
       "    <tr>\n",
       "      <th>12</th>\n",
       "      <td>60-64 años</td>\n",
       "      <td>12219</td>\n",
       "      <td>332825</td>\n",
       "      <td>0.012238</td>\n",
       "      <td>266575</td>\n",
       "      <td>3262.254864</td>\n",
       "    </tr>\n",
       "    <tr>\n",
       "      <th>13</th>\n",
       "      <td>65-69 años</td>\n",
       "      <td>15436</td>\n",
       "      <td>246303</td>\n",
       "      <td>0.020890</td>\n",
       "      <td>192751</td>\n",
       "      <td>4026.618211</td>\n",
       "    </tr>\n",
       "    <tr>\n",
       "      <th>14</th>\n",
       "      <td>70-74 años</td>\n",
       "      <td>17274</td>\n",
       "      <td>180435</td>\n",
       "      <td>0.031912</td>\n",
       "      <td>146575</td>\n",
       "      <td>4677.467509</td>\n",
       "    </tr>\n",
       "    <tr>\n",
       "      <th>15</th>\n",
       "      <td>75-79 años</td>\n",
       "      <td>19732</td>\n",
       "      <td>127269</td>\n",
       "      <td>0.051681</td>\n",
       "      <td>108082</td>\n",
       "      <td>5585.738407</td>\n",
       "    </tr>\n",
       "    <tr>\n",
       "      <th>16</th>\n",
       "      <td>80 y más</td>\n",
       "      <td>45769</td>\n",
       "      <td>137656</td>\n",
       "      <td>0.110829</td>\n",
       "      <td>115625</td>\n",
       "      <td>12814.650590</td>\n",
       "    </tr>\n",
       "  </tbody>\n",
       "</table>\n",
       "</div>"
      ],
      "text/plain": [
       "    edad_grupo  muerto  Poblacion 2011       tbm  pob_estandar  \\\n",
       "0   00-04 años    3521          633340  0.001853        664111   \n",
       "1   05-09 años     300          610829  0.000164        631212   \n",
       "2   10-14 años     411          664750  0.000206        608801   \n",
       "3   15-19 años    1440          729167  0.000658        599050   \n",
       "4   20-24 años    2289          744315  0.001025        609710   \n",
       "5   25-29 años    2304          671355  0.001144        587104   \n",
       "6   30-34 años    2429          646359  0.001253        523869   \n",
       "7   35-39 años    3188          628553  0.001691        495728   \n",
       "8   40-44 años    4252          603028  0.002350        479345   \n",
       "9   45-49 años    6189          583032  0.003538        436397   \n",
       "10  50-54 años    8019          513808  0.005202        376512   \n",
       "11  55-59 años    9818          438299  0.007467        326760   \n",
       "12  60-64 años   12219          332825  0.012238        266575   \n",
       "13  65-69 años   15436          246303  0.020890        192751   \n",
       "14  70-74 años   17274          180435  0.031912        146575   \n",
       "15  75-79 años   19732          127269  0.051681        108082   \n",
       "16    80 y más   45769          137656  0.110829        115625   \n",
       "\n",
       "    muertes_esperadas  \n",
       "0         1230.689588  \n",
       "1          103.336940  \n",
       "2          125.469330  \n",
       "3          394.345877  \n",
       "4          625.015927  \n",
       "5          671.620636  \n",
       "6          656.228608  \n",
       "7          838.105333  \n",
       "8         1126.633667  \n",
       "9         1544.146824  \n",
       "10        1958.740572  \n",
       "11        2439.833447  \n",
       "12        3262.254864  \n",
       "13        4026.618211  \n",
       "14        4677.467509  \n",
       "15        5585.738407  \n",
       "16       12814.650590  "
      ]
     },
     "execution_count": 54,
     "metadata": {},
     "output_type": "execute_result"
    }
   ],
   "source": [
    "a_ajus"
   ]
  },
  {
   "cell_type": "code",
   "execution_count": 55,
   "id": "76aa8187-889d-4424-b6db-09c8cfc492d2",
   "metadata": {},
   "outputs": [
    {
     "name": "stdout",
     "output_type": "stream",
     "text": [
      "Total de poblacion estándar = 7168207\n"
     ]
    }
   ],
   "source": [
    "total_pob_estandar = 0\n",
    "for i in pob_estandar:\n",
    "    total_pob_estandar += i\n",
    "print(f\"Total de poblacion estándar = {total_pob_estandar}\")"
   ]
  },
  {
   "cell_type": "code",
   "execution_count": 56,
   "id": "4288e1aa-c961-4949-a913-e95d6629b96a",
   "metadata": {},
   "outputs": [],
   "source": [
    "muertes_esperadas_1 = a_ajus['muertes_esperadas'].values.tolist()\n",
    "muertes_esperadas_2 = b_ajus['muertes_esperadas'].values.tolist()\n",
    "muertes_esperadas_3 = c_ajus['muertes_esperadas'].values.tolist()\n",
    "muertes_esperadas_4 = d_ajus['muertes_esperadas'].values.tolist()"
   ]
  },
  {
   "cell_type": "code",
   "execution_count": 57,
   "id": "a3c88bd5-27ea-4fbe-96ec-1e8fe303901a",
   "metadata": {},
   "outputs": [
    {
     "name": "stdout",
     "output_type": "stream",
     "text": [
      "muertes esperadas 1 = 42080.89633103048\n",
      "muertes esperadas 2 = 26333.75279347258\n",
      "muertes esperadas 3 = 38247.72621647114\n",
      "muertes esperadas 4 = 24039.507727394615\n",
      "\n"
     ]
    }
   ],
   "source": [
    "total_muertes_esperadas_1 = 0\n",
    "total_muertes_esperadas_2 = 0\n",
    "total_muertes_esperadas_3 = 0\n",
    "total_muertes_esperadas_4 = 0\n",
    "\n",
    "for i in muertes_esperadas_1:\n",
    "    total_muertes_esperadas_1 += i\n",
    "    \n",
    "for i in muertes_esperadas_2:\n",
    "    total_muertes_esperadas_2 += i\n",
    "    \n",
    "for i in muertes_esperadas_3:\n",
    "    total_muertes_esperadas_3 += i\n",
    "    \n",
    "for i in muertes_esperadas_4:\n",
    "    total_muertes_esperadas_4 += i\n",
    "    \n",
    "print(f\"muertes esperadas 1 = {total_muertes_esperadas_1}\\nmuertes esperadas 2 = {total_muertes_esperadas_2}\\nmuertes esperadas 3 = {total_muertes_esperadas_3}\\nmuertes esperadas 4 = {total_muertes_esperadas_4}\\n\")"
   ]
  },
  {
   "cell_type": "code",
   "execution_count": 58,
   "id": "ef2a3942-9a04-43aa-9a66-50fafa19fdb5",
   "metadata": {},
   "outputs": [
    {
     "name": "stdout",
     "output_type": "stream",
     "text": [
      "Tasa de mortalidad ajustada hombres país\n",
      "trienio 2010-2012: 587.05\n",
      "Tasa de mortalidad ajustada mujeres país\n",
      "trienio 2010-2012: 367.37\n"
     ]
    }
   ],
   "source": [
    "tma_2010_2012_hombres = round(total_muertes_esperadas_1/total_pob_estandar*100000,2)\n",
    "tma_2010_2012_mujeres = round(total_muertes_esperadas_2/total_pob_estandar*100000,2)\n",
    "print(f\"Tasa de mortalidad ajustada hombres país\\ntrienio 2010-2012: {tma_2010_2012_hombres}\\nTasa de mortalidad ajustada mujeres país\\ntrienio 2010-2012: {tma_2010_2012_mujeres}\")"
   ]
  },
  {
   "cell_type": "code",
   "execution_count": 59,
   "id": "31f3d60d-8f3e-49d4-9253-ac64827ee407",
   "metadata": {},
   "outputs": [
    {
     "name": "stdout",
     "output_type": "stream",
     "text": [
      "Tasa de mortalidad ajustada hombres país\n",
      "trienio 2013-2015: 533.57\n",
      "Tasa de mortalidad mujeres ajustada país\n",
      "trienio 2013-2015: 335.36\n"
     ]
    }
   ],
   "source": [
    "tma_2013_2015_hombres = round(total_muertes_esperadas_3/total_pob_estandar*100000,2)\n",
    "tma_2013_2015_mujeres = round(total_muertes_esperadas_4/total_pob_estandar*100000,2)\n",
    "print(f\"Tasa de mortalidad ajustada hombres país\\ntrienio 2013-2015: {tma_2013_2015_hombres}\\nTasa de mortalidad mujeres ajustada país\\ntrienio 2013-2015: {tma_2013_2015_mujeres}\")"
   ]
  },
  {
   "cell_type": "code",
   "execution_count": 60,
   "id": "7e555d92-2e7b-4bcc-8b16-2327ebe1d747",
   "metadata": {},
   "outputs": [],
   "source": [
    "mort_20102012_hombres['tma_hombres'] = tma_2010_2012_hombres\n",
    "mort_20102012_mujeres['tma_mujeres'] = tma_2010_2012_mujeres\n",
    "\n",
    "mort_20132015_hombres['tma_hombres'] = tma_2013_2015_hombres\n",
    "mort_20132015_mujeres['tma_mujeres'] = tma_2013_2015_mujeres"
   ]
  },
  {
   "cell_type": "code",
   "execution_count": 61,
   "id": "7c50d593-bd33-46b9-acb8-3afea6cb29c3",
   "metadata": {},
   "outputs": [
    {
     "name": "stdout",
     "output_type": "stream",
     "text": [
      "tablas de mortalidad \n",
      "Hombres 2010-2012:\n",
      "   muerto  ANO_DEF  pob_2011_hom  tbm_20102012_hom  porc_hom  tma_hombres\n",
      "0       1   154590       8491323            606.85      53.0       587.05 \n",
      "\n",
      "Mujeres 2010-2012:\n",
      "   muerto  ANO_DEF  pob_2011_muj  tbm_20102012_muj  porc_muj  tma_mujeres\n",
      "0       1   137036       8762836            521.28      47.0       367.37\n",
      "\n",
      "Hombres 2013-2015:\n",
      "   muerto  ANO_DEF  pob_2014_hom  tbm_20132015_hom  porc_hom  tma_hombres\n",
      "0       1   161585       8754428            615.25      53.0       533.57\n",
      "\n",
      "Mujeres 2013-2015:\n",
      "   muerto  ANO_DEF  pob_2014_muj  tbm_20132015_muj  porc_muj  tma_mujeres\n",
      "0       1   143418       9033189            529.23      47.0       335.36\n"
     ]
    }
   ],
   "source": [
    "print(f\"tablas de mortalidad \\nHombres 2010-2012:\\n{mort_20102012_hombres} \\\n",
    "\\n\\nMujeres 2010-2012:\\n{mort_20102012_mujeres}\\\n",
    "\\n\\nHombres 2013-2015:\\n{mort_20132015_hombres}\\\n",
    "\\n\\nMujeres 2013-2015:\\n{mort_20132015_mujeres}\")"
   ]
  },
  {
   "cell_type": "code",
   "execution_count": 62,
   "id": "0201abea-5df0-4449-b10c-8860033d5524",
   "metadata": {},
   "outputs": [],
   "source": [
    "mort_20102012_hombres = mort_20102012_hombres.rename(columns={'ANO_DEF':'num_def_hombres'})\n",
    "mort_20102012_mujeres = mort_20102012_mujeres.rename(columns={'ANO_DEF':'num_def_mujeres'})\n",
    "\n",
    "mort_20132015_hombres = mort_20132015_hombres.rename(columns={'ANO_DEF':'num_def_hombres'})\n",
    "mort_20132015_mujeres = mort_20132015_mujeres.rename(columns={'ANO_DEF':'num_def_mujeres'})"
   ]
  },
  {
   "cell_type": "code",
   "execution_count": 63,
   "id": "ecf73e08-550d-440b-8d51-63789e9064b3",
   "metadata": {},
   "outputs": [],
   "source": [
    "mort_20102012_sexo = pd.merge(mort_20102012_hombres, mort_20102012_mujeres)\n",
    "mort_20132015_sexo = pd.merge(mort_20132015_hombres, mort_20132015_mujeres)"
   ]
  },
  {
   "cell_type": "code",
   "execution_count": 64,
   "id": "f9f565e0-a1c0-4bfc-8c49-c1cc021965d6",
   "metadata": {},
   "outputs": [
    {
     "name": "stdout",
     "output_type": "stream",
     "text": [
      "tablas de mortalidad \n",
      "por sexo 2010-2012:\n",
      "   muerto  num_def_hombres  pob_2011_hom  tbm_20102012_hom  porc_hom  \\\n",
      "0       1           154590       8491323            606.85      53.0   \n",
      "\n",
      "   tma_hombres  num_def_mujeres  pob_2011_muj  tbm_20102012_muj  porc_muj  \\\n",
      "0       587.05           137036       8762836            521.28      47.0   \n",
      "\n",
      "   tma_mujeres  \n",
      "0       367.37   \n",
      "\n",
      "por sexo 2013-2015:\n",
      "   muerto  num_def_hombres  pob_2014_hom  tbm_20132015_hom  porc_hom  \\\n",
      "0       1           161585       8754428            615.25      53.0   \n",
      "\n",
      "   tma_hombres  num_def_mujeres  pob_2014_muj  tbm_20132015_muj  porc_muj  \\\n",
      "0       533.57           143418       9033189            529.23      47.0   \n",
      "\n",
      "   tma_mujeres  \n",
      "0       335.36  \n"
     ]
    }
   ],
   "source": [
    "print(f\"tablas de mortalidad \\npor sexo 2010-2012:\\n{mort_20102012_sexo} \\\n",
    "\\n\\npor sexo 2013-2015:\\n{mort_20132015_sexo}\")"
   ]
  },
  {
   "cell_type": "code",
   "execution_count": 65,
   "id": "2029fe57-1ba0-4586-8a6e-535e086fed28",
   "metadata": {},
   "outputs": [
    {
     "name": "stdout",
     "output_type": "stream",
     "text": [
      "\\begin{tabular}{rrrrrrrr}\n",
      "\\toprule\n",
      " num\\_def\\_hombres &  porc\\_hom &  tbm\\_20102012\\_hom &  tma\\_hombres &  num\\_def\\_mujeres &  porc\\_muj &  tbm\\_20102012\\_muj &  tma\\_mujeres \\\\\n",
      "\\midrule\n",
      "          154590 &      53.0 &            606.85 &       587.05 &           137036 &      47.0 &            521.28 &       367.37 \\\\\n",
      "\\bottomrule\n",
      "\\end{tabular}\n",
      "\n",
      "\\begin{tabular}{rrrrrrrr}\n",
      "\\toprule\n",
      " num\\_def\\_hombres &  porc\\_hom &  tbm\\_20132015\\_hom &  tma\\_hombres &  num\\_def\\_mujeres &  porc\\_muj &  tbm\\_20132015\\_muj &  tma\\_mujeres \\\\\n",
      "\\midrule\n",
      "          161585 &      53.0 &            615.25 &       533.57 &           143418 &      47.0 &            529.23 &       335.36 \\\\\n",
      "\\bottomrule\n",
      "\\end{tabular}\n",
      "\n"
     ]
    }
   ],
   "source": [
    "print(mort_20102012_sexo[['num_def_hombres', 'porc_hom', 'tbm_20102012_hom', 'tma_hombres', 'num_def_mujeres','porc_muj','tbm_20102012_muj','tma_mujeres']].to_latex(index=False))\n",
    "\n",
    "print(mort_20132015_sexo[['num_def_hombres', 'porc_hom', 'tbm_20132015_hom', 'tma_hombres', 'num_def_mujeres','porc_muj','tbm_20132015_muj','tma_mujeres']].to_latex(index=False))"
   ]
  },
  {
   "cell_type": "markdown",
   "id": "ff434a18-26d8-4d3c-9843-2cac6d4ef583",
   "metadata": {},
   "source": [
    "# Mortalidad por todas las causas por región"
   ]
  },
  {
   "cell_type": "code",
   "execution_count": 66,
   "id": "8c0672c3-2243-4da5-82bb-7ed48e46107c",
   "metadata": {},
   "outputs": [],
   "source": [
    "mort_20102012 = def_20102012.query('REG_RES != 99').groupby('REG_RES', as_index=False)['muerto'].count()\n",
    "mort_20132015 = def_20132015.query('REG_RES != 99').groupby('REG_RES', as_index=False)['muerto'].count()\n",
    "\n",
    "mort_20102012 = mort_20102012.rename(columns={'REG_RES': 'Region'})\n",
    "mort_20132015 = mort_20132015.rename(columns={'REG_RES': 'Region'})"
   ]
  },
  {
   "cell_type": "code",
   "execution_count": 67,
   "id": "e513fb74-f8a0-490c-8eed-b1378cf4eb6e",
   "metadata": {},
   "outputs": [
    {
     "name": "stdout",
     "output_type": "stream",
     "text": [
      "mortalidad por región 2010-2012 \n",
      "     Region  muerto\n",
      "0        1    3899\n",
      "1        2    8289\n",
      "2        3    4301\n",
      "3        4   11584\n",
      "4        5   34301\n",
      "5        6   15155\n",
      "6        7   18713\n",
      "7        8   26732\n",
      "8        9   18104\n",
      "9       10   14491\n",
      "10      11    1802\n",
      "11      12    2971\n",
      "12      13  110616\n",
      "13      14    7754\n",
      "14      15    3418\n",
      "15      16    9496 \n",
      "\n",
      " mortalidad por region 2013-2015 \n",
      "     Region  muerto\n",
      "0        1    4285\n",
      "1        2    8984\n",
      "2        3    4492\n",
      "3        4   12372\n",
      "4        5   36142\n",
      "5        6   15934\n",
      "6        7   19068\n",
      "7        8   28197\n",
      "8        9   18884\n",
      "9       10   15296\n",
      "10      11    1474\n",
      "11      12    3088\n",
      "12      13  115488\n",
      "13      14    7709\n",
      "14      15    3701\n",
      "15      16    9922 \n"
     ]
    }
   ],
   "source": [
    "print(f\"mortalidad por región 2010-2012 \\n {mort_20102012} \\\n",
    "\\n\\n mortalidad por region 2013-2015 \\n {mort_20132015} \")"
   ]
  },
  {
   "cell_type": "code",
   "execution_count": 68,
   "id": "fcf1a884-7058-4d0e-a5d3-1abd2883e9ca",
   "metadata": {},
   "outputs": [],
   "source": [
    "pob_2011_region = df_.groupby(['Region', 'Nombre Region'], as_index=False)['Poblacion 2011'].sum()\n",
    "pob_2014_region = df_.groupby(['Region', 'Nombre Region'], as_index=False)['Poblacion 2014'].sum()"
   ]
  },
  {
   "cell_type": "code",
   "execution_count": 69,
   "id": "42348a29-4274-4820-9697-f11a2815cae2",
   "metadata": {},
   "outputs": [],
   "source": [
    "mort_20102012 = pd.merge(mort_20102012, pob_2011_region)\n",
    "mort_20132015 = pd.merge(mort_20132015, pob_2014_region)"
   ]
  },
  {
   "cell_type": "code",
   "execution_count": 70,
   "id": "b944e044-1001-494c-889e-65ee77035d0e",
   "metadata": {},
   "outputs": [
    {
     "name": "stdout",
     "output_type": "stream",
     "text": [
      "mortalidad por región 2010-2012 \n",
      "     Region  muerto                              Nombre Region  Poblacion 2011\n",
      "0        1    3899                                   Tarapacá          301143\n",
      "1        2    8289                                Antofagasta          570307\n",
      "2        3    4301                                    Atacama          289014\n",
      "3        4   11584                                   Coquimbo          718763\n",
      "4        5   34301                                 Valparaíso         1766558\n",
      "5        6   15155      Libertador General Bernardo O'Higgins          892165\n",
      "6        7   18713                                      Maule         1024845\n",
      "7        8   26732                                     Biobío         1576632\n",
      "8        9   18104                               La Araucanía          956438\n",
      "9       10   14491                                  Los Lagos          826000\n",
      "10      11    1802  Aysén del General Carlos Ibáñez del Campo          101247\n",
      "11      12    2971       Magallanes y de la Antártica Chilena          162448\n",
      "12      13  110616                  Metropolitana de Santiago         6984240\n",
      "13      14    7754                                   Los Ríos          384765\n",
      "14      15    3418                         Arica y Parinacota          218689\n",
      "15      16    9496                                      Ñuble          480905 \n",
      "\n",
      " mortalidad por region 2013-2015 \n",
      "     Region  muerto                              Nombre Region  Poblacion 2014\n",
      "0        1    4285                                   Tarapacá          321678\n",
      "1        2    8984                                Antofagasta          596155\n",
      "2        3    4492                                    Atacama          297546\n",
      "3        4   12372                                   Coquimbo          755432\n",
      "4        5   36142                                 Valparaíso         1824842\n",
      "5        6   15934      Libertador General Bernardo O'Higgins          921886\n",
      "6        7   19068                                      Maule         1056331\n",
      "7        8   28197                                     Biobío         1607016\n",
      "8        9   18884                               La Araucanía          975378\n",
      "9       10   15296                                  Los Lagos          849087\n",
      "10      11    1474  Aysén del General Carlos Ibáñez del Campo          103446\n",
      "11      12    3088       Magallanes y de la Antártica Chilena          166475\n",
      "12      13  115488                  Metropolitana de Santiago         7202595\n",
      "13      14    7709                                   Los Ríos          391641\n",
      "14      15    3701                         Arica y Parinacota          227956\n",
      "15      16    9922                                      Ñuble          490153 \n"
     ]
    }
   ],
   "source": [
    "print(f\"mortalidad por región 2010-2012 \\n {mort_20102012} \\\n",
    "\\n\\n mortalidad por region 2013-2015 \\n {mort_20132015} \")"
   ]
  },
  {
   "cell_type": "code",
   "execution_count": 71,
   "id": "0668543a-af44-4e18-8cdc-48c9c0e874d6",
   "metadata": {},
   "outputs": [],
   "source": [
    "mort_20102012['tbm_20102012'] = round((mort_20102012['muerto']/3)/mort_20102012['Poblacion 2011']*100000,2)\n",
    "mort_20132015['tbm_20132015'] = round((mort_20132015['muerto']/3)/mort_20132015['Poblacion 2014']*100000,2)"
   ]
  },
  {
   "cell_type": "code",
   "execution_count": 72,
   "id": "eaf47095-6da6-4338-95d7-eb050982f936",
   "metadata": {},
   "outputs": [
    {
     "name": "stdout",
     "output_type": "stream",
     "text": [
      "mortalidad por región 2010-2012 \n",
      "     Region  muerto                              Nombre Region  Poblacion 2011  \\\n",
      "0        1    3899                                   Tarapacá          301143   \n",
      "1        2    8289                                Antofagasta          570307   \n",
      "2        3    4301                                    Atacama          289014   \n",
      "3        4   11584                                   Coquimbo          718763   \n",
      "4        5   34301                                 Valparaíso         1766558   \n",
      "5        6   15155      Libertador General Bernardo O'Higgins          892165   \n",
      "6        7   18713                                      Maule         1024845   \n",
      "7        8   26732                                     Biobío         1576632   \n",
      "8        9   18104                               La Araucanía          956438   \n",
      "9       10   14491                                  Los Lagos          826000   \n",
      "10      11    1802  Aysén del General Carlos Ibáñez del Campo          101247   \n",
      "11      12    2971       Magallanes y de la Antártica Chilena          162448   \n",
      "12      13  110616                  Metropolitana de Santiago         6984240   \n",
      "13      14    7754                                   Los Ríos          384765   \n",
      "14      15    3418                         Arica y Parinacota          218689   \n",
      "15      16    9496                                      Ñuble          480905   \n",
      "\n",
      "    tbm_20102012  \n",
      "0         431.58  \n",
      "1         484.48  \n",
      "2         496.05  \n",
      "3         537.22  \n",
      "4         647.23  \n",
      "5         566.23  \n",
      "6         608.64  \n",
      "7         565.17  \n",
      "8         630.95  \n",
      "9         584.79  \n",
      "10        593.27  \n",
      "11        609.63  \n",
      "12        527.93  \n",
      "13        671.75  \n",
      "14        520.98  \n",
      "15        658.20   \n",
      "\n",
      " mortalidad por region 2013-2015 \n",
      "     Region  muerto                              Nombre Region  Poblacion 2014  \\\n",
      "0        1    4285                                   Tarapacá          321678   \n",
      "1        2    8984                                Antofagasta          596155   \n",
      "2        3    4492                                    Atacama          297546   \n",
      "3        4   12372                                   Coquimbo          755432   \n",
      "4        5   36142                                 Valparaíso         1824842   \n",
      "5        6   15934      Libertador General Bernardo O'Higgins          921886   \n",
      "6        7   19068                                      Maule         1056331   \n",
      "7        8   28197                                     Biobío         1607016   \n",
      "8        9   18884                               La Araucanía          975378   \n",
      "9       10   15296                                  Los Lagos          849087   \n",
      "10      11    1474  Aysén del General Carlos Ibáñez del Campo          103446   \n",
      "11      12    3088       Magallanes y de la Antártica Chilena          166475   \n",
      "12      13  115488                  Metropolitana de Santiago         7202595   \n",
      "13      14    7709                                   Los Ríos          391641   \n",
      "14      15    3701                         Arica y Parinacota          227956   \n",
      "15      16    9922                                      Ñuble          490153   \n",
      "\n",
      "    tbm_20132015  \n",
      "0         444.03  \n",
      "1         502.33  \n",
      "2         503.23  \n",
      "3         545.91  \n",
      "4         660.19  \n",
      "5         576.14  \n",
      "6         601.71  \n",
      "7         584.87  \n",
      "8         645.36  \n",
      "9         600.49  \n",
      "10        474.97  \n",
      "11        618.31  \n",
      "12        534.47  \n",
      "13        656.13  \n",
      "14        541.19  \n",
      "15        674.76   \n"
     ]
    }
   ],
   "source": [
    "print(f\"mortalidad por región 2010-2012 \\n {mort_20102012} \\\n",
    "\\n\\n mortalidad por region 2013-2015 \\n {mort_20132015} \")"
   ]
  },
  {
   "cell_type": "markdown",
   "id": "096aedd0-f3cb-4140-a82c-6c3d59b690c5",
   "metadata": {
    "tags": []
   },
   "source": [
    "### Tasa ajustada país"
   ]
  },
  {
   "cell_type": "code",
   "execution_count": 73,
   "id": "09197293-1824-46bd-ba8d-bc60ea78261b",
   "metadata": {},
   "outputs": [],
   "source": [
    "def_20102012_hombres = def_20102012.query('SEXO == 1')\n",
    "def_20102012_mujeres = def_20102012.query('SEXO == 2')\n",
    "\n",
    "def_20132015_hombres = def_20102012.query('SEXO == 1')\n",
    "def_20132015_mujeres = def_20102012.query('SEXO == 2')"
   ]
  },
  {
   "cell_type": "code",
   "execution_count": 74,
   "id": "67cd7031-c8cf-4fdb-b5c9-5d45703e297c",
   "metadata": {},
   "outputs": [],
   "source": [
    "a = def_20102012_hombres.groupby(['REG_RES','edad_grupo'], as_index=False)['muerto'].count()\n",
    "b = def_20102012_mujeres.groupby(['REG_RES','edad_grupo'], as_index=False)['muerto'].count()\n",
    "c = def_20132015_hombres.groupby(['REG_RES','edad_grupo'], as_index=False)['muerto'].count()\n",
    "d = def_20132015_mujeres.groupby(['REG_RES','edad_grupo'], as_index=False)['muerto'].count()\n",
    "\n",
    "a = a.rename(columns={'REG_RES':'Region'})\n",
    "b = b.rename(columns={'REG_RES':'Region'})\n",
    "c = c.rename(columns={'REG_RES':'Region'})\n",
    "d = d.rename(columns={'REG_RES':'Region'})"
   ]
  },
  {
   "cell_type": "code",
   "execution_count": 75,
   "id": "0e82df81-651b-47df-b6c2-9df7bb7cb1ff",
   "metadata": {},
   "outputs": [
    {
     "name": "stdout",
     "output_type": "stream",
     "text": [
      " Largo de a: 272 \n",
      " Largo de b 270 \n",
      " Largo de c: 272 \n",
      " Largo de d: 270\n"
     ]
    }
   ],
   "source": [
    "print(f\" Largo de a: {a.shape[0]} \\n Largo de b {b.shape[0]} \\n Largo de c: {c.shape[0]} \\n Largo de d: {d.shape[0]}\")"
   ]
  },
  {
   "cell_type": "code",
   "execution_count": 76,
   "id": "4e068650-c1ba-4f38-984b-6279e7962345",
   "metadata": {},
   "outputs": [],
   "source": [
    "edades_grupo = choice_list*16"
   ]
  },
  {
   "cell_type": "code",
   "execution_count": 77,
   "id": "9433bf9c-6659-449f-88cb-4319ec0842b4",
   "metadata": {},
   "outputs": [
    {
     "name": "stdout",
     "output_type": "stream",
     "text": [
      "Distintos largos, se buscará cual es el valor que falta y será añadido\n",
      "Largos antes del procedimiento:\n",
      "\n",
      "Largo de a\n",
      "272 \n",
      "\n",
      "Largo de b\n",
      "270     \n",
      "\n",
      "Largo de c\n",
      "272     \n",
      "\n",
      "Largo de d\n",
      "270\n",
      "\n",
      "Largos después del procedimiento:\n",
      "Largo de a\n",
      "272     \n",
      "\n",
      "Largo de b\n",
      "272     \n",
      "\n",
      "Largo de c\n",
      "272     \n",
      "\n",
      "Largo de d\n",
      "272\n"
     ]
    }
   ],
   "source": [
    "a_lista = a.values.tolist()\n",
    "b_lista = b.values.tolist()\n",
    "c_lista = c.values.tolist()\n",
    "d_lista = d.values.tolist()\n",
    "\n",
    "if len(a.values.tolist()) == 272 and len(b.values.tolist()) == 272 and len(c.values.tolist()) == 272 and len(d.values.tolist()) == 272:\n",
    "    print(\"todas las listas tienen un largo de 272 !!\")\n",
    "else:\n",
    "    print(\"Distintos largos, se buscará cual es el valor que falta y será añadido\")\n",
    "    print(f\"Largos antes del procedimiento:\\n\\nLargo de a\\n{len(a.values.tolist())} \\n\\nLargo de b\\n{len(b.values.tolist())} \\\n",
    "    \\n\\nLargo de c\\n{len(c.values.tolist())} \\\n",
    "    \\n\\nLargo de d\\n{len(d.values.tolist())}\")\n",
    "    \n",
    "    contador=0\n",
    "    for i in a_lista:\n",
    "        if i[1] == edades_grupo[contador]:\n",
    "            contador += 1\n",
    "        elif i[1] != edades_grupo[contador]:\n",
    "            valor = [i[0], edades_grupo[contador], 0]\n",
    "            a_lista.insert(contador, valor)\n",
    "            contador += 1\n",
    "    \n",
    "    contador=0\n",
    "    for i in b_lista:\n",
    "        if i[1] == edades_grupo[contador]:\n",
    "            contador += 1\n",
    "        elif i[1] != edades_grupo[contador]:\n",
    "            valor = [i[0], edades_grupo[contador], 0]\n",
    "            b_lista.insert(contador, valor)\n",
    "            contador += 1\n",
    "    contador=0\n",
    "    for i in c_lista:\n",
    "        if i[1] == edades_grupo[contador]:\n",
    "            contador += 1\n",
    "        elif i[1] != edades_grupo[contador]:\n",
    "            valor = [i[0], edades_grupo[contador], 0]\n",
    "            c_lista.insert(contador, valor)\n",
    "            contador += 1\n",
    "    contador=0\n",
    "    for i in d_lista:\n",
    "        if i[1] == edades_grupo[contador]:\n",
    "            contador += 1\n",
    "        elif i[1] != edades_grupo[contador]:\n",
    "            valor = [i[0], edades_grupo[contador], 0]\n",
    "            d_lista.insert(contador, valor)\n",
    "            contador += 1\n",
    "            \n",
    "    print(f\"\\nLargos después del procedimiento:\\nLargo de a\\n{len(a_lista)} \\\n",
    "    \\n\\nLargo de b\\n{len(b_lista)} \\\n",
    "    \\n\\nLargo de c\\n{len(c_lista)} \\\n",
    "    \\n\\nLargo de d\\n{len(d_lista)}\")\n",
    "    \n",
    "columnas = ['Region','edad_grupo','muerto']\n",
    "\n",
    "a = pd.DataFrame(a_lista, columns = columnas)\n",
    "b = pd.DataFrame(b_lista, columns = columnas)\n",
    "c = pd.DataFrame(c_lista, columns = columnas)\n",
    "d = pd.DataFrame(d_lista, columns = columnas)\n",
    "#df = df.explode('Lista2').reset_index(drop=True)"
   ]
  },
  {
   "cell_type": "code",
   "execution_count": 78,
   "id": "8a47f71b-9a35-497f-83c4-4b61319b686c",
   "metadata": {},
   "outputs": [],
   "source": [
    "a_ = df_2011.query('Sexo == 1').groupby(['Region','edad_grupo'], as_index=False)['Poblacion 2011'].sum()\n",
    "b_ = df_2011.query('Sexo == 2').groupby(['Region','edad_grupo'], as_index=False)['Poblacion 2011'].sum()\n",
    "c_ = df_2014.query('Sexo == 1').groupby(['Region','edad_grupo'], as_index=False)['Poblacion 2014'].sum()\n",
    "d_ = df_2014.query('Sexo == 2').groupby(['Region','edad_grupo'], as_index=False)['Poblacion 2014'].sum()"
   ]
  },
  {
   "cell_type": "code",
   "execution_count": 79,
   "id": "9a7801de-cc5f-4179-9058-5b7d1d2a014b",
   "metadata": {},
   "outputs": [],
   "source": [
    "a_ajus = pd.merge(a, a_)\n",
    "b_ajus = pd.merge(b, b_)\n",
    "c_ajus = pd.merge(c, c_)\n",
    "d_ajus = pd.merge(d, d_)"
   ]
  },
  {
   "cell_type": "code",
   "execution_count": 80,
   "id": "14c9d403-e128-46b5-86a4-983b21437372",
   "metadata": {},
   "outputs": [
    {
     "data": {
      "text/html": [
       "<div>\n",
       "<style scoped>\n",
       "    .dataframe tbody tr th:only-of-type {\n",
       "        vertical-align: middle;\n",
       "    }\n",
       "\n",
       "    .dataframe tbody tr th {\n",
       "        vertical-align: top;\n",
       "    }\n",
       "\n",
       "    .dataframe thead th {\n",
       "        text-align: right;\n",
       "    }\n",
       "</style>\n",
       "<table border=\"1\" class=\"dataframe\">\n",
       "  <thead>\n",
       "    <tr style=\"text-align: right;\">\n",
       "      <th></th>\n",
       "      <th>Region</th>\n",
       "      <th>edad_grupo</th>\n",
       "      <th>muerto</th>\n",
       "      <th>Poblacion 2014</th>\n",
       "    </tr>\n",
       "  </thead>\n",
       "  <tbody>\n",
       "    <tr>\n",
       "      <th>0</th>\n",
       "      <td>1</td>\n",
       "      <td>00-04 años</td>\n",
       "      <td>61</td>\n",
       "      <td>14175</td>\n",
       "    </tr>\n",
       "    <tr>\n",
       "      <th>1</th>\n",
       "      <td>1</td>\n",
       "      <td>05-09 años</td>\n",
       "      <td>2</td>\n",
       "      <td>12538</td>\n",
       "    </tr>\n",
       "    <tr>\n",
       "      <th>2</th>\n",
       "      <td>1</td>\n",
       "      <td>10-14 años</td>\n",
       "      <td>4</td>\n",
       "      <td>11686</td>\n",
       "    </tr>\n",
       "    <tr>\n",
       "      <th>3</th>\n",
       "      <td>1</td>\n",
       "      <td>15-19 años</td>\n",
       "      <td>13</td>\n",
       "      <td>12151</td>\n",
       "    </tr>\n",
       "    <tr>\n",
       "      <th>4</th>\n",
       "      <td>1</td>\n",
       "      <td>20-24 años</td>\n",
       "      <td>15</td>\n",
       "      <td>13102</td>\n",
       "    </tr>\n",
       "    <tr>\n",
       "      <th>...</th>\n",
       "      <td>...</td>\n",
       "      <td>...</td>\n",
       "      <td>...</td>\n",
       "      <td>...</td>\n",
       "    </tr>\n",
       "    <tr>\n",
       "      <th>267</th>\n",
       "      <td>16</td>\n",
       "      <td>60-64 años</td>\n",
       "      <td>265</td>\n",
       "      <td>12461</td>\n",
       "    </tr>\n",
       "    <tr>\n",
       "      <th>268</th>\n",
       "      <td>16</td>\n",
       "      <td>65-69 años</td>\n",
       "      <td>343</td>\n",
       "      <td>10068</td>\n",
       "    </tr>\n",
       "    <tr>\n",
       "      <th>269</th>\n",
       "      <td>16</td>\n",
       "      <td>70-74 años</td>\n",
       "      <td>438</td>\n",
       "      <td>8254</td>\n",
       "    </tr>\n",
       "    <tr>\n",
       "      <th>270</th>\n",
       "      <td>16</td>\n",
       "      <td>75-79 años</td>\n",
       "      <td>524</td>\n",
       "      <td>6485</td>\n",
       "    </tr>\n",
       "    <tr>\n",
       "      <th>271</th>\n",
       "      <td>16</td>\n",
       "      <td>80 y más</td>\n",
       "      <td>1970</td>\n",
       "      <td>8762</td>\n",
       "    </tr>\n",
       "  </tbody>\n",
       "</table>\n",
       "<p>272 rows × 4 columns</p>\n",
       "</div>"
      ],
      "text/plain": [
       "     Region  edad_grupo  muerto  Poblacion 2014\n",
       "0         1  00-04 años      61           14175\n",
       "1         1  05-09 años       2           12538\n",
       "2         1  10-14 años       4           11686\n",
       "3         1  15-19 años      13           12151\n",
       "4         1  20-24 años      15           13102\n",
       "..      ...         ...     ...             ...\n",
       "267      16  60-64 años     265           12461\n",
       "268      16  65-69 años     343           10068\n",
       "269      16  70-74 años     438            8254\n",
       "270      16  75-79 años     524            6485\n",
       "271      16    80 y más    1970            8762\n",
       "\n",
       "[272 rows x 4 columns]"
      ]
     },
     "execution_count": 80,
     "metadata": {},
     "output_type": "execute_result"
    }
   ],
   "source": [
    "d_ajus"
   ]
  },
  {
   "cell_type": "code",
   "execution_count": 81,
   "id": "f1e658cd-21bc-45e1-9d19-9460bd5aaa96",
   "metadata": {},
   "outputs": [],
   "source": [
    "a_ajus['tbm'] = (a_ajus['muerto']/3)/a_ajus['Poblacion 2011']\n",
    "b_ajus['tbm'] = (b_ajus['muerto']/3)/b_ajus['Poblacion 2011']\n",
    "c_ajus['tbm'] = (c_ajus['muerto']/3)/c_ajus['Poblacion 2014']\n",
    "d_ajus['tbm'] = (d_ajus['muerto']/3)/d_ajus['Poblacion 2014']"
   ]
  },
  {
   "cell_type": "code",
   "execution_count": 82,
   "id": "ee08013e-9f1e-4357-a821-3cd113fa77b7",
   "metadata": {},
   "outputs": [
    {
     "name": "stdout",
     "output_type": "stream",
     "text": [
      "272\n"
     ]
    }
   ],
   "source": [
    "pob_estandar = [664111,631212,608801,599050,609710,587104,523869,495728,479345,436397,376512,326760,266575,192751,146575,108082,115625]*16\n",
    "print(len(pob_estandar))\n",
    "pob_estandar_ = [664111,631212,608801,599050,609710,587104,523869,495728,479345,436397,376512,326760,266575,192751,146575,108082,115625]"
   ]
  },
  {
   "cell_type": "code",
   "execution_count": 83,
   "id": "0cb2eaa1-0ecf-4ec9-adc0-cac45b3cd221",
   "metadata": {},
   "outputs": [],
   "source": [
    "a_ajus['pob_estandar'] = pob_estandar\n",
    "b_ajus['pob_estandar'] = pob_estandar\n",
    "c_ajus['pob_estandar'] = pob_estandar\n",
    "d_ajus['pob_estandar'] = pob_estandar"
   ]
  },
  {
   "cell_type": "code",
   "execution_count": 84,
   "id": "f402f26d-c101-45b8-b660-12205e336004",
   "metadata": {},
   "outputs": [],
   "source": [
    "a_ajus['muertes_esperadas'] = a_ajus['tbm']*a_ajus['pob_estandar']\n",
    "b_ajus['muertes_esperadas'] = b_ajus['tbm']*b_ajus['pob_estandar']\n",
    "c_ajus['muertes_esperadas'] = c_ajus['tbm']*c_ajus['pob_estandar']\n",
    "d_ajus['muertes_esperadas'] = d_ajus['tbm']*d_ajus['pob_estandar']"
   ]
  },
  {
   "cell_type": "code",
   "execution_count": 85,
   "id": "168392c7-135b-406b-b732-5d22e62140e6",
   "metadata": {},
   "outputs": [
    {
     "data": {
      "text/html": [
       "<div>\n",
       "<style scoped>\n",
       "    .dataframe tbody tr th:only-of-type {\n",
       "        vertical-align: middle;\n",
       "    }\n",
       "\n",
       "    .dataframe tbody tr th {\n",
       "        vertical-align: top;\n",
       "    }\n",
       "\n",
       "    .dataframe thead th {\n",
       "        text-align: right;\n",
       "    }\n",
       "</style>\n",
       "<table border=\"1\" class=\"dataframe\">\n",
       "  <thead>\n",
       "    <tr style=\"text-align: right;\">\n",
       "      <th></th>\n",
       "      <th>Region</th>\n",
       "      <th>edad_grupo</th>\n",
       "      <th>muerto</th>\n",
       "      <th>Poblacion 2011</th>\n",
       "      <th>tbm</th>\n",
       "      <th>pob_estandar</th>\n",
       "      <th>muertes_esperadas</th>\n",
       "    </tr>\n",
       "  </thead>\n",
       "  <tbody>\n",
       "    <tr>\n",
       "      <th>0</th>\n",
       "      <td>1</td>\n",
       "      <td>00-04 años</td>\n",
       "      <td>76</td>\n",
       "      <td>13958</td>\n",
       "      <td>0.001815</td>\n",
       "      <td>664111</td>\n",
       "      <td>1205.340689</td>\n",
       "    </tr>\n",
       "    <tr>\n",
       "      <th>1</th>\n",
       "      <td>1</td>\n",
       "      <td>05-09 años</td>\n",
       "      <td>8</td>\n",
       "      <td>12141</td>\n",
       "      <td>0.000220</td>\n",
       "      <td>631212</td>\n",
       "      <td>138.640310</td>\n",
       "    </tr>\n",
       "    <tr>\n",
       "      <th>2</th>\n",
       "      <td>1</td>\n",
       "      <td>10-14 años</td>\n",
       "      <td>7</td>\n",
       "      <td>12237</td>\n",
       "      <td>0.000191</td>\n",
       "      <td>608801</td>\n",
       "      <td>116.085288</td>\n",
       "    </tr>\n",
       "    <tr>\n",
       "      <th>3</th>\n",
       "      <td>1</td>\n",
       "      <td>15-19 años</td>\n",
       "      <td>32</td>\n",
       "      <td>13264</td>\n",
       "      <td>0.000804</td>\n",
       "      <td>599050</td>\n",
       "      <td>481.745074</td>\n",
       "    </tr>\n",
       "    <tr>\n",
       "      <th>4</th>\n",
       "      <td>1</td>\n",
       "      <td>20-24 años</td>\n",
       "      <td>47</td>\n",
       "      <td>13125</td>\n",
       "      <td>0.001194</td>\n",
       "      <td>609710</td>\n",
       "      <td>727.780825</td>\n",
       "    </tr>\n",
       "    <tr>\n",
       "      <th>...</th>\n",
       "      <td>...</td>\n",
       "      <td>...</td>\n",
       "      <td>...</td>\n",
       "      <td>...</td>\n",
       "      <td>...</td>\n",
       "      <td>...</td>\n",
       "      <td>...</td>\n",
       "    </tr>\n",
       "    <tr>\n",
       "      <th>267</th>\n",
       "      <td>16</td>\n",
       "      <td>60-64 años</td>\n",
       "      <td>413</td>\n",
       "      <td>10633</td>\n",
       "      <td>0.012947</td>\n",
       "      <td>266575</td>\n",
       "      <td>3451.377002</td>\n",
       "    </tr>\n",
       "    <tr>\n",
       "      <th>268</th>\n",
       "      <td>16</td>\n",
       "      <td>65-69 años</td>\n",
       "      <td>508</td>\n",
       "      <td>8268</td>\n",
       "      <td>0.020481</td>\n",
       "      <td>192751</td>\n",
       "      <td>3947.649895</td>\n",
       "    </tr>\n",
       "    <tr>\n",
       "      <th>269</th>\n",
       "      <td>16</td>\n",
       "      <td>70-74 años</td>\n",
       "      <td>612</td>\n",
       "      <td>6373</td>\n",
       "      <td>0.032010</td>\n",
       "      <td>146575</td>\n",
       "      <td>4691.871960</td>\n",
       "    </tr>\n",
       "    <tr>\n",
       "      <th>270</th>\n",
       "      <td>16</td>\n",
       "      <td>75-79 años</td>\n",
       "      <td>663</td>\n",
       "      <td>4455</td>\n",
       "      <td>0.049607</td>\n",
       "      <td>108082</td>\n",
       "      <td>5361.643547</td>\n",
       "    </tr>\n",
       "    <tr>\n",
       "      <th>271</th>\n",
       "      <td>16</td>\n",
       "      <td>80 y más</td>\n",
       "      <td>1527</td>\n",
       "      <td>4885</td>\n",
       "      <td>0.104197</td>\n",
       "      <td>115625</td>\n",
       "      <td>12047.722620</td>\n",
       "    </tr>\n",
       "  </tbody>\n",
       "</table>\n",
       "<p>272 rows × 7 columns</p>\n",
       "</div>"
      ],
      "text/plain": [
       "     Region  edad_grupo  muerto  Poblacion 2011       tbm  pob_estandar  \\\n",
       "0         1  00-04 años      76           13958  0.001815        664111   \n",
       "1         1  05-09 años       8           12141  0.000220        631212   \n",
       "2         1  10-14 años       7           12237  0.000191        608801   \n",
       "3         1  15-19 años      32           13264  0.000804        599050   \n",
       "4         1  20-24 años      47           13125  0.001194        609710   \n",
       "..      ...         ...     ...             ...       ...           ...   \n",
       "267      16  60-64 años     413           10633  0.012947        266575   \n",
       "268      16  65-69 años     508            8268  0.020481        192751   \n",
       "269      16  70-74 años     612            6373  0.032010        146575   \n",
       "270      16  75-79 años     663            4455  0.049607        108082   \n",
       "271      16    80 y más    1527            4885  0.104197        115625   \n",
       "\n",
       "     muertes_esperadas  \n",
       "0          1205.340689  \n",
       "1           138.640310  \n",
       "2           116.085288  \n",
       "3           481.745074  \n",
       "4           727.780825  \n",
       "..                 ...  \n",
       "267        3451.377002  \n",
       "268        3947.649895  \n",
       "269        4691.871960  \n",
       "270        5361.643547  \n",
       "271       12047.722620  \n",
       "\n",
       "[272 rows x 7 columns]"
      ]
     },
     "execution_count": 85,
     "metadata": {},
     "output_type": "execute_result"
    }
   ],
   "source": [
    "a_ajus"
   ]
  },
  {
   "cell_type": "code",
   "execution_count": 86,
   "id": "b5cc7926-9c79-4cff-ab28-82c8c15aa17b",
   "metadata": {},
   "outputs": [
    {
     "name": "stdout",
     "output_type": "stream",
     "text": [
      "Total de poblacion estándar = 7168207\n"
     ]
    }
   ],
   "source": [
    "total_pob_estandar = 0\n",
    "for i in pob_estandar_:\n",
    "    total_pob_estandar += i\n",
    "print(f\"Total de poblacion estándar = {total_pob_estandar}\")"
   ]
  },
  {
   "cell_type": "code",
   "execution_count": 87,
   "id": "00eda00a-839f-4cb1-8087-6b015db4cf11",
   "metadata": {},
   "outputs": [],
   "source": [
    "muertes_esperadas_1 = a_ajus.groupby(['Region'], as_index=False).sum() # muertes esperadas en hombres 10-12\n",
    "muertes_esperadas_2 = b_ajus.groupby(['Region'], as_index=False).sum() # muertes esperadas en mujeres 10-12\n",
    "muertes_esperadas_3 = c_ajus.groupby(['Region'], as_index=False).sum() # muertes esperadas en hombres 13-15\n",
    "muertes_esperadas_4 = d_ajus.groupby(['Region'], as_index=False).sum() # muertes esperadas en mujeres 13-15"
   ]
  },
  {
   "cell_type": "code",
   "execution_count": 88,
   "id": "72ac7636-1602-4069-9fb6-b3bd089a5796",
   "metadata": {},
   "outputs": [],
   "source": [
    "muertes_esperadas_1 = muertes_esperadas_1.rename(columns = {'muertes_esperadas':'muertes_esperadas_hombres'})\n",
    "muertes_esperadas_2 = muertes_esperadas_2.rename(columns = {'muertes_esperadas':'muertes_esperadas_mujeres'})\n",
    "muertes_esperadas_3 = muertes_esperadas_3.rename(columns = {'muertes_esperadas':'muertes_esperadas_hombres'})\n",
    "muertes_esperadas_4 = muertes_esperadas_4.rename(columns = {'muertes_esperadas':'muertes_esperadas_mujeres'})"
   ]
  },
  {
   "cell_type": "code",
   "execution_count": 89,
   "id": "d3a51317-80aa-46b8-a290-edbf793ae6db",
   "metadata": {},
   "outputs": [],
   "source": [
    "muertes_esperadas_1 = muertes_esperadas_1[['Region', 'pob_estandar', 'muertes_esperadas_hombres']]\n",
    "muertes_esperadas_2 = muertes_esperadas_2[['Region', 'pob_estandar', 'muertes_esperadas_mujeres']]\n",
    "muertes_esperadas_3 = muertes_esperadas_3[['Region', 'pob_estandar', 'muertes_esperadas_hombres']]\n",
    "muertes_esperadas_4 = muertes_esperadas_4[['Region', 'pob_estandar', 'muertes_esperadas_mujeres']]\n",
    "tma_20102012 = pd.merge(muertes_esperadas_1, muertes_esperadas_2)\n",
    "tma_20132015 = pd.merge(muertes_esperadas_3, muertes_esperadas_4)"
   ]
  },
  {
   "cell_type": "code",
   "execution_count": 90,
   "id": "7bf3322b-6b82-4a14-a240-e8f56e737236",
   "metadata": {},
   "outputs": [],
   "source": [
    "tma_20102012['muertes_esperadas'] = tma_20102012['muertes_esperadas_hombres'] + tma_20102012['muertes_esperadas_mujeres']\n",
    "tma_20132015['muertes_esperadas'] = tma_20132015['muertes_esperadas_hombres'] + tma_20132015['muertes_esperadas_mujeres']"
   ]
  },
  {
   "cell_type": "code",
   "execution_count": 91,
   "id": "6be582e7-f1ae-4bb4-a376-04cf1cc768a5",
   "metadata": {},
   "outputs": [],
   "source": [
    "tma_20102012['tma_20102012'] = round(tma_20102012['muertes_esperadas']/tma_20102012['pob_estandar']*100000,2)\n",
    "tma_20132015['tma_20132015'] = round(tma_20132015['muertes_esperadas']/tma_20132015['pob_estandar']*100000,2)"
   ]
  },
  {
   "cell_type": "code",
   "execution_count": 92,
   "id": "1b020fa4-d950-436d-bad1-237c5de1e774",
   "metadata": {},
   "outputs": [
    {
     "name": "stdout",
     "output_type": "stream",
     "text": [
      "TMA 2010 2012: \n",
      "     Region  pob_estandar  muertes_esperadas_hombres  \\\n",
      "0        1       7168207               42464.295419   \n",
      "1        2       7168207               47606.609559   \n",
      "2        3       7168207               40735.748079   \n",
      "3        4       7168207               37434.424794   \n",
      "4        5       7168207               41529.651648   \n",
      "5        6       7168207               40588.793615   \n",
      "6        7       7168207               43348.468356   \n",
      "7        8       7168207               42963.186273   \n",
      "8        9       7168207               43470.495202   \n",
      "9       10       7168207               46503.431736   \n",
      "10      11       7168207               53209.103668   \n",
      "11      12       7168207               45022.967981   \n",
      "12      13       7168207               41019.278219   \n",
      "13      14       7168207               46106.118955   \n",
      "14      15       7168207               41512.714719   \n",
      "15      16       7168207               43409.590668   \n",
      "\n",
      "    muertes_esperadas_mujeres  muertes_esperadas  tma_20102012  \n",
      "0                26217.531697       68681.827116        958.15  \n",
      "1                29479.287144       77085.896703       1075.39  \n",
      "2                26599.888902       67335.636981        939.37  \n",
      "3                24652.004899       62086.429693        866.14  \n",
      "4                26121.337772       67650.989420        943.76  \n",
      "5                26481.676004       67070.469619        935.67  \n",
      "6                27846.325437       71194.793793        993.20  \n",
      "7                26719.085579       69682.271852        972.10  \n",
      "8                27506.602435       70977.097636        990.17  \n",
      "9                27191.518956       73694.950692       1028.08  \n",
      "10               32839.260819       86048.364487       1200.42  \n",
      "11               27802.581302       72825.549283       1015.95  \n",
      "12               25430.631328       66449.909547        927.01  \n",
      "13               28899.109704       75005.228659       1046.36  \n",
      "14               26917.886461       68430.601180        954.64  \n",
      "15               27562.278155       70971.868823        990.09  \n",
      "\n",
      " TMA 2013 2015 \n",
      "     Region  pob_estandar  muertes_esperadas_hombres  \\\n",
      "0        1       7168207               37643.979781   \n",
      "1        2       7168207               43625.765146   \n",
      "2        3       7168207               37190.022636   \n",
      "3        4       7168207               33647.519894   \n",
      "4        5       7168207               37745.072787   \n",
      "5        6       7168207               36619.720701   \n",
      "6        7       7168207               39421.342540   \n",
      "7        8       7168207               39098.913270   \n",
      "8        9       7168207               40047.982591   \n",
      "9       10       7168207               42288.680961   \n",
      "10      11       7168207               47969.699879   \n",
      "11      12       7168207               41378.223992   \n",
      "12      13       7168207               37245.625465   \n",
      "13      14       7168207               42969.729376   \n",
      "14      15       7168207               37333.413195   \n",
      "15      16       7168207               39846.434361   \n",
      "\n",
      "    muertes_esperadas_mujeres  muertes_esperadas  tma_20132015  \n",
      "0                23607.639168       61251.618949        854.49  \n",
      "1                27128.283367       70754.048513        987.05  \n",
      "2                24144.456615       61334.479251        855.65  \n",
      "3                21972.150983       55619.670877        775.92  \n",
      "4                23850.160440       61595.233227        859.28  \n",
      "5                23842.330383       60462.051084        843.48  \n",
      "6                25166.720664       64588.063204        901.04  \n",
      "7                24278.544250       63377.457520        884.15  \n",
      "8                25252.924217       65300.906808        910.98  \n",
      "9                24845.136220       67133.817180        936.55  \n",
      "10               29394.512992       77364.212871       1079.27  \n",
      "11               25477.902351       66856.126343        932.68  \n",
      "12               23378.885290       60624.510756        845.74  \n",
      "13               26549.763481       69519.492857        969.83  \n",
      "14               24085.140203       61418.553397        856.82  \n",
      "15               25109.834385       64956.268746        906.17  \n"
     ]
    }
   ],
   "source": [
    "print(f\"TMA 2010 2012: \\n {tma_20102012}\\\n",
    "\\n\\n TMA 2013 2015 \\n {tma_20132015}\")"
   ]
  },
  {
   "cell_type": "code",
   "execution_count": 93,
   "id": "725b4e88-5a0b-470f-a84d-76b3170936f4",
   "metadata": {},
   "outputs": [],
   "source": [
    "mort_20102012 = pd.merge(mort_20102012, tma_20102012)\n",
    "mort_20132015 = pd.merge(mort_20132015, tma_20132015)"
   ]
  },
  {
   "cell_type": "code",
   "execution_count": 94,
   "id": "26cf2858-3b30-47dd-a472-1065f9363360",
   "metadata": {},
   "outputs": [
    {
     "name": "stdout",
     "output_type": "stream",
     "text": [
      "291626\n",
      "305036\n",
      "305057\n"
     ]
    }
   ],
   "source": [
    "muertos_pais_1 = 0\n",
    "muerto = mort_20102012['muerto'].values.tolist()\n",
    "for i in muerto:\n",
    "    muertos_pais_1 += i\n",
    "print(muertos_pais_1)\n",
    "\n",
    "muertos_pais_2 = 0\n",
    "muerto = mort_20132015['muerto'].values.tolist()\n",
    "for i in muerto:\n",
    "    muertos_pais_2 += i\n",
    "print(muertos_pais_2)\n",
    "muertos_pais_2 = 305057\n",
    "print(muertos_pais_2)"
   ]
  },
  {
   "cell_type": "code",
   "execution_count": 95,
   "id": "c26ec61b-4e21-4451-9682-adfcb77e8749",
   "metadata": {},
   "outputs": [],
   "source": [
    "mort_20102012['porc_20102012'] = round(mort_20102012['muerto']/muertos_pais_1*100,2)\n",
    "mort_20132015['porc_20132015'] = round(mort_20132015['muerto']/muertos_pais_2*100,2)"
   ]
  },
  {
   "cell_type": "code",
   "execution_count": 96,
   "id": "ed2911be-b472-47d7-85b7-1d26913a5951",
   "metadata": {},
   "outputs": [
    {
     "name": "stdout",
     "output_type": "stream",
     "text": [
      "mortalidad por región 2010-2012 \n",
      "     Region  muerto                              Nombre Region  Poblacion 2011  \\\n",
      "0        1    3899                                   Tarapacá          301143   \n",
      "1        2    8289                                Antofagasta          570307   \n",
      "2        3    4301                                    Atacama          289014   \n",
      "3        4   11584                                   Coquimbo          718763   \n",
      "4        5   34301                                 Valparaíso         1766558   \n",
      "5        6   15155      Libertador General Bernardo O'Higgins          892165   \n",
      "6        7   18713                                      Maule         1024845   \n",
      "7        8   26732                                     Biobío         1576632   \n",
      "8        9   18104                               La Araucanía          956438   \n",
      "9       10   14491                                  Los Lagos          826000   \n",
      "10      11    1802  Aysén del General Carlos Ibáñez del Campo          101247   \n",
      "11      12    2971       Magallanes y de la Antártica Chilena          162448   \n",
      "12      13  110616                  Metropolitana de Santiago         6984240   \n",
      "13      14    7754                                   Los Ríos          384765   \n",
      "14      15    3418                         Arica y Parinacota          218689   \n",
      "15      16    9496                                      Ñuble          480905   \n",
      "\n",
      "    tbm_20102012  pob_estandar  muertes_esperadas_hombres  \\\n",
      "0         431.58       7168207               42464.295419   \n",
      "1         484.48       7168207               47606.609559   \n",
      "2         496.05       7168207               40735.748079   \n",
      "3         537.22       7168207               37434.424794   \n",
      "4         647.23       7168207               41529.651648   \n",
      "5         566.23       7168207               40588.793615   \n",
      "6         608.64       7168207               43348.468356   \n",
      "7         565.17       7168207               42963.186273   \n",
      "8         630.95       7168207               43470.495202   \n",
      "9         584.79       7168207               46503.431736   \n",
      "10        593.27       7168207               53209.103668   \n",
      "11        609.63       7168207               45022.967981   \n",
      "12        527.93       7168207               41019.278219   \n",
      "13        671.75       7168207               46106.118955   \n",
      "14        520.98       7168207               41512.714719   \n",
      "15        658.20       7168207               43409.590668   \n",
      "\n",
      "    muertes_esperadas_mujeres  muertes_esperadas  tma_20102012  porc_20102012  \n",
      "0                26217.531697       68681.827116        958.15           1.34  \n",
      "1                29479.287144       77085.896703       1075.39           2.84  \n",
      "2                26599.888902       67335.636981        939.37           1.47  \n",
      "3                24652.004899       62086.429693        866.14           3.97  \n",
      "4                26121.337772       67650.989420        943.76          11.76  \n",
      "5                26481.676004       67070.469619        935.67           5.20  \n",
      "6                27846.325437       71194.793793        993.20           6.42  \n",
      "7                26719.085579       69682.271852        972.10           9.17  \n",
      "8                27506.602435       70977.097636        990.17           6.21  \n",
      "9                27191.518956       73694.950692       1028.08           4.97  \n",
      "10               32839.260819       86048.364487       1200.42           0.62  \n",
      "11               27802.581302       72825.549283       1015.95           1.02  \n",
      "12               25430.631328       66449.909547        927.01          37.93  \n",
      "13               28899.109704       75005.228659       1046.36           2.66  \n",
      "14               26917.886461       68430.601180        954.64           1.17  \n",
      "15               27562.278155       70971.868823        990.09           3.26   \n",
      "\n",
      " mortalidad por region 2013-2015 \n",
      "     Region  muerto                              Nombre Region  Poblacion 2014  \\\n",
      "0        1    4285                                   Tarapacá          321678   \n",
      "1        2    8984                                Antofagasta          596155   \n",
      "2        3    4492                                    Atacama          297546   \n",
      "3        4   12372                                   Coquimbo          755432   \n",
      "4        5   36142                                 Valparaíso         1824842   \n",
      "5        6   15934      Libertador General Bernardo O'Higgins          921886   \n",
      "6        7   19068                                      Maule         1056331   \n",
      "7        8   28197                                     Biobío         1607016   \n",
      "8        9   18884                               La Araucanía          975378   \n",
      "9       10   15296                                  Los Lagos          849087   \n",
      "10      11    1474  Aysén del General Carlos Ibáñez del Campo          103446   \n",
      "11      12    3088       Magallanes y de la Antártica Chilena          166475   \n",
      "12      13  115488                  Metropolitana de Santiago         7202595   \n",
      "13      14    7709                                   Los Ríos          391641   \n",
      "14      15    3701                         Arica y Parinacota          227956   \n",
      "15      16    9922                                      Ñuble          490153   \n",
      "\n",
      "    tbm_20132015  pob_estandar  muertes_esperadas_hombres  \\\n",
      "0         444.03       7168207               37643.979781   \n",
      "1         502.33       7168207               43625.765146   \n",
      "2         503.23       7168207               37190.022636   \n",
      "3         545.91       7168207               33647.519894   \n",
      "4         660.19       7168207               37745.072787   \n",
      "5         576.14       7168207               36619.720701   \n",
      "6         601.71       7168207               39421.342540   \n",
      "7         584.87       7168207               39098.913270   \n",
      "8         645.36       7168207               40047.982591   \n",
      "9         600.49       7168207               42288.680961   \n",
      "10        474.97       7168207               47969.699879   \n",
      "11        618.31       7168207               41378.223992   \n",
      "12        534.47       7168207               37245.625465   \n",
      "13        656.13       7168207               42969.729376   \n",
      "14        541.19       7168207               37333.413195   \n",
      "15        674.76       7168207               39846.434361   \n",
      "\n",
      "    muertes_esperadas_mujeres  muertes_esperadas  tma_20132015  porc_20132015  \n",
      "0                23607.639168       61251.618949        854.49           1.40  \n",
      "1                27128.283367       70754.048513        987.05           2.95  \n",
      "2                24144.456615       61334.479251        855.65           1.47  \n",
      "3                21972.150983       55619.670877        775.92           4.06  \n",
      "4                23850.160440       61595.233227        859.28          11.85  \n",
      "5                23842.330383       60462.051084        843.48           5.22  \n",
      "6                25166.720664       64588.063204        901.04           6.25  \n",
      "7                24278.544250       63377.457520        884.15           9.24  \n",
      "8                25252.924217       65300.906808        910.98           6.19  \n",
      "9                24845.136220       67133.817180        936.55           5.01  \n",
      "10               29394.512992       77364.212871       1079.27           0.48  \n",
      "11               25477.902351       66856.126343        932.68           1.01  \n",
      "12               23378.885290       60624.510756        845.74          37.86  \n",
      "13               26549.763481       69519.492857        969.83           2.53  \n",
      "14               24085.140203       61418.553397        856.82           1.21  \n",
      "15               25109.834385       64956.268746        906.17           3.25   \n"
     ]
    }
   ],
   "source": [
    "print(f\"mortalidad por región 2010-2012 \\n {mort_20102012} \\\n",
    "\\n\\n mortalidad por region 2013-2015 \\n {mort_20132015} \")"
   ]
  },
  {
   "cell_type": "code",
   "execution_count": 97,
   "id": "e8ae4d49-6bf9-469b-9121-6c154e615826",
   "metadata": {
    "tags": []
   },
   "outputs": [
    {
     "name": "stdout",
     "output_type": "stream",
     "text": [
      "\\begin{tabular}{lrrrr}\n",
      "\\toprule\n",
      "                            Nombre Region &  muerto &  porc\\_20102012 &  tbm\\_20102012 &  tma\\_20102012 \\\\\n",
      "\\midrule\n",
      "Aysén del General Carlos Ibáñez del Campo &    1802 &           0.62 &        593.27 &       1200.42 \\\\\n",
      "                              Antofagasta &    8289 &           2.84 &        484.48 &       1075.39 \\\\\n",
      "                                 Los Ríos &    7754 &           2.66 &        671.75 &       1046.36 \\\\\n",
      "                                Los Lagos &   14491 &           4.97 &        584.79 &       1028.08 \\\\\n",
      "     Magallanes y de la Antártica Chilena &    2971 &           1.02 &        609.63 &       1015.95 \\\\\n",
      "                                    Maule &   18713 &           6.42 &        608.64 &        993.20 \\\\\n",
      "                             La Araucanía &   18104 &           6.21 &        630.95 &        990.17 \\\\\n",
      "                                    Ñuble &    9496 &           3.26 &        658.20 &        990.09 \\\\\n",
      "                                   Biobío &   26732 &           9.17 &        565.17 &        972.10 \\\\\n",
      "                                 Tarapacá &    3899 &           1.34 &        431.58 &        958.15 \\\\\n",
      "                       Arica y Parinacota &    3418 &           1.17 &        520.98 &        954.64 \\\\\n",
      "                               Valparaíso &   34301 &          11.76 &        647.23 &        943.76 \\\\\n",
      "                                  Atacama &    4301 &           1.47 &        496.05 &        939.37 \\\\\n",
      "    Libertador General Bernardo O'Higgins &   15155 &           5.20 &        566.23 &        935.67 \\\\\n",
      "                Metropolitana de Santiago &  110616 &          37.93 &        527.93 &        927.01 \\\\\n",
      "                                 Coquimbo &   11584 &           3.97 &        537.22 &        866.14 \\\\\n",
      "\\bottomrule\n",
      "\\end{tabular}\n",
      "\n",
      "\\begin{tabular}{lrrrr}\n",
      "\\toprule\n",
      "                            Nombre Region &  muerto &  porc\\_20132015 &  tbm\\_20132015 &  tma\\_20132015 \\\\\n",
      "\\midrule\n",
      "Aysén del General Carlos Ibáñez del Campo &    1474 &           0.48 &        474.97 &       1079.27 \\\\\n",
      "                              Antofagasta &    8984 &           2.95 &        502.33 &        987.05 \\\\\n",
      "                                 Los Ríos &    7709 &           2.53 &        656.13 &        969.83 \\\\\n",
      "                                Los Lagos &   15296 &           5.01 &        600.49 &        936.55 \\\\\n",
      "     Magallanes y de la Antártica Chilena &    3088 &           1.01 &        618.31 &        932.68 \\\\\n",
      "                             La Araucanía &   18884 &           6.19 &        645.36 &        910.98 \\\\\n",
      "                                    Ñuble &    9922 &           3.25 &        674.76 &        906.17 \\\\\n",
      "                                    Maule &   19068 &           6.25 &        601.71 &        901.04 \\\\\n",
      "                                   Biobío &   28197 &           9.24 &        584.87 &        884.15 \\\\\n",
      "                               Valparaíso &   36142 &          11.85 &        660.19 &        859.28 \\\\\n",
      "                       Arica y Parinacota &    3701 &           1.21 &        541.19 &        856.82 \\\\\n",
      "                                  Atacama &    4492 &           1.47 &        503.23 &        855.65 \\\\\n",
      "                                 Tarapacá &    4285 &           1.40 &        444.03 &        854.49 \\\\\n",
      "                Metropolitana de Santiago &  115488 &          37.86 &        534.47 &        845.74 \\\\\n",
      "    Libertador General Bernardo O'Higgins &   15934 &           5.22 &        576.14 &        843.48 \\\\\n",
      "                                 Coquimbo &   12372 &           4.06 &        545.91 &        775.92 \\\\\n",
      "\\bottomrule\n",
      "\\end{tabular}\n",
      "\n"
     ]
    }
   ],
   "source": [
    "print(mort_20102012[['Nombre Region','muerto','porc_20102012','tbm_20102012', 'tma_20102012']].sort_values(by='tma_20102012', ascending=False).to_latex(index=False))\n",
    "\n",
    "print(mort_20132015[['Nombre Region','muerto','porc_20132015','tbm_20132015', 'tma_20132015']].sort_values(by='tma_20132015', ascending=False).to_latex(index=False))"
   ]
  },
  {
   "cell_type": "code",
   "execution_count": null,
   "id": "e305c4c5-35a2-4c6a-96fe-4aa69d0ecc16",
   "metadata": {},
   "outputs": [],
   "source": []
  },
  {
   "cell_type": "code",
   "execution_count": null,
   "id": "67ec8e27-b8d6-469b-bc22-003c119d8314",
   "metadata": {},
   "outputs": [],
   "source": []
  },
  {
   "cell_type": "code",
   "execution_count": null,
   "id": "169faa53-16b0-4841-af37-46df75d5ebb3",
   "metadata": {},
   "outputs": [],
   "source": []
  },
  {
   "cell_type": "code",
   "execution_count": null,
   "id": "0c228b22-c6ae-4e08-a927-a789f584860c",
   "metadata": {},
   "outputs": [],
   "source": []
  },
  {
   "cell_type": "code",
   "execution_count": null,
   "id": "820c89ea-4504-42bb-8296-5affc5f32f98",
   "metadata": {},
   "outputs": [],
   "source": []
  },
  {
   "cell_type": "code",
   "execution_count": null,
   "id": "4d9f7eaa-2719-489b-bb90-82cc1667d0f2",
   "metadata": {},
   "outputs": [],
   "source": []
  },
  {
   "cell_type": "markdown",
   "id": "12984a7b-744e-420c-8b5f-6beb5cc28cb7",
   "metadata": {},
   "source": [
    "# Separar los df de mortalidad"
   ]
  },
  {
   "cell_type": "markdown",
   "id": "e9b3959a-e49c-4398-ad49-a37401c6b457",
   "metadata": {},
   "source": [
    "## Por quinquenios"
   ]
  },
  {
   "cell_type": "code",
   "execution_count": 98,
   "id": "677ca4af-32de-477e-b61d-ff7ee9061285",
   "metadata": {},
   "outputs": [],
   "source": [
    "df_q1 = df.query('ANO_DEF >= 2009 & ANO_DEF <= 2013')\n",
    "df_q2 = df.query('ANO_DEF >= 2014 & ANO_DEF <= 2018')"
   ]
  },
  {
   "cell_type": "markdown",
   "id": "c711dc74-5fbf-484c-b838-67293dc1a0a9",
   "metadata": {},
   "source": [
    "## df pais y df_region"
   ]
  },
  {
   "cell_type": "code",
   "execution_count": 99,
   "id": "4ca3b977-0531-4ed4-a236-d787ecbf413f",
   "metadata": {},
   "outputs": [],
   "source": [
    "df_q1_afta = df_q1.query('REG_RES == 2')\n",
    "df_q2_afta = df_q2.query('REG_RES == 2')"
   ]
  },
  {
   "cell_type": "markdown",
   "id": "ed93c3c9-39d5-4094-af3c-19ed38da8e4f",
   "metadata": {},
   "source": [
    "# GROUPBY"
   ]
  },
  {
   "cell_type": "markdown",
   "id": "bb8f13b7-3c93-4ce0-a018-9fa2bbe0c577",
   "metadata": {},
   "source": [
    "## Groupby por región"
   ]
  },
  {
   "cell_type": "code",
   "execution_count": 100,
   "id": "cec2683f-551c-43b5-88f1-825cb205e32d",
   "metadata": {},
   "outputs": [],
   "source": [
    "region_q1 = df_q1.groupby('REG_RES', as_index = False)['ANO_DEF'].count().rename(columns={'ANO_DEF':'def_q1', 'REG_RES':'Region'}).copy()\n",
    "region_q2 = df_q2.groupby('REG_RES', as_index = False)['ANO_DEF'].count().rename(columns={'ANO_DEF':'def_q2', 'REG_RES':'Region'}).copy()"
   ]
  },
  {
   "cell_type": "code",
   "execution_count": 101,
   "id": "6a53b7b2-a5d7-44e4-bcd3-4adfbfc89788",
   "metadata": {},
   "outputs": [],
   "source": [
    "def_region = pd.merge(region_q1, region_q2)"
   ]
  },
  {
   "cell_type": "code",
   "execution_count": 102,
   "id": "95860f52-0569-45f5-ac0d-714bf765da04",
   "metadata": {
    "tags": []
   },
   "outputs": [
    {
     "data": {
      "text/html": [
       "<div>\n",
       "<style scoped>\n",
       "    .dataframe tbody tr th:only-of-type {\n",
       "        vertical-align: middle;\n",
       "    }\n",
       "\n",
       "    .dataframe tbody tr th {\n",
       "        vertical-align: top;\n",
       "    }\n",
       "\n",
       "    .dataframe thead th {\n",
       "        text-align: right;\n",
       "    }\n",
       "</style>\n",
       "<table border=\"1\" class=\"dataframe\">\n",
       "  <thead>\n",
       "    <tr style=\"text-align: right;\">\n",
       "      <th></th>\n",
       "      <th>Region</th>\n",
       "      <th>def_q1</th>\n",
       "      <th>def_q2</th>\n",
       "    </tr>\n",
       "  </thead>\n",
       "  <tbody>\n",
       "    <tr>\n",
       "      <th>0</th>\n",
       "      <td>1</td>\n",
       "      <td>5347</td>\n",
       "      <td>7087</td>\n",
       "    </tr>\n",
       "    <tr>\n",
       "      <th>1</th>\n",
       "      <td>2</td>\n",
       "      <td>11172</td>\n",
       "      <td>15390</td>\n",
       "    </tr>\n",
       "    <tr>\n",
       "      <th>2</th>\n",
       "      <td>3</td>\n",
       "      <td>5755</td>\n",
       "      <td>7662</td>\n",
       "    </tr>\n",
       "    <tr>\n",
       "      <th>3</th>\n",
       "      <td>4</td>\n",
       "      <td>15665</td>\n",
       "      <td>21485</td>\n",
       "    </tr>\n",
       "    <tr>\n",
       "      <th>4</th>\n",
       "      <td>5</td>\n",
       "      <td>46063</td>\n",
       "      <td>62288</td>\n",
       "    </tr>\n",
       "    <tr>\n",
       "      <th>5</th>\n",
       "      <td>6</td>\n",
       "      <td>20317</td>\n",
       "      <td>27329</td>\n",
       "    </tr>\n",
       "    <tr>\n",
       "      <th>6</th>\n",
       "      <td>7</td>\n",
       "      <td>25096</td>\n",
       "      <td>32803</td>\n",
       "    </tr>\n",
       "    <tr>\n",
       "      <th>7</th>\n",
       "      <td>8</td>\n",
       "      <td>35988</td>\n",
       "      <td>48190</td>\n",
       "    </tr>\n",
       "    <tr>\n",
       "      <th>8</th>\n",
       "      <td>9</td>\n",
       "      <td>24338</td>\n",
       "      <td>32373</td>\n",
       "    </tr>\n",
       "    <tr>\n",
       "      <th>9</th>\n",
       "      <td>10</td>\n",
       "      <td>19627</td>\n",
       "      <td>25949</td>\n",
       "    </tr>\n",
       "    <tr>\n",
       "      <th>10</th>\n",
       "      <td>11</td>\n",
       "      <td>2295</td>\n",
       "      <td>2495</td>\n",
       "    </tr>\n",
       "    <tr>\n",
       "      <th>11</th>\n",
       "      <td>12</td>\n",
       "      <td>3931</td>\n",
       "      <td>5392</td>\n",
       "    </tr>\n",
       "    <tr>\n",
       "      <th>12</th>\n",
       "      <td>13</td>\n",
       "      <td>148181</td>\n",
       "      <td>197548</td>\n",
       "    </tr>\n",
       "    <tr>\n",
       "      <th>13</th>\n",
       "      <td>14</td>\n",
       "      <td>10259</td>\n",
       "      <td>13272</td>\n",
       "    </tr>\n",
       "    <tr>\n",
       "      <th>14</th>\n",
       "      <td>15</td>\n",
       "      <td>4669</td>\n",
       "      <td>6455</td>\n",
       "    </tr>\n",
       "    <tr>\n",
       "      <th>15</th>\n",
       "      <td>16</td>\n",
       "      <td>12693</td>\n",
       "      <td>16740</td>\n",
       "    </tr>\n",
       "  </tbody>\n",
       "</table>\n",
       "</div>"
      ],
      "text/plain": [
       "    Region  def_q1  def_q2\n",
       "0        1    5347    7087\n",
       "1        2   11172   15390\n",
       "2        3    5755    7662\n",
       "3        4   15665   21485\n",
       "4        5   46063   62288\n",
       "5        6   20317   27329\n",
       "6        7   25096   32803\n",
       "7        8   35988   48190\n",
       "8        9   24338   32373\n",
       "9       10   19627   25949\n",
       "10      11    2295    2495\n",
       "11      12    3931    5392\n",
       "12      13  148181  197548\n",
       "13      14   10259   13272\n",
       "14      15    4669    6455\n",
       "15      16   12693   16740"
      ]
     },
     "execution_count": 102,
     "metadata": {},
     "output_type": "execute_result"
    }
   ],
   "source": [
    "def_region"
   ]
  },
  {
   "cell_type": "markdown",
   "id": "476fe091-6bc2-4aff-826e-763e900264cb",
   "metadata": {},
   "source": [
    "## Groupby por comuna"
   ]
  },
  {
   "cell_type": "code",
   "execution_count": 103,
   "id": "f2a48f0d-c958-49e9-8e11-8a115e7a4013",
   "metadata": {},
   "outputs": [],
   "source": [
    "afta_1 = df_q1_afta.groupby('COMUNA', as_index = False)['ANO_DEF'].count().rename(columns={'ANO_DEF':'def_q1', 'COMUNA':'Comuna'}).copy()\n",
    "afta_2 = df_q2_afta.groupby('COMUNA', as_index = False)['ANO_DEF'].count().rename(columns={'ANO_DEF':'def_q2', 'COMUNA':'Comuna'}).copy()"
   ]
  },
  {
   "cell_type": "code",
   "execution_count": 104,
   "id": "8c83476b-a0a2-428d-8587-1b967c8bfab0",
   "metadata": {},
   "outputs": [],
   "source": [
    "def_comuna = pd.merge(afta_1, afta_2)"
   ]
  },
  {
   "cell_type": "code",
   "execution_count": 105,
   "id": "157c42c4-0499-4233-99e1-0c4490d28172",
   "metadata": {},
   "outputs": [
    {
     "data": {
      "text/html": [
       "<div>\n",
       "<style scoped>\n",
       "    .dataframe tbody tr th:only-of-type {\n",
       "        vertical-align: middle;\n",
       "    }\n",
       "\n",
       "    .dataframe tbody tr th {\n",
       "        vertical-align: top;\n",
       "    }\n",
       "\n",
       "    .dataframe thead th {\n",
       "        text-align: right;\n",
       "    }\n",
       "</style>\n",
       "<table border=\"1\" class=\"dataframe\">\n",
       "  <thead>\n",
       "    <tr style=\"text-align: right;\">\n",
       "      <th></th>\n",
       "      <th>Comuna</th>\n",
       "      <th>def_q1</th>\n",
       "      <th>def_q2</th>\n",
       "    </tr>\n",
       "  </thead>\n",
       "  <tbody>\n",
       "    <tr>\n",
       "      <th>0</th>\n",
       "      <td>2101</td>\n",
       "      <td>7319</td>\n",
       "      <td>10099</td>\n",
       "    </tr>\n",
       "    <tr>\n",
       "      <th>1</th>\n",
       "      <td>2102</td>\n",
       "      <td>176</td>\n",
       "      <td>220</td>\n",
       "    </tr>\n",
       "    <tr>\n",
       "      <th>2</th>\n",
       "      <td>2103</td>\n",
       "      <td>21</td>\n",
       "      <td>18</td>\n",
       "    </tr>\n",
       "    <tr>\n",
       "      <th>3</th>\n",
       "      <td>2104</td>\n",
       "      <td>277</td>\n",
       "      <td>374</td>\n",
       "    </tr>\n",
       "    <tr>\n",
       "      <th>4</th>\n",
       "      <td>2201</td>\n",
       "      <td>2544</td>\n",
       "      <td>3506</td>\n",
       "    </tr>\n",
       "    <tr>\n",
       "      <th>5</th>\n",
       "      <td>2202</td>\n",
       "      <td>2</td>\n",
       "      <td>2</td>\n",
       "    </tr>\n",
       "    <tr>\n",
       "      <th>6</th>\n",
       "      <td>2203</td>\n",
       "      <td>79</td>\n",
       "      <td>151</td>\n",
       "    </tr>\n",
       "    <tr>\n",
       "      <th>7</th>\n",
       "      <td>2301</td>\n",
       "      <td>713</td>\n",
       "      <td>946</td>\n",
       "    </tr>\n",
       "    <tr>\n",
       "      <th>8</th>\n",
       "      <td>2302</td>\n",
       "      <td>41</td>\n",
       "      <td>74</td>\n",
       "    </tr>\n",
       "  </tbody>\n",
       "</table>\n",
       "</div>"
      ],
      "text/plain": [
       "   Comuna  def_q1  def_q2\n",
       "0    2101    7319   10099\n",
       "1    2102     176     220\n",
       "2    2103      21      18\n",
       "3    2104     277     374\n",
       "4    2201    2544    3506\n",
       "5    2202       2       2\n",
       "6    2203      79     151\n",
       "7    2301     713     946\n",
       "8    2302      41      74"
      ]
     },
     "execution_count": 105,
     "metadata": {},
     "output_type": "execute_result"
    }
   ],
   "source": [
    "def_comuna"
   ]
  },
  {
   "cell_type": "markdown",
   "id": "d6e914a7-c8b2-459e-b985-baff394f4f98",
   "metadata": {},
   "source": [
    "# Poblaciones"
   ]
  },
  {
   "cell_type": "markdown",
   "id": "7a7c43a8-73ef-41f8-a0b7-e7150acc8cbe",
   "metadata": {},
   "source": [
    "## poblacion 2009-2013 y 2014-2018"
   ]
  },
  {
   "cell_type": "markdown",
   "id": "cf2a1452-0d50-4dc1-ba9c-8e5d58a9dabd",
   "metadata": {},
   "source": [
    "### por region"
   ]
  },
  {
   "cell_type": "code",
   "execution_count": 106,
   "id": "e6c4f1d5-984a-4cfc-9c1e-a44f72b43571",
   "metadata": {},
   "outputs": [],
   "source": [
    "#path = \"D:\\\\Datasets\\\\poblacion\\\\pob_ine_censo2017_proyecciones.xlsx\"\n",
    "path = \"/Users/alvaro/Documents/Data_Science/datasets/poblacion/estimaciones-y-proyecciones-2002-2035-comunas.xlsx\"\n"
   ]
  },
  {
   "cell_type": "code",
   "execution_count": 107,
   "id": "5354a313-0317-4b83-b657-e9697b892c47",
   "metadata": {},
   "outputs": [
    {
     "ename": "NameError",
     "evalue": "name 'pob' is not defined",
     "output_type": "error",
     "traceback": [
      "\u001b[0;31m---------------------------------------------------------------------------\u001b[0m",
      "\u001b[0;31mNameError\u001b[0m                                 Traceback (most recent call last)",
      "\u001b[0;32m/var/folders/bn/1gnxsrr57psgnfmcg9tz005m0000gn/T/ipykernel_21707/3612208126.py\u001b[0m in \u001b[0;36m<module>\u001b[0;34m\u001b[0m\n\u001b[0;32m----> 1\u001b[0;31m \u001b[0mpob_r\u001b[0m \u001b[0;34m=\u001b[0m \u001b[0mpob\u001b[0m\u001b[0;34m.\u001b[0m\u001b[0mgroupby\u001b[0m\u001b[0;34m(\u001b[0m\u001b[0;34m[\u001b[0m\u001b[0;34m'Region'\u001b[0m\u001b[0;34m,\u001b[0m \u001b[0;34m'Nombre Region'\u001b[0m\u001b[0;34m]\u001b[0m\u001b[0;34m,\u001b[0m \u001b[0mas_index\u001b[0m\u001b[0;34m=\u001b[0m\u001b[0;32mFalse\u001b[0m\u001b[0;34m)\u001b[0m\u001b[0;34m.\u001b[0m\u001b[0msum\u001b[0m\u001b[0;34m(\u001b[0m\u001b[0;34m)\u001b[0m\u001b[0;34m\u001b[0m\u001b[0;34m\u001b[0m\u001b[0m\n\u001b[0m",
      "\u001b[0;31mNameError\u001b[0m: name 'pob' is not defined"
     ]
    }
   ],
   "source": [
    "pob_r = pob.groupby(['Region', 'Nombre Region'], as_index=False).sum()"
   ]
  },
  {
   "cell_type": "code",
   "execution_count": null,
   "id": "bb424e2a-866c-44ca-a535-e5bcee2fa8ff",
   "metadata": {},
   "outputs": [],
   "source": [
    "años = [2009, 2013]\n",
    "periodo = años[1] - años[0]\n",
    "\n",
    "año_variable = 0\n",
    "for i in range(0, periodo+1):\n",
    "    #print(i)\n",
    "    año = años[0] + i \n",
    "    print(año)\n",
    "    \n",
    "    "
   ]
  },
  {
   "cell_type": "code",
   "execution_count": null,
   "id": "26972af7-238b-4bdb-8384-861a4f51fb96",
   "metadata": {},
   "outputs": [],
   "source": [
    "pob_r['pob_1'] = pob_r['Poblacion 2009'] + pob_r['Poblacion 2010'] + pob_r['Poblacion 2011'] + pob_r['Poblacion 2012'] + pob_r['Poblacion 2013']\n",
    "pob_r['pob_2'] = pob_r['Poblacion 2014'] + pob_r['Poblacion 2015'] + pob_r['Poblacion 2016'] + pob_r['Poblacion 2017'] + pob_r['Poblacion 2018']\n",
    "pob_r = pob_r[['Region', 'Nombre Region','pob_1','pob_2']]"
   ]
  },
  {
   "cell_type": "code",
   "execution_count": null,
   "id": "807b309a-7cd9-4ba2-8c37-de7d2929229d",
   "metadata": {
    "tags": []
   },
   "outputs": [],
   "source": [
    "pob_r"
   ]
  },
  {
   "cell_type": "markdown",
   "id": "af714c83-9137-4e13-b6ee-1dd7b371f62c",
   "metadata": {},
   "source": [
    "### por comunas"
   ]
  },
  {
   "cell_type": "code",
   "execution_count": null,
   "id": "1fdf3092-13f5-45c8-8c12-60172771ddf0",
   "metadata": {},
   "outputs": [],
   "source": [
    "pob_c = pob.query('Region == 2').groupby(['Comuna', 'Nombre Comuna'], as_index=False).sum()"
   ]
  },
  {
   "cell_type": "code",
   "execution_count": null,
   "id": "ec544951-1aa1-4dc3-8442-db44b4236630",
   "metadata": {},
   "outputs": [],
   "source": [
    "pob_c['pob_1'] = pob_c['Poblacion 2009'] + pob_c['Poblacion 2010'] + pob_c['Poblacion 2011'] + pob_c['Poblacion 2012'] + pob_c['Poblacion 2013']\n",
    "pob_c['pob_2'] = pob_c['Poblacion 2014'] + pob_c['Poblacion 2015'] + pob_c['Poblacion 2016'] + pob_c['Poblacion 2017'] + pob_c['Poblacion 2018']\n",
    "pob_c = pob_c[['Comuna', 'Nombre Comuna','pob_1','pob_2']]"
   ]
  },
  {
   "cell_type": "code",
   "execution_count": null,
   "id": "0c9920a7-43e9-466c-af15-845da83e070d",
   "metadata": {},
   "outputs": [],
   "source": [
    "pob_c"
   ]
  },
  {
   "cell_type": "markdown",
   "id": "9183d9ea-ded0-46d6-bb5d-c4f0f869daf2",
   "metadata": {},
   "source": [
    "# Unir los dataframes"
   ]
  },
  {
   "cell_type": "code",
   "execution_count": null,
   "id": "67aa8948-478b-4e2f-8704-13ed5752cefa",
   "metadata": {},
   "outputs": [],
   "source": [
    "mortalidad_region = pd.merge(def_region, pob_r)\n",
    "mortalidad_comuna = pd.merge(def_comuna, pob_c)"
   ]
  },
  {
   "cell_type": "code",
   "execution_count": null,
   "id": "dc05f5f4-6243-4827-b146-cb040ded1b73",
   "metadata": {
    "tags": []
   },
   "outputs": [],
   "source": [
    "mortalidad_region"
   ]
  },
  {
   "cell_type": "code",
   "execution_count": null,
   "id": "8dc029f3-4900-4676-ab81-eb71dbf4fae0",
   "metadata": {},
   "outputs": [],
   "source": [
    "mortalidad_comuna"
   ]
  },
  {
   "cell_type": "markdown",
   "id": "beaff00a-58d9-4f9b-8832-4520ba590cf3",
   "metadata": {},
   "source": [
    "# Cálculo de totales"
   ]
  },
  {
   "cell_type": "markdown",
   "id": "8caded1f-3242-4131-a1c0-bcef79062c20",
   "metadata": {},
   "source": [
    "## Total país"
   ]
  },
  {
   "cell_type": "code",
   "execution_count": null,
   "id": "8742bc3b-72a0-4235-9c34-74554f5d8eff",
   "metadata": {},
   "outputs": [],
   "source": [
    "total = mortalidad_region.values.tolist()"
   ]
  },
  {
   "cell_type": "code",
   "execution_count": null,
   "id": "58c68765-46ac-437d-a01c-fbbe31ccb175",
   "metadata": {
    "tags": []
   },
   "outputs": [],
   "source": [
    "total_def1 = 0\n",
    "total_def2 = 0\n",
    "total_pob1 = 0 \n",
    "total_pob2 = 0\n",
    "\n",
    "for i in total:\n",
    "    total_def1 += i[1]\n",
    "    total_def2 += i[2]\n",
    "    total_pob1 += i[4]\n",
    "    total_pob2 += i[5]\n",
    "print(f\"def 1 {total_def1} \\n\\ndef 2 {total_def2} \\n\\npob 1 {total_pob1} \\n\\npob 2 {total_pob2}\")"
   ]
  },
  {
   "cell_type": "code",
   "execution_count": null,
   "id": "bd186af1-0524-4bf8-9c99-f7d0b725d736",
   "metadata": {},
   "outputs": [],
   "source": [
    "datos = {'Region':999, 'def_q1': total_def1, 'def_q2':total_def2, 'Nombre Region': 'Total Pais', 'pob_1':total_pob1 , 'pob_2':total_pob2}\n",
    "mortalidad_region = mortalidad_region.append(datos, ignore_index=True)"
   ]
  },
  {
   "cell_type": "code",
   "execution_count": null,
   "id": "ac6798be-75d1-4111-a49b-230d8a069e16",
   "metadata": {
    "tags": []
   },
   "outputs": [],
   "source": [
    "mortalidad_region"
   ]
  },
  {
   "cell_type": "markdown",
   "id": "f6000f2e-5122-42b9-a0cd-d674df8cb8b7",
   "metadata": {},
   "source": [
    "## Total comunas"
   ]
  },
  {
   "cell_type": "code",
   "execution_count": null,
   "id": "4a5aca16-217b-4c7e-be3f-eb981d451d42",
   "metadata": {},
   "outputs": [],
   "source": [
    "total = mortalidad_comuna.values.tolist()"
   ]
  },
  {
   "cell_type": "code",
   "execution_count": null,
   "id": "f501cdb5-0e70-4a69-ba4a-918c65006e27",
   "metadata": {
    "tags": []
   },
   "outputs": [],
   "source": [
    "total_def1 = 0\n",
    "total_def2 = 0\n",
    "total_pob1 = 0 \n",
    "total_pob2 = 0\n",
    "\n",
    "for i in total:\n",
    "    total_def1 += i[1]\n",
    "    total_def2 += i[2]\n",
    "    total_pob1 += i[4]\n",
    "    total_pob2 += i[5]\n",
    "print(f\"def 1 {total_def1} \\n\\ndef 2 {total_def2} \\n\\npob 1 {total_pob1} \\n\\npob 2 {total_pob2}\")"
   ]
  },
  {
   "cell_type": "code",
   "execution_count": null,
   "id": "78a6b99c-8d08-4c0f-a6f7-6eeb071bad1f",
   "metadata": {},
   "outputs": [],
   "source": [
    "datos = {'Comuna':999, 'def_q1': total_def1, 'def_q2':total_def2, 'Nombre Comuna': 'Total Región', 'pob_1':total_pob1 , 'pob_2':total_pob2}\n",
    "mortalidad_comuna = mortalidad_comuna.append(datos, ignore_index=True)"
   ]
  },
  {
   "cell_type": "code",
   "execution_count": null,
   "id": "ded8ced5-eba7-4e5d-913b-617be9f09fea",
   "metadata": {
    "tags": []
   },
   "outputs": [],
   "source": [
    "mortalidad_comuna"
   ]
  },
  {
   "cell_type": "markdown",
   "id": "a8b5426b-fd20-4c7b-b4f2-d0efcd238cde",
   "metadata": {},
   "source": [
    "# Cálculo de la tasa de mortalidad"
   ]
  },
  {
   "cell_type": "markdown",
   "id": "5754726f-3aeb-4abc-82c0-0afe74e6e0f4",
   "metadata": {},
   "source": [
    "## Por región"
   ]
  },
  {
   "cell_type": "code",
   "execution_count": null,
   "id": "71dadf08-7506-4254-b189-38cde1019677",
   "metadata": {},
   "outputs": [],
   "source": [
    "mortalidad_region['tmb_1'] = round((mortalidad_region['def_q1']/5)/(mortalidad_region['pob_1']/5)*100000,2)\n",
    "mortalidad_region['tmb_2'] = round((mortalidad_region['def_q2']/5)/(mortalidad_region['pob_2']/5)*100000,2)"
   ]
  },
  {
   "cell_type": "code",
   "execution_count": null,
   "id": "84eaa449-dd0e-4824-9af1-894cdb7d599a",
   "metadata": {},
   "outputs": [],
   "source": [
    "mortalidad_region"
   ]
  },
  {
   "cell_type": "markdown",
   "id": "4043fb48-2291-4fe0-93de-28926fafde52",
   "metadata": {},
   "source": [
    "## Por comuna"
   ]
  },
  {
   "cell_type": "code",
   "execution_count": null,
   "id": "4e558765-c3d9-4a6b-bd85-d76ad08ddc0c",
   "metadata": {},
   "outputs": [],
   "source": [
    "mortalidad_comuna['tmb_1'] = round((mortalidad_comuna['def_q1']/5)/(mortalidad_comuna['pob_1']/5)*100000,2)\n",
    "mortalidad_comuna['tmb_2'] = round((mortalidad_comuna['def_q2']/5)/(mortalidad_comuna['pob_2']/5)*100000,2)"
   ]
  },
  {
   "cell_type": "code",
   "execution_count": null,
   "id": "8fca10d8-0b75-4093-9160-2031a3e38335",
   "metadata": {},
   "outputs": [],
   "source": [
    "mortalidad_comuna"
   ]
  }
 ],
 "metadata": {
  "kernelspec": {
   "display_name": "Python 3 (ipykernel)",
   "language": "python",
   "name": "python3"
  },
  "language_info": {
   "codemirror_mode": {
    "name": "ipython",
    "version": 3
   },
   "file_extension": ".py",
   "mimetype": "text/x-python",
   "name": "python",
   "nbconvert_exporter": "python",
   "pygments_lexer": "ipython3",
   "version": "3.9.7"
  }
 },
 "nbformat": 4,
 "nbformat_minor": 5
}
